{
  "nbformat": 4,
  "nbformat_minor": 0,
  "metadata": {
    "colab": {
      "provenance": [],
      "authorship_tag": "ABX9TyM/v6qnAIszTSyXGDoovriw",
      "include_colab_link": true
    },
    "kernelspec": {
      "name": "python3",
      "display_name": "Python 3"
    },
    "language_info": {
      "name": "python"
    }
  },
  "cells": [
    {
      "cell_type": "markdown",
      "metadata": {
        "id": "view-in-github",
        "colab_type": "text"
      },
      "source": [
        "<a href=\"https://colab.research.google.com/github/Alexandre77777/neural_networks/blob/main/4.%20%D0%9F%D0%BE%D1%81%D1%82%D1%80%D0%BE%D0%B5%D0%BD%D0%B8%D0%B5%20%D0%B3%D0%BB%D1%83%D0%B1%D0%BE%D0%BA%D0%BE%D0%B9%20%D1%81%D0%B2%D0%B5%D1%80%D1%82%D0%BE%D1%87%D0%BD%D0%BE%D0%B9%20%D0%BD%D0%B5%D0%B9%D1%80%D0%BE%D0%BD%D0%BD%D0%BE%D0%B9%20%D1%81%D0%B5%D1%82%D0%B8%2C%20%D1%81%20%D0%B8%D1%81%D0%BF%D0%BE%D0%BB%D1%8C%D0%B7%D0%BE%D0%B2%D0%B0%D0%BD%D0%B8%D0%B5%D0%BC%20BatchNormalization()%20%D0%B8%20Dropout()/%D0%9F%D1%80%D0%B0%D0%BA%D1%82%D0%B8%D1%87%D0%B5%D1%81%D0%BA%D0%B0%D1%8F_%D1%80%D0%B0%D0%B1%D0%BE%D1%82%D0%B0_%E2%84%964_%D0%9F%D0%BE%D1%81%D1%82%D1%80%D0%BE%D0%B5%D0%BD%D0%B8%D0%B5_%D0%B3%D0%BB%D1%83%D0%B1%D0%BE%D0%BA%D0%BE%D0%B9_%D1%81%D0%B2%D0%B5%D1%80%D1%82%D0%BE%D1%87%D0%BD%D0%BE%D0%B9_%D0%BD%D0%B5%D0%B9%D1%80%D0%BE%D0%BD%D0%BD%D0%BE%D0%B9_%D1%81%D0%B5%D1%82%D0%B8_%D0%B4%D0%BB%D1%8F_%D0%BA%D0%BB%D0%B0%D1%81%D1%81%D0%B8%D1%84%D0%B8%D0%BA%D0%B0%D1%86%D0%B8%D0%B8_%D0%B8%D0%B7%D0%BE%D0%B1%D1%80%D0%B0%D0%B6%D0%B5%D0%BD%D0%B8%D0%B9%2C_%D1%81_%D0%B8%D1%81%D0%BF%D0%BE%D0%BB%D1%8C%D0%B7%D0%BE%D0%B2%D0%B0%D0%BD%D0%B8%D0%B5%D0%BC_BatchNormalization()_%D0%B8_Dropout().ipynb\" target=\"_parent\"><img src=\"https://colab.research.google.com/assets/colab-badge.svg\" alt=\"Open In Colab\"/></a>"
      ]
    },
    {
      "cell_type": "markdown",
      "source": [
        "# Практическая работа №4. Построение сверточной нейронной сети для классификации изображений, с использованием BatchNormalization() и Dropout()"
      ],
      "metadata": {
        "id": "5FTzd6Tr1HE6"
      }
    },
    {
      "cell_type": "markdown",
      "source": [
        "[Код с пары](https://colab.research.google.com/drive/1cvPrPI09ySQy-D92gKTzmanVi2cj5Gw_?usp=sharing)"
      ],
      "metadata": {
        "id": "gdX9a26i5B-4"
      }
    },
    {
      "cell_type": "markdown",
      "source": [
        "## Задание 1. Построение сверточной нейронной сети для классификации изображений из датасета CIFAR-100, с использованием BatchNormalization() и Dropout():"
      ],
      "metadata": {
        "id": "2p4UprMpnLch"
      }
    },
    {
      "cell_type": "markdown",
      "source": [
        "### 1.1. Загрузите исходный датасет. Разделите его на обучающую и тестовую выборки:\n",
        "\n",
        "*P.S.: Не забудьте обратить внимание на размерность (shape) исходных данных и при необходимости измените её (см. примеры из предыдущих занятий)*\n",
        "\n",
        "[Информация о датасете в Kaggle](https://www.kaggle.com/datasets/fedesoriano/cifar100?resource=download&select=meta)\n",
        "\n",
        "[Техническая документация по использованию датасета в Keras](https://keras.io/api/datasets/cifar100/)\n",
        "\n",
        "\n",
        "\n"
      ],
      "metadata": {
        "id": "PegOFe6t0NPk"
      }
    },
    {
      "cell_type": "code",
      "execution_count": null,
      "metadata": {
        "id": "SSerkZhqz-Zu"
      },
      "outputs": [],
      "source": [
        "# Ваш код #"
      ]
    },
    {
      "cell_type": "markdown",
      "source": [
        "### 1.2. Визуализируйте несколько изображений из датасета:\n"
      ],
      "metadata": {
        "id": "RoGjUIWMneVq"
      }
    },
    {
      "cell_type": "code",
      "source": [
        "# Ваш код #"
      ],
      "metadata": {
        "id": "zp4Q9ABUnstt"
      },
      "execution_count": null,
      "outputs": []
    },
    {
      "cell_type": "markdown",
      "source": [
        "### 1.3. Произведите нормализацию данных:"
      ],
      "metadata": {
        "id": "2l5xhJ7-ns-c"
      }
    },
    {
      "cell_type": "code",
      "source": [
        "# Ваш код #"
      ],
      "metadata": {
        "id": "R8EJx4sinwzK"
      },
      "execution_count": null,
      "outputs": []
    },
    {
      "cell_type": "markdown",
      "source": [
        "### 1.4. Создайте модель сверточной нейронной сети для решения поставленной задачи без использования BatchNormalization() и Dropout():\n",
        "\n",
        "Имя данной модели: model_1"
      ],
      "metadata": {
        "id": "ne7OBLid0NY-"
      }
    },
    {
      "cell_type": "code",
      "source": [
        "# Ваш код #"
      ],
      "metadata": {
        "id": "Gy0_n8G03kcU"
      },
      "execution_count": null,
      "outputs": []
    },
    {
      "cell_type": "markdown",
      "source": [
        "Обучите созданную модель"
      ],
      "metadata": {
        "id": "69zrqqaA5kOd"
      }
    },
    {
      "cell_type": "code",
      "source": [
        "# Ваш код #"
      ],
      "metadata": {
        "id": "6uBAnPDU5s5I"
      },
      "execution_count": null,
      "outputs": []
    },
    {
      "cell_type": "markdown",
      "source": [
        "### 1.5. Создайте модель сверточной нейронной сети для решения поставленной задачи с использованием BatchNormalization():\n",
        "\n",
        "Имя данной модели: model_2"
      ],
      "metadata": {
        "id": "07x5ciPl0Njy"
      }
    },
    {
      "cell_type": "code",
      "source": [
        "# Ваш код #"
      ],
      "metadata": {
        "id": "vy9H9gcJ3kzl"
      },
      "execution_count": null,
      "outputs": []
    },
    {
      "cell_type": "markdown",
      "source": [
        "Обучите созданную модель"
      ],
      "metadata": {
        "id": "7vrswF436DNo"
      }
    },
    {
      "cell_type": "code",
      "source": [
        "# Ваш код #"
      ],
      "metadata": {
        "id": "2xOOok5l6DNo"
      },
      "execution_count": null,
      "outputs": []
    },
    {
      "cell_type": "markdown",
      "source": [
        "### 1.6. Создайте модель сверточной нейронной сети для решения поставленной задачи с использованием Dropout():\n",
        "\n",
        "Имя данной модели: model_3"
      ],
      "metadata": {
        "id": "386TvloP3lJF"
      }
    },
    {
      "cell_type": "code",
      "source": [
        "# Ваш код #"
      ],
      "metadata": {
        "id": "e-tkmz9d3lXx"
      },
      "execution_count": null,
      "outputs": []
    },
    {
      "cell_type": "markdown",
      "source": [
        "Обучите созданную модель"
      ],
      "metadata": {
        "id": "hehT-6re6RXv"
      }
    },
    {
      "cell_type": "code",
      "source": [
        "# Ваш код #"
      ],
      "metadata": {
        "id": "c6HNFpOE6RXw"
      },
      "execution_count": null,
      "outputs": []
    },
    {
      "cell_type": "markdown",
      "source": [
        "### 1.7. Создайте модель сверточной нейронной сети для решения поставленной задачи с использованием Dropout() и BatchNormalization().\n",
        "\n",
        "См. рекомендации [здесь](https://stackoverflow.com/questions/39691902/ordering-of-batch-normalization-and-dropout) и [здесь](https://www.kaggle.com/code/ryanholbrook/dropout-and-batch-normalization/)\n",
        "\n",
        "Имя данной модели: model_4"
      ],
      "metadata": {
        "id": "qz2qhKtu7Jgf"
      }
    },
    {
      "cell_type": "code",
      "source": [
        "# Ваш код #"
      ],
      "metadata": {
        "id": "dVuNM8lI7Jgo"
      },
      "execution_count": null,
      "outputs": []
    },
    {
      "cell_type": "markdown",
      "source": [
        "Обучите созданную модель"
      ],
      "metadata": {
        "id": "nES6ENxq7Jgp"
      }
    },
    {
      "cell_type": "code",
      "source": [
        "# Ваш код #"
      ],
      "metadata": {
        "id": "SWIPC22-7Jgp"
      },
      "execution_count": null,
      "outputs": []
    },
    {
      "cell_type": "markdown",
      "source": [
        "### Задание 1.8. Пойстройте график обучения для каждой модели. Сделайте выводы по каждому из них. Подведите итог и выделите наиболее удачную модель:"
      ],
      "metadata": {
        "id": "Y7QF9bQh72eV"
      }
    },
    {
      "cell_type": "code",
      "source": [
        "# Ваш код #"
      ],
      "metadata": {
        "id": "HvqpPVoV72te"
      },
      "execution_count": null,
      "outputs": []
    },
    {
      "cell_type": "markdown",
      "source": [
        "Ваши выводы"
      ],
      "metadata": {
        "id": "Ogg1lwqm9jKe"
      }
    },
    {
      "cell_type": "markdown",
      "source": [
        "Ваш итог"
      ],
      "metadata": {
        "id": "N9mdlVQc9jUb"
      }
    },
    {
      "cell_type": "markdown",
      "source": [
        "### 1.9. Визуализируйте карты активации модели с BatchNorm() и Dropout(),отдельно по каждому классу(!):"
      ],
      "metadata": {
        "id": "8PN3DsVguRHI"
      }
    },
    {
      "cell_type": "code",
      "source": [
        "# Ваш код #"
      ],
      "metadata": {
        "id": "yCwQ2fJkuemW"
      },
      "execution_count": null,
      "outputs": []
    },
    {
      "cell_type": "markdown",
      "source": [
        "## Задание 2. Загрузите Ваш датасет из предыдущей работы. Разделите его на обучающую и тестовую выборки. Обучите модель классификации с применением BatchNorm() и Dropout(). Сравните точность с моделями, обученными Вами ранее. Визуализируйте карты активаций."
      ],
      "metadata": {
        "id": "3hv4EOlgt4If"
      }
    },
    {
      "cell_type": "code",
      "source": [
        "# Ваш код #"
      ],
      "metadata": {
        "id": "3crPARhluPQ6"
      },
      "execution_count": null,
      "outputs": []
    }
  ]
}