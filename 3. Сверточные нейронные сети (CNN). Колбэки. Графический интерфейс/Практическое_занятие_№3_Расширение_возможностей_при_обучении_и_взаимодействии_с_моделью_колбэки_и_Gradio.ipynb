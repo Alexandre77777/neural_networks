{
  "cells": [
    {
      "cell_type": "markdown",
      "metadata": {
        "id": "view-in-github",
        "colab_type": "text"
      },
      "source": [
        "<a href=\"https://colab.research.google.com/github/Alexandre77777/neural_networks/blob/main/3.%20%D0%A1%D0%B2%D0%B5%D1%80%D1%82%D0%BE%D1%87%D0%BD%D1%8B%D0%B5%20%D0%BD%D0%B5%D0%B9%D1%80%D0%BE%D0%BD%D0%BD%D1%8B%D0%B5%20%D1%81%D0%B5%D1%82%D0%B8%20(CNN).%20%D0%9A%D0%BE%D0%BB%D0%B1%D1%8D%D0%BA%D0%B8.%20%D0%93%D1%80%D0%B0%D1%84%D0%B8%D1%87%D0%B5%D1%81%D0%BA%D0%B8%D0%B9%20%D0%B8%D0%BD%D1%82%D0%B5%D1%80%D1%84%D0%B5%D0%B9%D1%81/%D0%9F%D1%80%D0%B0%D0%BA%D1%82%D0%B8%D1%87%D0%B5%D1%81%D0%BA%D0%BE%D0%B5_%D0%B7%D0%B0%D0%BD%D1%8F%D1%82%D0%B8%D0%B5_%E2%84%963_%D0%A0%D0%B0%D1%81%D1%88%D0%B8%D1%80%D0%B5%D0%BD%D0%B8%D0%B5_%D0%B2%D0%BE%D0%B7%D0%BC%D0%BE%D0%B6%D0%BD%D0%BE%D1%81%D1%82%D0%B5%D0%B9_%D0%BF%D1%80%D0%B8_%D0%BE%D0%B1%D1%83%D1%87%D0%B5%D0%BD%D0%B8%D0%B8_%D0%B8_%D0%B2%D0%B7%D0%B0%D0%B8%D0%BC%D0%BE%D0%B4%D0%B5%D0%B9%D1%81%D1%82%D0%B2%D0%B8%D0%B8_%D1%81_%D0%BC%D0%BE%D0%B4%D0%B5%D0%BB%D1%8C%D1%8E_%D0%BA%D0%BE%D0%BB%D0%B1%D1%8D%D0%BA%D0%B8_%D0%B8_Gradio.ipynb\" target=\"_parent\"><img src=\"https://colab.research.google.com/assets/colab-badge.svg\" alt=\"Open In Colab\"/></a>"
      ]
    },
    {
      "cell_type": "markdown",
      "metadata": {
        "id": "oK3u9EdWGAN3"
      },
      "source": [
        "# **Практическое занятие №3. Расширение возможностей при обучении и взаимодействии с моделью: колбэки и Gradio**"
      ]
    },
    {
      "cell_type": "markdown",
      "metadata": {
        "id": "NDRg5oO-Kx-U"
      },
      "source": [
        "## Произведем рефакторинг основных решений из предыдущего занятия:"
      ]
    },
    {
      "cell_type": "markdown",
      "metadata": {
        "id": "y1FWR90xxpSl"
      },
      "source": [
        "# **1. Обучение модели ИНС для предсказывания цен на недвижимость. Решение задачи регрессии**\n"
      ]
    },
    {
      "cell_type": "markdown",
      "metadata": {
        "id": "3LkrhFC8QvOq"
      },
      "source": [
        "Будем работать с набором данным `fetch_california_housing` из `sklearn`."
      ]
    },
    {
      "cell_type": "code",
      "execution_count": 1,
      "metadata": {
        "colab": {
          "base_uri": "https://localhost:8080/",
          "height": 206
        },
        "id": "pDEf_L-lQvPA",
        "outputId": "5635f76b-b593-446f-f335-4a2a60f230bd"
      },
      "outputs": [
        {
          "output_type": "execute_result",
          "data": {
            "text/plain": [
              "   MedInc  HouseAge  AveRooms  AveBedrms  Population  AveOccup  Latitude  \\\n",
              "0  8.3252      41.0  6.984127   1.023810       322.0  2.555556     37.88   \n",
              "1  8.3014      21.0  6.238137   0.971880      2401.0  2.109842     37.86   \n",
              "2  7.2574      52.0  8.288136   1.073446       496.0  2.802260     37.85   \n",
              "3  5.6431      52.0  5.817352   1.073059       558.0  2.547945     37.85   \n",
              "4  3.8462      52.0  6.281853   1.081081       565.0  2.181467     37.85   \n",
              "\n",
              "   Longitude  \n",
              "0    -122.23  \n",
              "1    -122.22  \n",
              "2    -122.24  \n",
              "3    -122.25  \n",
              "4    -122.25  "
            ],
            "text/html": [
              "\n",
              "  <div id=\"df-227ffabd-b1f3-446c-bbe4-8744ed777693\" class=\"colab-df-container\">\n",
              "    <div>\n",
              "<style scoped>\n",
              "    .dataframe tbody tr th:only-of-type {\n",
              "        vertical-align: middle;\n",
              "    }\n",
              "\n",
              "    .dataframe tbody tr th {\n",
              "        vertical-align: top;\n",
              "    }\n",
              "\n",
              "    .dataframe thead th {\n",
              "        text-align: right;\n",
              "    }\n",
              "</style>\n",
              "<table border=\"1\" class=\"dataframe\">\n",
              "  <thead>\n",
              "    <tr style=\"text-align: right;\">\n",
              "      <th></th>\n",
              "      <th>MedInc</th>\n",
              "      <th>HouseAge</th>\n",
              "      <th>AveRooms</th>\n",
              "      <th>AveBedrms</th>\n",
              "      <th>Population</th>\n",
              "      <th>AveOccup</th>\n",
              "      <th>Latitude</th>\n",
              "      <th>Longitude</th>\n",
              "    </tr>\n",
              "  </thead>\n",
              "  <tbody>\n",
              "    <tr>\n",
              "      <th>0</th>\n",
              "      <td>8.3252</td>\n",
              "      <td>41.0</td>\n",
              "      <td>6.984127</td>\n",
              "      <td>1.023810</td>\n",
              "      <td>322.0</td>\n",
              "      <td>2.555556</td>\n",
              "      <td>37.88</td>\n",
              "      <td>-122.23</td>\n",
              "    </tr>\n",
              "    <tr>\n",
              "      <th>1</th>\n",
              "      <td>8.3014</td>\n",
              "      <td>21.0</td>\n",
              "      <td>6.238137</td>\n",
              "      <td>0.971880</td>\n",
              "      <td>2401.0</td>\n",
              "      <td>2.109842</td>\n",
              "      <td>37.86</td>\n",
              "      <td>-122.22</td>\n",
              "    </tr>\n",
              "    <tr>\n",
              "      <th>2</th>\n",
              "      <td>7.2574</td>\n",
              "      <td>52.0</td>\n",
              "      <td>8.288136</td>\n",
              "      <td>1.073446</td>\n",
              "      <td>496.0</td>\n",
              "      <td>2.802260</td>\n",
              "      <td>37.85</td>\n",
              "      <td>-122.24</td>\n",
              "    </tr>\n",
              "    <tr>\n",
              "      <th>3</th>\n",
              "      <td>5.6431</td>\n",
              "      <td>52.0</td>\n",
              "      <td>5.817352</td>\n",
              "      <td>1.073059</td>\n",
              "      <td>558.0</td>\n",
              "      <td>2.547945</td>\n",
              "      <td>37.85</td>\n",
              "      <td>-122.25</td>\n",
              "    </tr>\n",
              "    <tr>\n",
              "      <th>4</th>\n",
              "      <td>3.8462</td>\n",
              "      <td>52.0</td>\n",
              "      <td>6.281853</td>\n",
              "      <td>1.081081</td>\n",
              "      <td>565.0</td>\n",
              "      <td>2.181467</td>\n",
              "      <td>37.85</td>\n",
              "      <td>-122.25</td>\n",
              "    </tr>\n",
              "  </tbody>\n",
              "</table>\n",
              "</div>\n",
              "    <div class=\"colab-df-buttons\">\n",
              "\n",
              "  <div class=\"colab-df-container\">\n",
              "    <button class=\"colab-df-convert\" onclick=\"convertToInteractive('df-227ffabd-b1f3-446c-bbe4-8744ed777693')\"\n",
              "            title=\"Convert this dataframe to an interactive table.\"\n",
              "            style=\"display:none;\">\n",
              "\n",
              "  <svg xmlns=\"http://www.w3.org/2000/svg\" height=\"24px\" viewBox=\"0 -960 960 960\">\n",
              "    <path d=\"M120-120v-720h720v720H120Zm60-500h600v-160H180v160Zm220 220h160v-160H400v160Zm0 220h160v-160H400v160ZM180-400h160v-160H180v160Zm440 0h160v-160H620v160ZM180-180h160v-160H180v160Zm440 0h160v-160H620v160Z\"/>\n",
              "  </svg>\n",
              "    </button>\n",
              "\n",
              "  <style>\n",
              "    .colab-df-container {\n",
              "      display:flex;\n",
              "      gap: 12px;\n",
              "    }\n",
              "\n",
              "    .colab-df-convert {\n",
              "      background-color: #E8F0FE;\n",
              "      border: none;\n",
              "      border-radius: 50%;\n",
              "      cursor: pointer;\n",
              "      display: none;\n",
              "      fill: #1967D2;\n",
              "      height: 32px;\n",
              "      padding: 0 0 0 0;\n",
              "      width: 32px;\n",
              "    }\n",
              "\n",
              "    .colab-df-convert:hover {\n",
              "      background-color: #E2EBFA;\n",
              "      box-shadow: 0px 1px 2px rgba(60, 64, 67, 0.3), 0px 1px 3px 1px rgba(60, 64, 67, 0.15);\n",
              "      fill: #174EA6;\n",
              "    }\n",
              "\n",
              "    .colab-df-buttons div {\n",
              "      margin-bottom: 4px;\n",
              "    }\n",
              "\n",
              "    [theme=dark] .colab-df-convert {\n",
              "      background-color: #3B4455;\n",
              "      fill: #D2E3FC;\n",
              "    }\n",
              "\n",
              "    [theme=dark] .colab-df-convert:hover {\n",
              "      background-color: #434B5C;\n",
              "      box-shadow: 0px 1px 3px 1px rgba(0, 0, 0, 0.15);\n",
              "      filter: drop-shadow(0px 1px 2px rgba(0, 0, 0, 0.3));\n",
              "      fill: #FFFFFF;\n",
              "    }\n",
              "  </style>\n",
              "\n",
              "    <script>\n",
              "      const buttonEl =\n",
              "        document.querySelector('#df-227ffabd-b1f3-446c-bbe4-8744ed777693 button.colab-df-convert');\n",
              "      buttonEl.style.display =\n",
              "        google.colab.kernel.accessAllowed ? 'block' : 'none';\n",
              "\n",
              "      async function convertToInteractive(key) {\n",
              "        const element = document.querySelector('#df-227ffabd-b1f3-446c-bbe4-8744ed777693');\n",
              "        const dataTable =\n",
              "          await google.colab.kernel.invokeFunction('convertToInteractive',\n",
              "                                                    [key], {});\n",
              "        if (!dataTable) return;\n",
              "\n",
              "        const docLinkHtml = 'Like what you see? Visit the ' +\n",
              "          '<a target=\"_blank\" href=https://colab.research.google.com/notebooks/data_table.ipynb>data table notebook</a>'\n",
              "          + ' to learn more about interactive tables.';\n",
              "        element.innerHTML = '';\n",
              "        dataTable['output_type'] = 'display_data';\n",
              "        await google.colab.output.renderOutput(dataTable, element);\n",
              "        const docLink = document.createElement('div');\n",
              "        docLink.innerHTML = docLinkHtml;\n",
              "        element.appendChild(docLink);\n",
              "      }\n",
              "    </script>\n",
              "  </div>\n",
              "\n",
              "\n",
              "<div id=\"df-b4561ec1-9c25-4a4a-a839-df4f8bb65f8e\">\n",
              "  <button class=\"colab-df-quickchart\" onclick=\"quickchart('df-b4561ec1-9c25-4a4a-a839-df4f8bb65f8e')\"\n",
              "            title=\"Suggest charts\"\n",
              "            style=\"display:none;\">\n",
              "\n",
              "<svg xmlns=\"http://www.w3.org/2000/svg\" height=\"24px\"viewBox=\"0 0 24 24\"\n",
              "     width=\"24px\">\n",
              "    <g>\n",
              "        <path d=\"M19 3H5c-1.1 0-2 .9-2 2v14c0 1.1.9 2 2 2h14c1.1 0 2-.9 2-2V5c0-1.1-.9-2-2-2zM9 17H7v-7h2v7zm4 0h-2V7h2v10zm4 0h-2v-4h2v4z\"/>\n",
              "    </g>\n",
              "</svg>\n",
              "  </button>\n",
              "\n",
              "<style>\n",
              "  .colab-df-quickchart {\n",
              "      --bg-color: #E8F0FE;\n",
              "      --fill-color: #1967D2;\n",
              "      --hover-bg-color: #E2EBFA;\n",
              "      --hover-fill-color: #174EA6;\n",
              "      --disabled-fill-color: #AAA;\n",
              "      --disabled-bg-color: #DDD;\n",
              "  }\n",
              "\n",
              "  [theme=dark] .colab-df-quickchart {\n",
              "      --bg-color: #3B4455;\n",
              "      --fill-color: #D2E3FC;\n",
              "      --hover-bg-color: #434B5C;\n",
              "      --hover-fill-color: #FFFFFF;\n",
              "      --disabled-bg-color: #3B4455;\n",
              "      --disabled-fill-color: #666;\n",
              "  }\n",
              "\n",
              "  .colab-df-quickchart {\n",
              "    background-color: var(--bg-color);\n",
              "    border: none;\n",
              "    border-radius: 50%;\n",
              "    cursor: pointer;\n",
              "    display: none;\n",
              "    fill: var(--fill-color);\n",
              "    height: 32px;\n",
              "    padding: 0;\n",
              "    width: 32px;\n",
              "  }\n",
              "\n",
              "  .colab-df-quickchart:hover {\n",
              "    background-color: var(--hover-bg-color);\n",
              "    box-shadow: 0 1px 2px rgba(60, 64, 67, 0.3), 0 1px 3px 1px rgba(60, 64, 67, 0.15);\n",
              "    fill: var(--button-hover-fill-color);\n",
              "  }\n",
              "\n",
              "  .colab-df-quickchart-complete:disabled,\n",
              "  .colab-df-quickchart-complete:disabled:hover {\n",
              "    background-color: var(--disabled-bg-color);\n",
              "    fill: var(--disabled-fill-color);\n",
              "    box-shadow: none;\n",
              "  }\n",
              "\n",
              "  .colab-df-spinner {\n",
              "    border: 2px solid var(--fill-color);\n",
              "    border-color: transparent;\n",
              "    border-bottom-color: var(--fill-color);\n",
              "    animation:\n",
              "      spin 1s steps(1) infinite;\n",
              "  }\n",
              "\n",
              "  @keyframes spin {\n",
              "    0% {\n",
              "      border-color: transparent;\n",
              "      border-bottom-color: var(--fill-color);\n",
              "      border-left-color: var(--fill-color);\n",
              "    }\n",
              "    20% {\n",
              "      border-color: transparent;\n",
              "      border-left-color: var(--fill-color);\n",
              "      border-top-color: var(--fill-color);\n",
              "    }\n",
              "    30% {\n",
              "      border-color: transparent;\n",
              "      border-left-color: var(--fill-color);\n",
              "      border-top-color: var(--fill-color);\n",
              "      border-right-color: var(--fill-color);\n",
              "    }\n",
              "    40% {\n",
              "      border-color: transparent;\n",
              "      border-right-color: var(--fill-color);\n",
              "      border-top-color: var(--fill-color);\n",
              "    }\n",
              "    60% {\n",
              "      border-color: transparent;\n",
              "      border-right-color: var(--fill-color);\n",
              "    }\n",
              "    80% {\n",
              "      border-color: transparent;\n",
              "      border-right-color: var(--fill-color);\n",
              "      border-bottom-color: var(--fill-color);\n",
              "    }\n",
              "    90% {\n",
              "      border-color: transparent;\n",
              "      border-bottom-color: var(--fill-color);\n",
              "    }\n",
              "  }\n",
              "</style>\n",
              "\n",
              "  <script>\n",
              "    async function quickchart(key) {\n",
              "      const quickchartButtonEl =\n",
              "        document.querySelector('#' + key + ' button');\n",
              "      quickchartButtonEl.disabled = true;  // To prevent multiple clicks.\n",
              "      quickchartButtonEl.classList.add('colab-df-spinner');\n",
              "      try {\n",
              "        const charts = await google.colab.kernel.invokeFunction(\n",
              "            'suggestCharts', [key], {});\n",
              "      } catch (error) {\n",
              "        console.error('Error during call to suggestCharts:', error);\n",
              "      }\n",
              "      quickchartButtonEl.classList.remove('colab-df-spinner');\n",
              "      quickchartButtonEl.classList.add('colab-df-quickchart-complete');\n",
              "    }\n",
              "    (() => {\n",
              "      let quickchartButtonEl =\n",
              "        document.querySelector('#df-b4561ec1-9c25-4a4a-a839-df4f8bb65f8e button');\n",
              "      quickchartButtonEl.style.display =\n",
              "        google.colab.kernel.accessAllowed ? 'block' : 'none';\n",
              "    })();\n",
              "  </script>\n",
              "</div>\n",
              "    </div>\n",
              "  </div>\n"
            ],
            "application/vnd.google.colaboratory.intrinsic+json": {
              "type": "dataframe",
              "variable_name": "X",
              "summary": "{\n  \"name\": \"X\",\n  \"rows\": 20640,\n  \"fields\": [\n    {\n      \"column\": \"MedInc\",\n      \"properties\": {\n        \"dtype\": \"number\",\n        \"std\": 1.8998217179452688,\n        \"min\": 0.4999,\n        \"max\": 15.0001,\n        \"num_unique_values\": 12928,\n        \"samples\": [\n          5.0286,\n          2.0433,\n          6.1228\n        ],\n        \"semantic_type\": \"\",\n        \"description\": \"\"\n      }\n    },\n    {\n      \"column\": \"HouseAge\",\n      \"properties\": {\n        \"dtype\": \"number\",\n        \"std\": 12.58555761211165,\n        \"min\": 1.0,\n        \"max\": 52.0,\n        \"num_unique_values\": 52,\n        \"samples\": [\n          35.0,\n          25.0,\n          7.0\n        ],\n        \"semantic_type\": \"\",\n        \"description\": \"\"\n      }\n    },\n    {\n      \"column\": \"AveRooms\",\n      \"properties\": {\n        \"dtype\": \"number\",\n        \"std\": 2.4741731394243187,\n        \"min\": 0.8461538461538461,\n        \"max\": 141.9090909090909,\n        \"num_unique_values\": 19392,\n        \"samples\": [\n          6.111269614835948,\n          5.912820512820513,\n          5.7924528301886795\n        ],\n        \"semantic_type\": \"\",\n        \"description\": \"\"\n      }\n    },\n    {\n      \"column\": \"AveBedrms\",\n      \"properties\": {\n        \"dtype\": \"number\",\n        \"std\": 0.473910856795466,\n        \"min\": 0.3333333333333333,\n        \"max\": 34.06666666666667,\n        \"num_unique_values\": 14233,\n        \"samples\": [\n          0.9906542056074766,\n          1.112099644128114,\n          1.0398230088495575\n        ],\n        \"semantic_type\": \"\",\n        \"description\": \"\"\n      }\n    },\n    {\n      \"column\": \"Population\",\n      \"properties\": {\n        \"dtype\": \"number\",\n        \"std\": 1132.462121765341,\n        \"min\": 3.0,\n        \"max\": 35682.0,\n        \"num_unique_values\": 3888,\n        \"samples\": [\n          4169.0,\n          636.0,\n          3367.0\n        ],\n        \"semantic_type\": \"\",\n        \"description\": \"\"\n      }\n    },\n    {\n      \"column\": \"AveOccup\",\n      \"properties\": {\n        \"dtype\": \"number\",\n        \"std\": 10.386049562213618,\n        \"min\": 0.6923076923076923,\n        \"max\": 1243.3333333333333,\n        \"num_unique_values\": 18841,\n        \"samples\": [\n          2.6939799331103678,\n          3.559375,\n          3.297082228116711\n        ],\n        \"semantic_type\": \"\",\n        \"description\": \"\"\n      }\n    },\n    {\n      \"column\": \"Latitude\",\n      \"properties\": {\n        \"dtype\": \"number\",\n        \"std\": 2.1359523974571153,\n        \"min\": 32.54,\n        \"max\": 41.95,\n        \"num_unique_values\": 862,\n        \"samples\": [\n          33.7,\n          34.41,\n          38.24\n        ],\n        \"semantic_type\": \"\",\n        \"description\": \"\"\n      }\n    },\n    {\n      \"column\": \"Longitude\",\n      \"properties\": {\n        \"dtype\": \"number\",\n        \"std\": 2.0035317235025882,\n        \"min\": -124.35,\n        \"max\": -114.31,\n        \"num_unique_values\": 844,\n        \"samples\": [\n          -118.63,\n          -119.86,\n          -121.26\n        ],\n        \"semantic_type\": \"\",\n        \"description\": \"\"\n      }\n    }\n  ]\n}"
            }
          },
          "metadata": {},
          "execution_count": 1
        }
      ],
      "source": [
        "from sklearn.datasets import fetch_california_housing\n",
        "import pandas as pd\n",
        "from keras.layers import Dense\n",
        "from keras.models import Sequential\n",
        "from matplotlib import pyplot as plt\n",
        "import numpy as np\n",
        "import matplotlib\n",
        "%matplotlib inline\n",
        "\n",
        "\n",
        "data = fetch_california_housing()\n",
        "\n",
        "X = pd.DataFrame(data['data'], columns=data['feature_names'])\n",
        "y = data['target']\n",
        "\n",
        "X.head()"
      ]
    },
    {
      "cell_type": "code",
      "execution_count": 2,
      "metadata": {
        "id": "NUISnao0Kx-7",
        "outputId": "5751e6dc-ecb8-4569-c472-d5567bbc5180",
        "colab": {
          "base_uri": "https://localhost:8080/"
        }
      },
      "outputs": [
        {
          "output_type": "stream",
          "name": "stdout",
          "text": [
            "             MedInc      HouseAge      AveRooms     AveBedrms    Population  \\\n",
            "count  20640.000000  20640.000000  20640.000000  20640.000000  20640.000000   \n",
            "mean       3.870671     28.639486      5.429000      1.096675   1425.476744   \n",
            "std        1.899822     12.585558      2.474173      0.473911   1132.462122   \n",
            "min        0.499900      1.000000      0.846154      0.333333      3.000000   \n",
            "25%        2.563400     18.000000      4.440716      1.006079    787.000000   \n",
            "50%        3.534800     29.000000      5.229129      1.048780   1166.000000   \n",
            "75%        4.743250     37.000000      6.052381      1.099526   1725.000000   \n",
            "max       15.000100     52.000000    141.909091     34.066667  35682.000000   \n",
            "\n",
            "           AveOccup      Latitude     Longitude  \n",
            "count  20640.000000  20640.000000  20640.000000  \n",
            "mean       3.070655     35.631861   -119.569704  \n",
            "std       10.386050      2.135952      2.003532  \n",
            "min        0.692308     32.540000   -124.350000  \n",
            "25%        2.429741     33.930000   -121.800000  \n",
            "50%        2.818116     34.260000   -118.490000  \n",
            "75%        3.282261     37.710000   -118.010000  \n",
            "max     1243.333333     41.950000   -114.310000  \n"
          ]
        }
      ],
      "source": [
        "print(X.describe())  # Вывод статистики по X"
      ]
    },
    {
      "cell_type": "code",
      "execution_count": 3,
      "metadata": {
        "id": "QKU5DIT5Kx-8",
        "outputId": "70f17106-ea70-4fed-a879-ca6723a1e228",
        "colab": {
          "base_uri": "https://localhost:8080/"
        }
      },
      "outputs": [
        {
          "output_type": "execute_result",
          "data": {
            "text/plain": [
              "array([4.526, 3.585, 3.521, ..., 0.923, 0.847, 0.894])"
            ]
          },
          "metadata": {},
          "execution_count": 3
        }
      ],
      "source": [
        "y"
      ]
    },
    {
      "cell_type": "code",
      "execution_count": 4,
      "metadata": {
        "colab": {
          "base_uri": "https://localhost:8080/"
        },
        "id": "qGlJz8tWQvPC",
        "outputId": "d05d6b88-3c78-48f7-c843-87b0695b0dce"
      },
      "outputs": [
        {
          "output_type": "stream",
          "name": "stdout",
          "text": [
            "                  0\n",
            "count  20640.000000\n",
            "mean       2.068558\n",
            "std        1.153956\n",
            "min        0.149990\n",
            "25%        1.196000\n",
            "50%        1.797000\n",
            "75%        2.647250\n",
            "max        5.000010\n"
          ]
        }
      ],
      "source": [
        "print(pd.DataFrame(y).describe())  # Вывод статистики по y"
      ]
    },
    {
      "cell_type": "markdown",
      "metadata": {
        "id": "fkRGiXVZTudB"
      },
      "source": [
        "#### 1.1. Разделяем данные на обучающую и тестовую выборку"
      ]
    },
    {
      "cell_type": "code",
      "execution_count": 5,
      "metadata": {
        "colab": {
          "base_uri": "https://localhost:8080/"
        },
        "id": "0Kr_m64uTudB",
        "outputId": "b3adabd6-a10e-44d2-9c6c-69fe78215d86"
      },
      "outputs": [
        {
          "output_type": "execute_result",
          "data": {
            "text/plain": [
              "((16512, 8), (4128, 8))"
            ]
          },
          "metadata": {},
          "execution_count": 5
        }
      ],
      "source": [
        "from sklearn.model_selection import train_test_split\n",
        "\n",
        "X_train, X_test, y_train, y_test = train_test_split(X.values, y, test_size=0.2, random_state=0)\n",
        "X_train.shape, X_test.shape"
      ]
    },
    {
      "cell_type": "markdown",
      "metadata": {
        "id": "815ut8JJTIM7"
      },
      "source": [
        "#### 1.2. Проектируем архитектуру для этой задачи"
      ]
    },
    {
      "cell_type": "code",
      "execution_count": 6,
      "metadata": {
        "colab": {
          "base_uri": "https://localhost:8080/"
        },
        "id": "OtEKBEAXTVmN",
        "outputId": "d5ed6e23-cff6-4d9c-dead-1cc4f4b99029"
      },
      "outputs": [
        {
          "output_type": "stream",
          "name": "stdout",
          "text": [
            "Model: \"sequential\"\n",
            "_________________________________________________________________\n",
            " Layer (type)                Output Shape              Param #   \n",
            "=================================================================\n",
            " dense (Dense)               (None, 16)                144       \n",
            "                                                                 \n",
            " dense_1 (Dense)             (None, 1)                 17        \n",
            "                                                                 \n",
            "=================================================================\n",
            "Total params: 161 (644.00 Byte)\n",
            "Trainable params: 161 (644.00 Byte)\n",
            "Non-trainable params: 0 (0.00 Byte)\n",
            "_________________________________________________________________\n"
          ]
        }
      ],
      "source": [
        "from keras.layers import Dense\n",
        "from keras.models import Sequential\n",
        "\n",
        "\n",
        "model = Sequential([\n",
        "    Dense(16, input_shape=(8,), activation='relu'),\n",
        "    Dense(1, activation='relu')\n",
        "])\n",
        "\n",
        "model.summary()"
      ]
    },
    {
      "cell_type": "markdown",
      "metadata": {
        "id": "F9E1W4yCT0YC"
      },
      "source": [
        "#### 1.3. Компилируем модель ИНС\n",
        "\n",
        "Подберите нужную функцию потерь и метрику. Оптимизатор можете использовать 'sgd'"
      ]
    },
    {
      "cell_type": "code",
      "execution_count": 7,
      "metadata": {
        "id": "S4ADrJaoTeZf"
      },
      "outputs": [],
      "source": [
        "model.compile(optimizer='sgd', loss='mse', metrics='mae')"
      ]
    },
    {
      "cell_type": "markdown",
      "metadata": {
        "id": "ebac-dNAUBtX"
      },
      "source": [
        "#### 1.4. Обучаем модель ИНС"
      ]
    },
    {
      "cell_type": "code",
      "execution_count": 8,
      "metadata": {
        "colab": {
          "base_uri": "https://localhost:8080/"
        },
        "id": "bGJAwEVPTf8b",
        "outputId": "082fcf3b-cc07-4d3a-aa42-1cb634cb0aa2"
      },
      "outputs": [
        {
          "output_type": "stream",
          "name": "stdout",
          "text": [
            "Epoch 1/10\n",
            "516/516 [==============================] - 3s 4ms/step - loss: 5.6336 - mae: 2.0725\n",
            "Epoch 2/10\n",
            "516/516 [==============================] - 4s 7ms/step - loss: 5.6336 - mae: 2.0725\n",
            "Epoch 3/10\n",
            "516/516 [==============================] - 3s 6ms/step - loss: 5.6336 - mae: 2.0725\n",
            "Epoch 4/10\n",
            "516/516 [==============================] - 2s 4ms/step - loss: 5.6336 - mae: 2.0725\n",
            "Epoch 5/10\n",
            "516/516 [==============================] - 3s 5ms/step - loss: 5.6336 - mae: 2.0725\n",
            "Epoch 6/10\n",
            "516/516 [==============================] - 3s 5ms/step - loss: 5.6336 - mae: 2.0725\n",
            "Epoch 7/10\n",
            "516/516 [==============================] - 2s 5ms/step - loss: 5.6336 - mae: 2.0725\n",
            "Epoch 8/10\n",
            "516/516 [==============================] - 1s 3ms/step - loss: 5.6336 - mae: 2.0725\n",
            "Epoch 9/10\n",
            "516/516 [==============================] - 1s 3ms/step - loss: 5.6336 - mae: 2.0725\n",
            "Epoch 10/10\n",
            "516/516 [==============================] - 2s 4ms/step - loss: 5.6336 - mae: 2.0725\n"
          ]
        },
        {
          "output_type": "execute_result",
          "data": {
            "text/plain": [
              "<keras.src.callbacks.History at 0x7e4a47ea48b0>"
            ]
          },
          "metadata": {},
          "execution_count": 8
        }
      ],
      "source": [
        "model.fit(X_train, y_train, epochs=10)"
      ]
    },
    {
      "cell_type": "markdown",
      "metadata": {
        "id": "EZaZYI7jULuL"
      },
      "source": [
        "#### 1.5. Сделайте вывод, хорошо ли модель обучается?\n",
        "\n",
        "Если модель обучается плохо, необходимо внести изменения в работу."
      ]
    },
    {
      "cell_type": "markdown",
      "metadata": {
        "id": "-IFadu85UZqU"
      },
      "source": [
        "Сеть обучается плохо, так как данные не масштабированы."
      ]
    },
    {
      "cell_type": "code",
      "execution_count": 9,
      "metadata": {
        "id": "I0XP83bgUfnt"
      },
      "outputs": [],
      "source": [
        "from sklearn.preprocessing import MinMaxScaler\n",
        "from sklearn.preprocessing import StandardScaler\n",
        "\n",
        "\n",
        "# scaler = StandardScaler()  # Стандартизация по среднему и стандартному отклонению\n",
        "scaler = MinMaxScaler()  # Масштабирование в диапазон 0-1\n",
        "\n",
        "X_train = scaler.fit_transform(X_train)\n",
        "X_test = scaler.transform(X_test)"
      ]
    },
    {
      "cell_type": "code",
      "execution_count": 10,
      "metadata": {
        "id": "YzhIqqbIKx_A"
      },
      "outputs": [],
      "source": [
        "# Сохранение модели scaler\n",
        "import pickle\n",
        "\n",
        "with open(\"scaler.pkl\", \"wb\") as f:\n",
        "    pickle.dump(scaler, f)"
      ]
    },
    {
      "cell_type": "code",
      "execution_count": 11,
      "metadata": {
        "id": "btrPgOARKx_B",
        "outputId": "4030faf4-5292-4877-8165-6d220117a559",
        "colab": {
          "base_uri": "https://localhost:8080/"
        }
      },
      "outputs": [
        {
          "output_type": "execute_result",
          "data": {
            "text/plain": [
              "array([[0.25783782, 0.09803922, 0.04875074, ..., 0.0046041 , 0.1370882 ,\n",
              "        0.67729084],\n",
              "       [0.26826527, 1.        , 0.03176219, ..., 0.00429433, 0.55154091,\n",
              "        0.19023904],\n",
              "       [0.23678294, 0.49019608, 0.02709659, ..., 0.00338447, 0.1370882 ,\n",
              "        0.63247012],\n",
              "       ...,\n",
              "       [0.18605261, 0.58823529, 0.01981433, ..., 0.00173858, 0.4293305 ,\n",
              "        0.2440239 ],\n",
              "       [0.35389857, 0.64705882, 0.02619004, ..., 0.00250076, 0.11477152,\n",
              "        0.63944223],\n",
              "       [0.06126122, 0.2745098 , 0.02185816, ..., 0.00448481, 0.02763018,\n",
              "        0.87549801]])"
            ]
          },
          "metadata": {},
          "execution_count": 11
        }
      ],
      "source": [
        "X_train"
      ]
    },
    {
      "cell_type": "code",
      "execution_count": 12,
      "metadata": {
        "colab": {
          "base_uri": "https://localhost:8080/"
        },
        "id": "7LS8kPIBUtEZ",
        "outputId": "79f951bb-b0ba-4656-8d8d-a1ba761cc477"
      },
      "outputs": [
        {
          "output_type": "stream",
          "name": "stdout",
          "text": [
            "Epoch 1/10\n",
            "516/516 [==============================] - 2s 3ms/step - loss: 0.9298 - mae: 0.7362 - val_loss: 0.6189 - val_mae: 0.5999\n",
            "Epoch 2/10\n",
            "516/516 [==============================] - 2s 4ms/step - loss: 0.5746 - mae: 0.5601 - val_loss: 0.5770 - val_mae: 0.5645\n",
            "Epoch 3/10\n",
            "516/516 [==============================] - 5s 9ms/step - loss: 0.5477 - mae: 0.5424 - val_loss: 0.5572 - val_mae: 0.5548\n",
            "Epoch 4/10\n",
            "516/516 [==============================] - 1s 2ms/step - loss: 0.5332 - mae: 0.5327 - val_loss: 0.5441 - val_mae: 0.5513\n",
            "Epoch 5/10\n",
            "516/516 [==============================] - 1s 2ms/step - loss: 0.5246 - mae: 0.5269 - val_loss: 0.5550 - val_mae: 0.5059\n",
            "Epoch 6/10\n",
            "516/516 [==============================] - 1s 2ms/step - loss: 0.5141 - mae: 0.5207 - val_loss: 0.5202 - val_mae: 0.5015\n",
            "Epoch 7/10\n",
            "516/516 [==============================] - 1s 2ms/step - loss: 0.5071 - mae: 0.5154 - val_loss: 0.5096 - val_mae: 0.5006\n",
            "Epoch 8/10\n",
            "516/516 [==============================] - 1s 2ms/step - loss: 0.5012 - mae: 0.5115 - val_loss: 0.5063 - val_mae: 0.5118\n",
            "Epoch 9/10\n",
            "516/516 [==============================] - 1s 2ms/step - loss: 0.4976 - mae: 0.5085 - val_loss: 0.5216 - val_mae: 0.4899\n",
            "Epoch 10/10\n",
            "516/516 [==============================] - 1s 2ms/step - loss: 0.4948 - mae: 0.5064 - val_loss: 0.5510 - val_mae: 0.5731\n"
          ]
        }
      ],
      "source": [
        "model = Sequential([\n",
        "    Dense(16, input_shape=(8,), activation='relu'),\n",
        "    Dense(8, activation='relu'),\n",
        "    Dense(1, activation='relu')\n",
        "])\n",
        "\n",
        "model.compile(optimizer='sgd', loss='mse', metrics='mae')\n",
        "\n",
        "history = model.fit(X_train, y_train, epochs=10, validation_data=(X_test, y_test))"
      ]
    },
    {
      "cell_type": "markdown",
      "metadata": {
        "id": "mvlGXR3yVMYo"
      },
      "source": [
        "#### 1.6. Делаем предсказания на тестовых данных"
      ]
    },
    {
      "cell_type": "code",
      "execution_count": 13,
      "metadata": {
        "colab": {
          "base_uri": "https://localhost:8080/"
        },
        "id": "gW7-vtIsVPdV",
        "outputId": "d3eb130a-1b80-422d-d8fc-49425029ee22"
      },
      "outputs": [
        {
          "output_type": "stream",
          "name": "stdout",
          "text": [
            "129/129 [==============================] - 0s 1ms/step\n"
          ]
        }
      ],
      "source": [
        "preds = model.predict(X_test)"
      ]
    },
    {
      "cell_type": "markdown",
      "metadata": {
        "id": "NLsmmLVkVhkL"
      },
      "source": [
        "#### 1.7. Вычисляем метрику качества на тестовых данных"
      ]
    },
    {
      "cell_type": "code",
      "execution_count": 14,
      "metadata": {
        "colab": {
          "base_uri": "https://localhost:8080/"
        },
        "id": "SEu1V0AmVTUr",
        "outputId": "6dd7e4df-0b77-416a-e876-5805b6a52913"
      },
      "outputs": [
        {
          "output_type": "execute_result",
          "data": {
            "text/plain": [
              "0.5731053387493865"
            ]
          },
          "metadata": {},
          "execution_count": 14
        }
      ],
      "source": [
        "from sklearn.metrics import mean_absolute_error\n",
        "\n",
        "mean_absolute_error(preds, y_test)"
      ]
    },
    {
      "cell_type": "markdown",
      "metadata": {
        "id": "d4eyitaoKx_E"
      },
      "source": [
        "#### 1.8. Строим график обучения"
      ]
    },
    {
      "cell_type": "code",
      "execution_count": 15,
      "metadata": {
        "colab": {
          "base_uri": "https://localhost:8080/",
          "height": 430
        },
        "id": "g-Y168XJKx_E",
        "outputId": "078e2bd6-c450-4557-c2da-fe5b72b75735"
      },
      "outputs": [
        {
          "output_type": "display_data",
          "data": {
            "text/plain": [
              "<Figure size 640x480 with 1 Axes>"
            ],
            "image/png": "[encoded data removed]"
          },
          "metadata": {}
        }
      ],
      "source": [
        "plt.plot(history.history['loss'], label='Train loss')\n",
        "plt.plot(history.history['val_loss'], label='Val loss')\n",
        "plt.legend()\n",
        "plt.show()"
      ]
    },
    {
      "cell_type": "markdown",
      "metadata": {
        "id": "XYMsbjaoMEqT"
      },
      "source": [
        "## Проверка обученной модели пользовательскими данными"
      ]
    },
    {
      "cell_type": "code",
      "execution_count": 16,
      "metadata": {
        "id": "kh3KXkK-Kx_F"
      },
      "outputs": [],
      "source": [
        "def preprocess_input(features, scale_model=\"scaler.pkl\"):\n",
        "\n",
        "  \"\"\"\n",
        "  Функция преобразует входные данные в формат,\n",
        "  подходящий для модели машинного обучения.\n",
        "\n",
        "  Args:\n",
        "      features: Список или массив с входными признаками.\n",
        "      scale_model: Путь к файлу с сохраненной моделью масштабирования.\n",
        "\n",
        "  Returns:\n",
        "      Преобразованный массив признаков.\n",
        "  \"\"\"\n",
        "\n",
        "  try:\n",
        "    # Преобразование в NumPy массив\n",
        "    features = np.array(features)\n",
        "\n",
        "    # Проверка на пустой массив\n",
        "    if not features.size:\n",
        "      raise ValueError(\"Пустой массив признаков!\")\n",
        "\n",
        "    # Изменение размерности массива (8,) -> (1, 8)\n",
        "    features = features.reshape(1, -1)\n",
        "\n",
        "    # Загрузка модели масштабирования\n",
        "    with open(scale_model, \"rb\") as f:\n",
        "      scaler = pickle.load(f)\n",
        "\n",
        "    # Масштабирование признаков\n",
        "    features = scaler.transform(features)\n",
        "\n",
        "  except Exception as e:\n",
        "    raise ValueError(f\"Ошибка при предобработке: {e}\")\n",
        "\n",
        "  return features"
      ]
    },
    {
      "cell_type": "code",
      "execution_count": 19,
      "metadata": {
        "id": "fMQCggSBKx_F"
      },
      "outputs": [],
      "source": [
        "def predict_price(*features):\n",
        "\n",
        "  \"\"\"\n",
        "  Функция прогнозирует цену на основе предобработанных\n",
        "  входных признаков.\n",
        "\n",
        "  Args:\n",
        "      features: Список или массив с входными признаками.\n",
        "\n",
        "  Returns:\n",
        "      Прогнозируемая цена (в долларах).\n",
        "  \"\"\"\n",
        "\n",
        "  try:\n",
        "    # Предобработка входных признаков\n",
        "    features = preprocess_input(features)\n",
        "\n",
        "    # Прогнозирование цены\n",
        "    prediction = model.predict(features, verbose=0)\n",
        "\n",
        "    # Проверка на ошибки прогнозирования\n",
        "    if np.isnan(prediction).any():\n",
        "      raise ValueError(\"Ошибка при прогнозировании: NaN\")\n",
        "\n",
        "  except Exception as e:\n",
        "    raise ValueError(f\"Ошибка при прогнозировании: {e}\")\n",
        "\n",
        "  # Возвращение прогнозируемой цены\n",
        "  # (умножение на 1000 для отображения в тысячах долларов)\n",
        "  return f\"{prediction[0][0] * 1000}\""
      ]
    },
    {
      "cell_type": "markdown",
      "source": [
        "## Библиотека Gradio"
      ],
      "metadata": {
        "id": "-uu_VR8H2K4h"
      }
    },
    {
      "cell_type": "markdown",
      "source": [
        "**Документация Gradio:** [https://gradio.app/docs/](https://gradio.app/docs/)"
      ],
      "metadata": {
        "id": "xtgIyV4J3KAr"
      }
    },
    {
      "cell_type": "markdown",
      "source": [
        "  [**Примеры**](https://www.gradio.app/guides)"
      ],
      "metadata": {
        "id": "dS6w2VPb3M7_"
      }
    },
    {
      "cell_type": "markdown",
      "source": [
        "\n",
        "**Gradio** – это Python-библиотека с открытым исходным кодом, которая позволяет создавать веб-интерфейсы для ваших ML-моделей, API или произвольных Python-функций.\n",
        "\n",
        "\n",
        "\n",
        "\n",
        "\n",
        "\n"
      ],
      "metadata": {
        "id": "DxYydsey1j-T"
      }
    },
    {
      "cell_type": "markdown",
      "source": [
        "Установка Gradio:"
      ],
      "metadata": {
        "id": "t6KtRS_Z2nTE"
      }
    },
    {
      "cell_type": "code",
      "source": [
        "!pip install gradio"
      ],
      "metadata": {
        "id": "kz67Khh-2nf3"
      },
      "execution_count": null,
      "outputs": []
    },
    {
      "cell_type": "code",
      "execution_count": 20,
      "metadata": {
        "colab": {
          "base_uri": "https://localhost:8080/",
          "height": 612
        },
        "id": "N6gDQvZaKx_G",
        "outputId": "f145b6c5-c683-4764-e8df-9b2bc4989a64"
      },
      "outputs": [
        {
          "output_type": "stream",
          "name": "stdout",
          "text": [
            "Colab notebook detected. To show errors in colab notebook, set debug=True in launch()\n",
            "Running on public URL: https://13368118f20bab2051.gradio.live\n",
            "\n",
            "This share link expires in 72 hours. For free permanent hosting and GPU upgrades, run `gradio deploy` from Terminal to deploy to Spaces (https://huggingface.co/spaces)\n"
          ]
        },
        {
          "output_type": "display_data",
          "data": {
            "text/plain": [
              "<IPython.core.display.HTML object>"
            ],
            "text/html": [
              "<div><iframe src=\"https://13368118f20bab2051.gradio.live\" width=\"100%\" height=\"500\" allow=\"autoplay; camera; microphone; clipboard-read; clipboard-write;\" frameborder=\"0\" allowfullscreen></iframe></div>"
            ]
          },
          "metadata": {}
        },
        {
          "output_type": "execute_result",
          "data": {
            "text/plain": []
          },
          "metadata": {},
          "execution_count": 20
        }
      ],
      "source": [
        "import gradio as gr\n",
        "\n",
        "# Интерфейс Gradio\n",
        "interface = gr.Interface(\n",
        "    fn=predict_price,\n",
        "    inputs=[\n",
        "        gr.Slider(label=\"Median Income\", minimum=0.5, maximum=15, step=0.1, value=8.3252),\n",
        "        gr.Slider(label=\"Median House Age\", minimum=1, maximum=50, step=1, value=41.0),\n",
        "        gr.Slider(label=\"Total Rooms\", minimum=1, maximum=50, step=0.01, value=6.984127),\n",
        "        gr.Slider(label=\"Total Bedrooms\", minimum=1, maximum=15, step=0.01, value=1.023810),\n",
        "        gr.Slider(label=\"Population\", minimum=1, maximum=15000, step=1, value=322.0),\n",
        "        gr.Slider(label=\"Ocean Proximity\", minimum=0, maximum=1, step=0.1, value=2.555556),\n",
        "        gr.Slider(label=\"Latitude\", minimum=32.5, maximum=42.5, step=0.1, value=37.88),\n",
        "        gr.Slider(label=\"Longitude\", minimum=-118, maximum=-114, step=0.1, value=-122.23),\n",
        "    ],\n",
        "    # Обновление при каждом изменении\n",
        "    live=True,\n",
        "    outputs=gr.Text(label=\"Predicted Price ($)\"),\n",
        ")\n",
        "\n",
        "# Запуск интерфейса\n",
        "interface.launch(debug=False, share=True)"
      ]
    },
    {
      "cell_type": "markdown",
      "metadata": {
        "id": "dk-gW7oOavFc"
      },
      "source": [
        "# **2. Обучение модели ИНС для классификации изображений, используя свой датасет**"
      ]
    },
    {
      "cell_type": "markdown",
      "source": [
        "## Устанавливаем зависимости:"
      ],
      "metadata": {
        "id": "l8zEG_g8O-Ge"
      }
    },
    {
      "cell_type": "code",
      "execution_count": 23,
      "metadata": {
        "id": "sh6kN7IMO8de"
      },
      "outputs": [],
      "source": [
        "# Импортируем LabelBinarizer для преобразования текстовых меток в векторы\n",
        "# (например, \"кошка\" -> [1, 0, 0], \"собака\" -> [0, 1, 0], \"панда\" -> [0, 0, 1])\n",
        "from sklearn.preprocessing import LabelBinarizer\n",
        "\n",
        "# Импортируем train_test_split для разделения данных на обучающую и тестовую выборки\n",
        "from sklearn.model_selection import train_test_split\n",
        "\n",
        "# Импортируем classification_report для оценки качества классификации\n",
        "from sklearn.metrics import classification_report\n",
        "\n",
        "# Импортируем Sequential для создания последовательной модели нейронной сети\n",
        "from keras.models import Sequential\n",
        "\n",
        "# Импортируем Dense для создания плотных слоев нейронной сети\n",
        "from keras.layers import Dense\n",
        "\n",
        "# Импортируем SGD и Adam для оптимизации обучения нейронной сети\n",
        "from keras.optimizers import SGD, Adam\n",
        "\n",
        "# Импортируем paths из imutils для удобной работы с путями к изображениям\n",
        "from imutils import paths\n",
        "\n",
        "# Импортируем pyplot из matplotlib для визуализации данных\n",
        "import matplotlib.pyplot as plt\n",
        "\n",
        "# Импортируем numpy для работы с массивами данных\n",
        "import numpy as np\n",
        "\n",
        "# Импортируем random для генерации случайных чисел\n",
        "import random\n",
        "\n",
        "# Импортируем pickle для сериализации и десериализации данных\n",
        "import pickle\n",
        "\n",
        "# Импортируем cv2 для работы с изображениями\n",
        "import cv2\n",
        "\n",
        "# Импортируем os для работы с файловой системой\n",
        "import os\n",
        "\n",
        "# Импортируем cv2_imshow из google.colab.patches для отображения изображений в Colab\n",
        "from google.colab.patches import cv2_imshow"
      ]
    },
    {
      "cell_type": "markdown",
      "source": [
        "## Загружаем набор данных:"
      ],
      "metadata": {
        "id": "aJextk3pO8Ko"
      }
    },
    {
      "cell_type": "code",
      "source": [
        "! pip install wldhx.yadisk-direct\n",
        "! curl -L $(yadisk-direct https://disk.yandex.ru/d/re_mUSlRgTC7FA) -o Cats_Dogs_Pandas.zip\n",
        "! unzip -qq Cats_Dogs_Pandas.zip"
      ],
      "metadata": {
        "id": "6US39tRcO7Y-",
        "colab": {
          "base_uri": "https://localhost:8080/"
        },
        "outputId": "890de152-88dd-4e10-b638-e032cd5e57a0"
      },
      "execution_count": 21,
      "outputs": [
        {
          "output_type": "stream",
          "name": "stdout",
          "text": [
            "Collecting wldhx.yadisk-direct\n",
            "  Downloading wldhx.yadisk_direct-0.0.6-py3-none-any.whl (4.5 kB)\n",
            "Requirement already satisfied: requests in /usr/local/lib/python3.10/dist-packages (from wldhx.yadisk-direct) (2.31.0)\n",
            "Requirement already satisfied: charset-normalizer<4,>=2 in /usr/local/lib/python3.10/dist-packages (from requests->wldhx.yadisk-direct) (3.3.2)\n",
            "Requirement already satisfied: idna<4,>=2.5 in /usr/local/lib/python3.10/dist-packages (from requests->wldhx.yadisk-direct) (3.6)\n",
            "Requirement already satisfied: urllib3<3,>=1.21.1 in /usr/local/lib/python3.10/dist-packages (from requests->wldhx.yadisk-direct) (2.0.7)\n",
            "Requirement already satisfied: certifi>=2017.4.17 in /usr/local/lib/python3.10/dist-packages (from requests->wldhx.yadisk-direct) (2024.2.2)\n",
            "Installing collected packages: wldhx.yadisk-direct\n",
            "Successfully installed wldhx.yadisk-direct-0.0.6\n",
            "  % Total    % Received % Xferd  Average Speed   Time    Time     Time  Current\n",
            "                                 Dload  Upload   Total   Spent    Left  Speed\n",
            "  0     0    0     0    0     0      0      0 --:--:-- --:--:-- --:--:--     0\n",
            "100  189M  100  189M    0     0  15.2M      0  0:00:12  0:00:12 --:--:-- 19.6M\n"
          ]
        }
      ]
    },
    {
      "cell_type": "markdown",
      "source": [
        "## Указываем путь к набору данных:"
      ],
      "metadata": {
        "id": "pX1km_kyV2Ka"
      }
    },
    {
      "cell_type": "code",
      "execution_count": 24,
      "metadata": {
        "id": "WykiH3MpQBHJ"
      },
      "outputs": [],
      "source": [
        "# Собираем список путей к каждому изображению и перемешиваем их\n",
        "imagePaths = sorted(list(paths.list_images(\"/content/Cats_Dogs_Pandas/animals\")))\n",
        "random.shuffle(imagePaths)"
      ]
    },
    {
      "cell_type": "markdown",
      "source": [
        "## Загружаем набор данных и формируем общую выборку:"
      ],
      "metadata": {
        "id": "sAYZPzKSVobq"
      }
    },
    {
      "cell_type": "code",
      "execution_count": 25,
      "metadata": {
        "id": "-VKKpFFnQGhS"
      },
      "outputs": [],
      "source": [
        "def load_images(imagePaths, compression_size = 32):\n",
        "  \"\"\"\n",
        "  Функция для загрузки изображений и преобразования их в векторы признаков.\n",
        "\n",
        "  Args:\n",
        "    imagePaths: список путей к изображениям.\n",
        "    compression_size: размер сжатия изображения\n",
        "\n",
        "  Returns:\n",
        "    data: список векторов признаков (сжатых изображений, преобразованных в векторы).\n",
        "    labels: список меток классов.\n",
        "  \"\"\"\n",
        "\n",
        "  data = []\n",
        "  labels = []\n",
        "\n",
        "  for imagePath in imagePaths:\n",
        "    # Загрузка изображения\n",
        "    image = cv2.imread(imagePath)\n",
        "\n",
        "    # Изменение разрешения изображения (по умолчанию 32х32х3 -> 3072,)\n",
        "    image = cv2.resize(image, (compression_size, compression_size)).flatten()\n",
        "\n",
        "    # Добавление изображения в список\n",
        "    data.append(image)\n",
        "\n",
        "    # Извлечение метки класса из пути к изображению\n",
        "    label = imagePath.split(os.path.sep)[-2]\n",
        "\n",
        "    # Добавление метки в список\n",
        "    labels.append(label)\n",
        "\n",
        "  return data, labels"
      ]
    },
    {
      "cell_type": "code",
      "source": [
        "compression_size = 32\n",
        "\n",
        "data, labels = load_images(imagePaths, compression_size)"
      ],
      "metadata": {
        "id": "DUxe6elRWcgi"
      },
      "execution_count": 26,
      "outputs": []
    },
    {
      "cell_type": "markdown",
      "source": [
        "## Нормализуем данные:"
      ],
      "metadata": {
        "id": "yeiILoUSXn4c"
      }
    },
    {
      "cell_type": "markdown",
      "source": [
        "Масштабируем интенсивности пикселей в диапазон [0, 1], а также преобразуем данные в массивы NumPy для повышения производительности\n"
      ],
      "metadata": {
        "id": "PceSnJBEZDPm"
      }
    },
    {
      "cell_type": "code",
      "execution_count": 27,
      "metadata": {
        "id": "o7cHnuvIQGnn"
      },
      "outputs": [],
      "source": [
        "data = np.array(data, dtype=\"float\") / 255.0\n",
        "labels = np.array(labels)"
      ]
    },
    {
      "cell_type": "markdown",
      "source": [
        "## Формируем обучающую и валидационную выборки:"
      ],
      "metadata": {
        "id": "lREm4zIRaSsx"
      }
    },
    {
      "cell_type": "markdown",
      "source": [
        "Разделяем данные на обучающую и валидационную выборки, используя 75% данных для обучения и оставшиеся 25% для валидации"
      ],
      "metadata": {
        "id": "lwTSSQkPa9oI"
      }
    },
    {
      "cell_type": "code",
      "execution_count": 29,
      "metadata": {
        "id": "CdmySxyzQGsa"
      },
      "outputs": [],
      "source": [
        "(X_train, X_val, Y_train, Y_val) = train_test_split(data, labels,\n",
        "                                                  test_size=0.25,\n",
        "\t\t\t\t\t\t\t\t\t\t\t\t\t\t\t\t\t\t\t\t\t\t\t\t\trandom_state=42)"
      ]
    },
    {
      "cell_type": "markdown",
      "source": [
        "Преобразуем метки классов в формат One-Hot Encoding:\n",
        "\n",
        "   \n",
        "\n",
        "```python\n",
        "    \"cats\" ->  [1, 0, 0]\n",
        "    \"dogs\" ->  [0, 1, 0]\n",
        "    \"panda\" -> [0, 0, 1]\n",
        "```\n",
        "\n"
      ],
      "metadata": {
        "id": "DYB7v-A8cKlW"
      }
    },
    {
      "cell_type": "code",
      "execution_count": 30,
      "metadata": {
        "id": "DHDEnBT4QGxX"
      },
      "outputs": [],
      "source": [
        "lb = LabelBinarizer()\n",
        "Y_train = lb.fit_transform(Y_train)\n",
        "Y_val = lb.transform(Y_val)"
      ]
    },
    {
      "cell_type": "markdown",
      "source": [
        "## Создание модели:"
      ],
      "metadata": {
        "id": "Sz33nCuvc3Pk"
      }
    },
    {
      "cell_type": "markdown",
      "source": [
        "#### Определим архитектуру модели с помощью Keras:"
      ],
      "metadata": {
        "id": "r2mcOGxEc-uB"
      }
    },
    {
      "cell_type": "markdown",
      "source": [
        "Если значение параметра ***compression_size = 32***, то входной слой должен иметь 32\\*32*3 = 3072 входных нейрона"
      ],
      "metadata": {
        "id": "rI299UAWe1oB"
      }
    },
    {
      "cell_type": "markdown",
      "source": [
        "Вычислим динамически параметры входного слоя, чтобы при изменении параметров сжатия, не пришлось вносисть изменений в архитуру модели:"
      ],
      "metadata": {
        "id": "9h8oy_4ufgse"
      }
    },
    {
      "cell_type": "code",
      "source": [
        "input_shape = (compression_size * compression_size * 3,)"
      ],
      "metadata": {
        "id": "i6spUPlmffV5"
      },
      "execution_count": 31,
      "outputs": []
    },
    {
      "cell_type": "code",
      "execution_count": 32,
      "metadata": {
        "id": "ysxmAM6cQG06"
      },
      "outputs": [],
      "source": [
        "model = Sequential()\n",
        "model.add(Dense(1024, input_shape=input_shape, activation=\"relu\"))\n",
        "model.add(Dense(128, activation=\"relu\"))\n",
        "model.add(Dense(len(lb.classes_), activation=\"softmax\"))"
      ]
    },
    {
      "cell_type": "markdown",
      "source": [
        "#### Установим значение параметров скорости обучения и общего числа эпох\n"
      ],
      "metadata": {
        "id": "HHFTdcCkg1Wr"
      }
    },
    {
      "cell_type": "code",
      "execution_count": 33,
      "metadata": {
        "id": "RC7U1mwKQUiE"
      },
      "outputs": [],
      "source": [
        "INIT_LR = 0.0000005\n",
        "EPOCHS = 100"
      ]
    },
    {
      "cell_type": "markdown",
      "source": [
        "#### Компилируем модель, используя Adam как оптимизатор и категориальную кросс-энтропию в качестве функции потерь (для бинарной классификации следует использовать binary_crossentropy):"
      ],
      "metadata": {
        "id": "YaDdd2wphXLv"
      }
    },
    {
      "cell_type": "code",
      "execution_count": 34,
      "metadata": {
        "id": "_YwlutjiQXMv"
      },
      "outputs": [],
      "source": [
        "opt = Adam(learning_rate=INIT_LR)\n",
        "\n",
        "model.compile(loss=\"categorical_crossentropy\", optimizer=opt,\n",
        "\t\t\t\t\t\t\t\t\t\t\t\t\t\t\t\t\t\t\t\t\tmetrics=[\"accuracy\"])"
      ]
    },
    {
      "cell_type": "markdown",
      "source": [
        "## Обучение модели искусственной нейронной сети:"
      ],
      "metadata": {
        "id": "EaJdxfw4hwjN"
      }
    },
    {
      "cell_type": "markdown",
      "source": [
        "#### Добавим колбэки для сохранения лучшей модели по валидационной точности и остановки обучения, в случае, если модель перестала обучаться:"
      ],
      "metadata": {
        "id": "KAzlK96zi0dy"
      }
    },
    {
      "cell_type": "markdown",
      "source": [
        "- **Колбэки** (или обратные вызовы) в Keras - это объекты, которые позволяют выполнять действия в различных точках жизненного цикла обучения, оценки и предсказания модели."
      ],
      "metadata": {
        "id": "T_BYhhUV4zxJ"
      }
    },
    {
      "cell_type": "code",
      "source": [
        "from keras.callbacks import EarlyStopping, ModelCheckpoint\n",
        "\n",
        "early_stopping = EarlyStopping(patience=5) # Остановка обучения, если\n",
        "                                             # валидационная точность не\n",
        "                                             # улучшается в течение 5 эпох\n",
        "checkpoint = ModelCheckpoint(filepath=\"best_model.h5\",\n",
        "                             monitor=\"val_accuracy\",\n",
        "                             save_best_only=True,\n",
        "                             verbose=0) # Сохранение модели\n",
        "                                         # только при улучшении\n",
        "                                         # валидационной точности"
      ],
      "metadata": {
        "id": "pQvLo03xi1DZ"
      },
      "execution_count": 35,
      "outputs": []
    },
    {
      "cell_type": "markdown",
      "source": [
        "#### Запустим процесс обучения модели:"
      ],
      "metadata": {
        "id": "IgakM035jDPi"
      }
    },
    {
      "cell_type": "code",
      "execution_count": 36,
      "metadata": {
        "colab": {
          "base_uri": "https://localhost:8080/"
        },
        "id": "soa-Mzd0QXbm",
        "outputId": "1672c219-a527-42d9-ffdb-7c2c9e8499f0",
        "scrolled": true
      },
      "outputs": [
        {
          "output_type": "stream",
          "name": "stdout",
          "text": [
            "Epoch 1/100\n",
            "23/23 [==============================] - 5s 137ms/step - loss: 1.0987 - accuracy: 0.3680 - val_loss: 1.0946 - val_accuracy: 0.3613\n",
            "Epoch 2/100\n"
          ]
        },
        {
          "output_type": "stream",
          "name": "stderr",
          "text": [
            "/usr/local/lib/python3.10/dist-packages/keras/src/engine/training.py:3103: UserWarning: You are saving your model as an HDF5 file via `model.save()`. This file format is considered legacy. We recommend using instead the native Keras format, e.g. `model.save('my_model.keras')`.\n",
            "  saving_api.save_model(\n"
          ]
        },
        {
          "output_type": "stream",
          "name": "stdout",
          "text": [
            "23/23 [==============================] - 2s 85ms/step - loss: 1.0904 - accuracy: 0.3782 - val_loss: 1.0878 - val_accuracy: 0.3733\n",
            "Epoch 3/100\n",
            "23/23 [==============================] - 2s 76ms/step - loss: 1.0824 - accuracy: 0.3920 - val_loss: 1.0805 - val_accuracy: 0.3733\n",
            "Epoch 4/100\n",
            "23/23 [==============================] - 2s 81ms/step - loss: 1.0748 - accuracy: 0.3978 - val_loss: 1.0740 - val_accuracy: 0.3867\n",
            "Epoch 5/100\n",
            "23/23 [==============================] - 2s 88ms/step - loss: 1.0675 - accuracy: 0.4138 - val_loss: 1.0677 - val_accuracy: 0.3933\n",
            "Epoch 6/100\n",
            "23/23 [==============================] - 2s 84ms/step - loss: 1.0604 - accuracy: 0.4244 - val_loss: 1.0617 - val_accuracy: 0.4080\n",
            "Epoch 7/100\n",
            "23/23 [==============================] - 3s 112ms/step - loss: 1.0536 - accuracy: 0.4338 - val_loss: 1.0558 - val_accuracy: 0.4187\n",
            "Epoch 8/100\n",
            "23/23 [==============================] - 3s 114ms/step - loss: 1.0470 - accuracy: 0.4431 - val_loss: 1.0506 - val_accuracy: 0.4280\n",
            "Epoch 9/100\n",
            "23/23 [==============================] - 2s 80ms/step - loss: 1.0409 - accuracy: 0.4502 - val_loss: 1.0456 - val_accuracy: 0.4387\n",
            "Epoch 10/100\n",
            "23/23 [==============================] - 2s 83ms/step - loss: 1.0351 - accuracy: 0.4604 - val_loss: 1.0410 - val_accuracy: 0.4400\n",
            "Epoch 11/100\n",
            "23/23 [==============================] - 2s 82ms/step - loss: 1.0292 - accuracy: 0.4693 - val_loss: 1.0363 - val_accuracy: 0.4573\n",
            "Epoch 12/100\n",
            "23/23 [==============================] - 2s 88ms/step - loss: 1.0238 - accuracy: 0.4818 - val_loss: 1.0316 - val_accuracy: 0.4627\n",
            "Epoch 13/100\n",
            "23/23 [==============================] - 2s 85ms/step - loss: 1.0184 - accuracy: 0.4929 - val_loss: 1.0274 - val_accuracy: 0.4667\n",
            "Epoch 14/100\n",
            "23/23 [==============================] - 3s 117ms/step - loss: 1.0133 - accuracy: 0.5040 - val_loss: 1.0232 - val_accuracy: 0.4720\n",
            "Epoch 15/100\n",
            "23/23 [==============================] - 2s 99ms/step - loss: 1.0086 - accuracy: 0.5111 - val_loss: 1.0191 - val_accuracy: 0.4747\n",
            "Epoch 16/100\n",
            "23/23 [==============================] - 2s 79ms/step - loss: 1.0037 - accuracy: 0.5156 - val_loss: 1.0159 - val_accuracy: 0.4813\n",
            "Epoch 17/100\n",
            "23/23 [==============================] - 2s 79ms/step - loss: 0.9991 - accuracy: 0.5196 - val_loss: 1.0121 - val_accuracy: 0.4907\n",
            "Epoch 18/100\n",
            "23/23 [==============================] - 2s 83ms/step - loss: 0.9946 - accuracy: 0.5262 - val_loss: 1.0088 - val_accuracy: 0.4947\n",
            "Epoch 19/100\n",
            "23/23 [==============================] - 2s 83ms/step - loss: 0.9902 - accuracy: 0.5307 - val_loss: 1.0053 - val_accuracy: 0.4987\n",
            "Epoch 20/100\n",
            "23/23 [==============================] - 2s 79ms/step - loss: 0.9860 - accuracy: 0.5382 - val_loss: 1.0020 - val_accuracy: 0.5040\n",
            "Epoch 21/100\n",
            "23/23 [==============================] - 2s 106ms/step - loss: 0.9818 - accuracy: 0.5440 - val_loss: 0.9985 - val_accuracy: 0.5040\n",
            "Epoch 22/100\n",
            "23/23 [==============================] - 2s 103ms/step - loss: 0.9778 - accuracy: 0.5467 - val_loss: 0.9958 - val_accuracy: 0.5013\n",
            "Epoch 23/100\n",
            "23/23 [==============================] - 2s 73ms/step - loss: 0.9738 - accuracy: 0.5480 - val_loss: 0.9925 - val_accuracy: 0.5040\n",
            "Epoch 24/100\n",
            "23/23 [==============================] - 2s 80ms/step - loss: 0.9701 - accuracy: 0.5524 - val_loss: 0.9896 - val_accuracy: 0.5067\n",
            "Epoch 25/100\n",
            "23/23 [==============================] - 2s 74ms/step - loss: 0.9663 - accuracy: 0.5533 - val_loss: 0.9866 - val_accuracy: 0.5040\n",
            "Epoch 26/100\n",
            "23/23 [==============================] - 2s 79ms/step - loss: 0.9627 - accuracy: 0.5578 - val_loss: 0.9839 - val_accuracy: 0.5093\n",
            "Epoch 27/100\n",
            "23/23 [==============================] - 2s 81ms/step - loss: 0.9593 - accuracy: 0.5618 - val_loss: 0.9810 - val_accuracy: 0.5133\n",
            "Epoch 28/100\n",
            "23/23 [==============================] - 2s 93ms/step - loss: 0.9558 - accuracy: 0.5618 - val_loss: 0.9783 - val_accuracy: 0.5133\n",
            "Epoch 29/100\n",
            "23/23 [==============================] - 3s 117ms/step - loss: 0.9525 - accuracy: 0.5604 - val_loss: 0.9752 - val_accuracy: 0.5173\n",
            "Epoch 30/100\n",
            "23/23 [==============================] - 2s 79ms/step - loss: 0.9492 - accuracy: 0.5676 - val_loss: 0.9732 - val_accuracy: 0.5107\n",
            "Epoch 31/100\n",
            "23/23 [==============================] - 2s 74ms/step - loss: 0.9461 - accuracy: 0.5684 - val_loss: 0.9706 - val_accuracy: 0.5120\n",
            "Epoch 32/100\n",
            "23/23 [==============================] - 2s 74ms/step - loss: 0.9431 - accuracy: 0.5676 - val_loss: 0.9680 - val_accuracy: 0.5133\n",
            "Epoch 33/100\n",
            "23/23 [==============================] - 2s 75ms/step - loss: 0.9402 - accuracy: 0.5702 - val_loss: 0.9664 - val_accuracy: 0.5147\n",
            "Epoch 34/100\n",
            "23/23 [==============================] - 2s 72ms/step - loss: 0.9372 - accuracy: 0.5729 - val_loss: 0.9635 - val_accuracy: 0.5160\n",
            "Epoch 35/100\n",
            "23/23 [==============================] - 2s 73ms/step - loss: 0.9344 - accuracy: 0.5751 - val_loss: 0.9613 - val_accuracy: 0.5160\n",
            "Epoch 36/100\n",
            "23/23 [==============================] - 2s 108ms/step - loss: 0.9316 - accuracy: 0.5764 - val_loss: 0.9593 - val_accuracy: 0.5173\n",
            "Epoch 37/100\n",
            "23/23 [==============================] - 2s 106ms/step - loss: 0.9288 - accuracy: 0.5844 - val_loss: 0.9574 - val_accuracy: 0.5213\n",
            "Epoch 38/100\n",
            "23/23 [==============================] - 2s 79ms/step - loss: 0.9263 - accuracy: 0.5844 - val_loss: 0.9548 - val_accuracy: 0.5293\n",
            "Epoch 39/100\n",
            "23/23 [==============================] - 2s 80ms/step - loss: 0.9236 - accuracy: 0.5831 - val_loss: 0.9535 - val_accuracy: 0.5267\n",
            "Epoch 40/100\n",
            "23/23 [==============================] - 2s 78ms/step - loss: 0.9212 - accuracy: 0.5862 - val_loss: 0.9515 - val_accuracy: 0.5307\n",
            "Epoch 41/100\n",
            "23/23 [==============================] - 2s 72ms/step - loss: 0.9188 - accuracy: 0.5889 - val_loss: 0.9495 - val_accuracy: 0.5307\n",
            "Epoch 42/100\n",
            "23/23 [==============================] - 2s 81ms/step - loss: 0.9164 - accuracy: 0.5902 - val_loss: 0.9475 - val_accuracy: 0.5320\n",
            "Epoch 43/100\n",
            "23/23 [==============================] - 2s 104ms/step - loss: 0.9141 - accuracy: 0.5884 - val_loss: 0.9455 - val_accuracy: 0.5347\n",
            "Epoch 44/100\n",
            "23/23 [==============================] - 3s 114ms/step - loss: 0.9117 - accuracy: 0.5867 - val_loss: 0.9439 - val_accuracy: 0.5360\n",
            "Epoch 45/100\n",
            "23/23 [==============================] - 2s 72ms/step - loss: 0.9095 - accuracy: 0.5902 - val_loss: 0.9421 - val_accuracy: 0.5360\n",
            "Epoch 46/100\n",
            "23/23 [==============================] - 2s 71ms/step - loss: 0.9072 - accuracy: 0.5902 - val_loss: 0.9404 - val_accuracy: 0.5360\n",
            "Epoch 47/100\n",
            "23/23 [==============================] - 2s 76ms/step - loss: 0.9051 - accuracy: 0.5947 - val_loss: 0.9385 - val_accuracy: 0.5400\n",
            "Epoch 48/100\n",
            "23/23 [==============================] - 2s 71ms/step - loss: 0.9028 - accuracy: 0.5951 - val_loss: 0.9370 - val_accuracy: 0.5373\n",
            "Epoch 49/100\n",
            "23/23 [==============================] - 2s 70ms/step - loss: 0.9009 - accuracy: 0.5978 - val_loss: 0.9356 - val_accuracy: 0.5333\n",
            "Epoch 50/100\n",
            "23/23 [==============================] - 2s 81ms/step - loss: 0.8988 - accuracy: 0.5973 - val_loss: 0.9337 - val_accuracy: 0.5413\n",
            "Epoch 51/100\n",
            "23/23 [==============================] - 2s 102ms/step - loss: 0.8970 - accuracy: 0.5938 - val_loss: 0.9328 - val_accuracy: 0.5387\n",
            "Epoch 52/100\n",
            "23/23 [==============================] - 2s 94ms/step - loss: 0.8949 - accuracy: 0.6013 - val_loss: 0.9308 - val_accuracy: 0.5400\n",
            "Epoch 53/100\n",
            "23/23 [==============================] - 2s 75ms/step - loss: 0.8927 - accuracy: 0.6000 - val_loss: 0.9291 - val_accuracy: 0.5427\n",
            "Epoch 54/100\n",
            "23/23 [==============================] - 2s 72ms/step - loss: 0.8908 - accuracy: 0.6000 - val_loss: 0.9277 - val_accuracy: 0.5427\n",
            "Epoch 55/100\n",
            "23/23 [==============================] - 2s 72ms/step - loss: 0.8891 - accuracy: 0.5996 - val_loss: 0.9271 - val_accuracy: 0.5387\n",
            "Epoch 56/100\n",
            "23/23 [==============================] - 2s 75ms/step - loss: 0.8870 - accuracy: 0.6013 - val_loss: 0.9251 - val_accuracy: 0.5453\n",
            "Epoch 57/100\n",
            "23/23 [==============================] - 2s 75ms/step - loss: 0.8851 - accuracy: 0.6027 - val_loss: 0.9236 - val_accuracy: 0.5480\n",
            "Epoch 58/100\n",
            "23/23 [==============================] - 2s 77ms/step - loss: 0.8834 - accuracy: 0.6000 - val_loss: 0.9220 - val_accuracy: 0.5427\n",
            "Epoch 59/100\n",
            "23/23 [==============================] - 2s 105ms/step - loss: 0.8816 - accuracy: 0.6036 - val_loss: 0.9215 - val_accuracy: 0.5387\n",
            "Epoch 60/100\n",
            "23/23 [==============================] - 2s 93ms/step - loss: 0.8798 - accuracy: 0.6067 - val_loss: 0.9196 - val_accuracy: 0.5520\n",
            "Epoch 61/100\n",
            "23/23 [==============================] - 2s 71ms/step - loss: 0.8782 - accuracy: 0.6084 - val_loss: 0.9189 - val_accuracy: 0.5413\n",
            "Epoch 62/100\n",
            "23/23 [==============================] - 2s 71ms/step - loss: 0.8761 - accuracy: 0.6107 - val_loss: 0.9170 - val_accuracy: 0.5480\n",
            "Epoch 63/100\n",
            "23/23 [==============================] - 2s 70ms/step - loss: 0.8746 - accuracy: 0.6084 - val_loss: 0.9158 - val_accuracy: 0.5493\n",
            "Epoch 64/100\n",
            "23/23 [==============================] - 2s 71ms/step - loss: 0.8727 - accuracy: 0.6116 - val_loss: 0.9145 - val_accuracy: 0.5480\n",
            "Epoch 65/100\n",
            "23/23 [==============================] - 2s 70ms/step - loss: 0.8710 - accuracy: 0.6111 - val_loss: 0.9132 - val_accuracy: 0.5480\n",
            "Epoch 66/100\n",
            "23/23 [==============================] - 2s 83ms/step - loss: 0.8695 - accuracy: 0.6133 - val_loss: 0.9123 - val_accuracy: 0.5493\n",
            "Epoch 67/100\n",
            "23/23 [==============================] - 2s 102ms/step - loss: 0.8678 - accuracy: 0.6111 - val_loss: 0.9111 - val_accuracy: 0.5480\n",
            "Epoch 68/100\n",
            "23/23 [==============================] - 2s 86ms/step - loss: 0.8665 - accuracy: 0.6133 - val_loss: 0.9101 - val_accuracy: 0.5493\n",
            "Epoch 69/100\n",
            "23/23 [==============================] - 2s 71ms/step - loss: 0.8649 - accuracy: 0.6133 - val_loss: 0.9088 - val_accuracy: 0.5493\n",
            "Epoch 70/100\n",
            "23/23 [==============================] - 2s 70ms/step - loss: 0.8633 - accuracy: 0.6142 - val_loss: 0.9077 - val_accuracy: 0.5480\n",
            "Epoch 71/100\n",
            "23/23 [==============================] - 2s 69ms/step - loss: 0.8618 - accuracy: 0.6147 - val_loss: 0.9067 - val_accuracy: 0.5493\n",
            "Epoch 72/100\n",
            "23/23 [==============================] - 2s 69ms/step - loss: 0.8603 - accuracy: 0.6160 - val_loss: 0.9054 - val_accuracy: 0.5453\n",
            "Epoch 73/100\n",
            "23/23 [==============================] - 2s 72ms/step - loss: 0.8587 - accuracy: 0.6169 - val_loss: 0.9046 - val_accuracy: 0.5507\n",
            "Epoch 74/100\n",
            "23/23 [==============================] - 2s 81ms/step - loss: 0.8572 - accuracy: 0.6196 - val_loss: 0.9036 - val_accuracy: 0.5520\n",
            "Epoch 75/100\n",
            "23/23 [==============================] - 3s 111ms/step - loss: 0.8559 - accuracy: 0.6178 - val_loss: 0.9024 - val_accuracy: 0.5533\n",
            "Epoch 76/100\n",
            "23/23 [==============================] - 2s 95ms/step - loss: 0.8544 - accuracy: 0.6200 - val_loss: 0.9016 - val_accuracy: 0.5560\n",
            "Epoch 77/100\n",
            "23/23 [==============================] - 2s 73ms/step - loss: 0.8531 - accuracy: 0.6231 - val_loss: 0.9007 - val_accuracy: 0.5547\n",
            "Epoch 78/100\n",
            "23/23 [==============================] - 2s 72ms/step - loss: 0.8516 - accuracy: 0.6218 - val_loss: 0.8995 - val_accuracy: 0.5533\n",
            "Epoch 79/100\n",
            "23/23 [==============================] - 2s 71ms/step - loss: 0.8504 - accuracy: 0.6227 - val_loss: 0.8983 - val_accuracy: 0.5547\n",
            "Epoch 80/100\n",
            "23/23 [==============================] - 2s 73ms/step - loss: 0.8490 - accuracy: 0.6244 - val_loss: 0.8976 - val_accuracy: 0.5547\n",
            "Epoch 81/100\n",
            "23/23 [==============================] - 2s 70ms/step - loss: 0.8478 - accuracy: 0.6253 - val_loss: 0.8968 - val_accuracy: 0.5560\n",
            "Epoch 82/100\n",
            "23/23 [==============================] - 2s 93ms/step - loss: 0.8465 - accuracy: 0.6253 - val_loss: 0.8955 - val_accuracy: 0.5547\n",
            "Epoch 83/100\n",
            "23/23 [==============================] - 2s 102ms/step - loss: 0.8451 - accuracy: 0.6253 - val_loss: 0.8950 - val_accuracy: 0.5560\n",
            "Epoch 84/100\n",
            "23/23 [==============================] - 2s 80ms/step - loss: 0.8439 - accuracy: 0.6262 - val_loss: 0.8938 - val_accuracy: 0.5547\n",
            "Epoch 85/100\n",
            "23/23 [==============================] - 2s 72ms/step - loss: 0.8426 - accuracy: 0.6244 - val_loss: 0.8930 - val_accuracy: 0.5547\n",
            "Epoch 86/100\n",
            "23/23 [==============================] - 2s 69ms/step - loss: 0.8415 - accuracy: 0.6253 - val_loss: 0.8922 - val_accuracy: 0.5547\n",
            "Epoch 87/100\n",
            "23/23 [==============================] - 2s 70ms/step - loss: 0.8404 - accuracy: 0.6280 - val_loss: 0.8910 - val_accuracy: 0.5533\n",
            "Epoch 88/100\n",
            "23/23 [==============================] - 2s 74ms/step - loss: 0.8392 - accuracy: 0.6271 - val_loss: 0.8905 - val_accuracy: 0.5573\n",
            "Epoch 89/100\n",
            "23/23 [==============================] - 2s 75ms/step - loss: 0.8381 - accuracy: 0.6298 - val_loss: 0.8898 - val_accuracy: 0.5587\n",
            "Epoch 90/100\n",
            "23/23 [==============================] - 2s 91ms/step - loss: 0.8368 - accuracy: 0.6293 - val_loss: 0.8883 - val_accuracy: 0.5560\n",
            "Epoch 91/100\n",
            "23/23 [==============================] - 2s 100ms/step - loss: 0.8356 - accuracy: 0.6280 - val_loss: 0.8878 - val_accuracy: 0.5560\n",
            "Epoch 92/100\n",
            "23/23 [==============================] - 2s 81ms/step - loss: 0.8344 - accuracy: 0.6333 - val_loss: 0.8871 - val_accuracy: 0.5560\n",
            "Epoch 93/100\n",
            "23/23 [==============================] - 2s 77ms/step - loss: 0.8336 - accuracy: 0.6316 - val_loss: 0.8869 - val_accuracy: 0.5600\n",
            "Epoch 94/100\n",
            "23/23 [==============================] - 2s 73ms/step - loss: 0.8322 - accuracy: 0.6329 - val_loss: 0.8856 - val_accuracy: 0.5573\n",
            "Epoch 95/100\n",
            "23/23 [==============================] - 2s 74ms/step - loss: 0.8311 - accuracy: 0.6342 - val_loss: 0.8844 - val_accuracy: 0.5573\n",
            "Epoch 96/100\n",
            "23/23 [==============================] - 2s 72ms/step - loss: 0.8301 - accuracy: 0.6351 - val_loss: 0.8838 - val_accuracy: 0.5587\n",
            "Epoch 97/100\n",
            "23/23 [==============================] - 2s 70ms/step - loss: 0.8291 - accuracy: 0.6369 - val_loss: 0.8833 - val_accuracy: 0.5587\n",
            "Epoch 98/100\n",
            "23/23 [==============================] - 2s 96ms/step - loss: 0.8279 - accuracy: 0.6356 - val_loss: 0.8823 - val_accuracy: 0.5600\n",
            "Epoch 99/100\n",
            "23/23 [==============================] - 3s 113ms/step - loss: 0.8271 - accuracy: 0.6356 - val_loss: 0.8817 - val_accuracy: 0.5613\n",
            "Epoch 100/100\n",
            "23/23 [==============================] - 2s 74ms/step - loss: 0.8261 - accuracy: 0.6347 - val_loss: 0.8808 - val_accuracy: 0.5600\n"
          ]
        }
      ],
      "source": [
        "H = model.fit(X_train, Y_train,\n",
        "              validation_data=(X_val, Y_val),\n",
        "              epochs=EPOCHS,\n",
        "              batch_size=100,\n",
        "              callbacks=[early_stopping, checkpoint])"
      ]
    },
    {
      "cell_type": "markdown",
      "source": [
        "#### Загружаем лучшую модель:"
      ],
      "metadata": {
        "id": "-dESH383noKz"
      }
    },
    {
      "cell_type": "code",
      "source": [
        "from keras.models import load_model\n",
        "\n",
        "model = load_model(\"/content/best_model.h5\")"
      ],
      "metadata": {
        "id": "8AE1HSFgnoeT"
      },
      "execution_count": 37,
      "outputs": []
    },
    {
      "cell_type": "markdown",
      "source": [
        "## Оценка точности:"
      ],
      "metadata": {
        "id": "CLv-TknOoQ8l"
      }
    },
    {
      "cell_type": "markdown",
      "source": [
        "#### Выведем отчет классификации"
      ],
      "metadata": {
        "id": "J16c8i49o2Kq"
      }
    },
    {
      "cell_type": "code",
      "execution_count": 38,
      "metadata": {
        "colab": {
          "base_uri": "https://localhost:8080/"
        },
        "id": "PY9wsvHSQXd4",
        "outputId": "03777bc3-e476-4c69-8e15-3474d939525d"
      },
      "outputs": [
        {
          "output_type": "stream",
          "name": "stdout",
          "text": [
            "24/24 [==============================] - 0s 10ms/step\n",
            "              precision    recall  f1-score   support\n",
            "\n",
            "        cats       0.49      0.49      0.49       247\n",
            "        dogs       0.49      0.47      0.48       258\n",
            "       panda       0.71      0.72      0.71       245\n",
            "\n",
            "    accuracy                           0.56       750\n",
            "   macro avg       0.56      0.56      0.56       750\n",
            "weighted avg       0.56      0.56      0.56       750\n",
            "\n"
          ]
        }
      ],
      "source": [
        "predictions = model.predict(X_val, batch_size=32)\n",
        "print(classification_report(Y_val.argmax(axis=1),\n",
        "\tpredictions.argmax(axis=1), target_names=lb.classes_))"
      ]
    },
    {
      "cell_type": "markdown",
      "source": [
        "##### Интерпретация отчета классификации (classification_report):\n",
        "\n",
        "**1. Точность (precision):**\n",
        "\n",
        "* Доля правильно классифицированных объектов.\n",
        "* Чем выше, тем лучше.\n",
        "\n",
        "**2. Полнота (recall):**\n",
        "\n",
        "* Доля объектов каждого класса, которые были правильно классифицированы.\n",
        "* Чем выше, тем лучше модель \"улавливает\" объекты каждого класса.\n",
        "\n",
        "**3. F1-мера (f1-score):**\n",
        "\n",
        "* Гармоническое среднее между точностью и полнотой.\n",
        "* Учитывает баланс между точностью и полнотой.\n",
        "* Чем выше, тем лучше.\n",
        "\n",
        "**4. Поддержка (support):**\n",
        "\n",
        "* Доля объектов в каждом классе.\n",
        "\n",
        "**5. Macro avg:**\n",
        "\n",
        "* Среднее арифметическое значений метрик по классам.**\n",
        "* Не учитывает количество объектов в каждом классе.**\n",
        "* Полезно для оценки производительности модели на классах с малым числом объектов.\n",
        "\n",
        "**6. Weighted avg:**\n",
        "\n",
        "* Среднее арифметическое значений метрик по классам, взвешенное по количеству объектов в каждом классе.\n",
        "* Учитывает влияние классов с большим числом объектов.\n",
        "* Полезно для оценки производительности модели на классах с несбалансированными наборами данных."
      ],
      "metadata": {
        "id": "PpPiN-QSsMUz"
      }
    },
    {
      "cell_type": "markdown",
      "source": [
        "#### Выведем матрицу ошибок"
      ],
      "metadata": {
        "id": "YwbFnynjpKYS"
      }
    },
    {
      "cell_type": "markdown",
      "source": [
        "Матрица ошибок (confusion matrix) - это таблица,\n",
        "которая показывает, сколько объектов каждого класса\n",
        "было правильно и неправильно классифицировано."
      ],
      "metadata": {
        "id": "-6EIg2x5pTeT"
      }
    },
    {
      "cell_type": "code",
      "source": [
        "from sklearn.metrics import confusion_matrix\n",
        "import seaborn as sns\n",
        "\n",
        "# Получим прогнозы по валидационным даннным\n",
        "Y_pred = model.predict(X_val, batch_size=32)\n",
        "\n",
        "# Преобразуем вероятности в метки классов\n",
        "Y_pred = Y_pred.argmax(axis=1)\n",
        "Y_val = Y_val.argmax(axis=1)\n",
        "\n",
        "# Вычисляем матрицу ошибок\n",
        "conf_mat = confusion_matrix(Y_val, Y_pred)\n",
        "\n",
        "# Визуализируем матрицу ошибок\n",
        "sns.heatmap(conf_mat, annot=True, fmt=\"d\", cmap=\"YlGnBu\")\n",
        "plt.show()"
      ],
      "metadata": {
        "colab": {
          "base_uri": "https://localhost:8080/",
          "height": 448
        },
        "id": "5R_xG3wLpNbX",
        "outputId": "551f40d1-9343-4f18-9d56-5555c6e84905"
      },
      "execution_count": 39,
      "outputs": [
        {
          "output_type": "stream",
          "name": "stdout",
          "text": [
            "24/24 [==============================] - 0s 9ms/step\n"
          ]
        },
        {
          "output_type": "display_data",
          "data": {
            "text/plain": [
              "<Figure size 640x480 with 2 Axes>"
            ],
            "image/png": "[encoded data removed]"
          },
          "metadata": {}
        }
      ]
    },
    {
      "cell_type": "markdown",
      "source": [
        "##### Интерпретация матрицы ошибок:\n",
        "\n",
        "**Пример:**\n",
        "\n",
        "```\n",
        "    |   |   |   |   |\n",
        "    |---|---|---|---|\n",
        "    | 10 | 2 | 0 | 0 |  # 10 объектов класса 1 правильно классифицированы\n",
        "    | 1 | 11 | 1 | 0 |  # 11 объектов класса 2 правильно классифицированы\n",
        "    | 0 | 0 | 12 | 1 |  # 12 объектов класса 3 правильно классифицированы\n",
        "    | 0 | 0 | 1 | 9 |   # 9 объектов класса 4 правильно классифицированы\n",
        "    |---|---|---|---|\n",
        "```\n",
        "\n",
        "**В данном примере:**\n",
        "\n",
        "* Модель хорошо классифицирует все 4 класса.\n",
        "* Наибольшее количество ошибок (2) допущено при классификации объектов класса 1.\n",
        "\n",
        "\n",
        "**Строки:**\n",
        "\n",
        "* **Истинные классы:** показывают, какой класс на самом деле был у объектов.\n",
        "\n",
        "**Столбцы:**\n",
        "\n",
        "* **Предсказанные классы:** показывают, как модель классифицировала объекты.\n",
        "\n",
        "**Диагонали:**\n",
        "\n",
        "* **Правильные предсказания:** чем больше значения, тем лучше модель классифицирует данный класс.\n",
        "\n",
        "**Недиагональные элементы:**\n",
        "\n",
        "* **Ошибочные предсказания:**\n",
        "    * **Строка i, столбец j:** модель ошибочно предсказала класс j для объектов класса i.\n",
        "    * Чем больше значение, тем чаще модель ошибается.\n",
        "\n"
      ],
      "metadata": {
        "id": "IPxfyj76rK_1"
      }
    },
    {
      "cell_type": "markdown",
      "source": [
        "#### Отобразим график обучения"
      ],
      "metadata": {
        "id": "oqoaYCciugwi"
      }
    },
    {
      "cell_type": "code",
      "execution_count": 40,
      "metadata": {
        "colab": {
          "base_uri": "https://localhost:8080/",
          "height": 477
        },
        "id": "AduTqh6ZQXfx",
        "outputId": "fdd8089a-2537-4866-df35-16835f275f94"
      },
      "outputs": [
        {
          "output_type": "display_data",
          "data": {
            "text/plain": [
              "<Figure size 640x480 with 1 Axes>"
            ],
            "image/png": "[encoded data removed]"
          },
          "metadata": {}
        }
      ],
      "source": [
        "# строим графики потерь и точности\n",
        "N = np.arange(0, EPOCHS)\n",
        "plt.style.use(\"ggplot\")\n",
        "plt.figure()\n",
        "plt.plot(N, H.history[\"loss\"], label=\"train_loss\")\n",
        "plt.plot(N, H.history[\"val_loss\"], label=\"val_loss\")\n",
        "plt.plot(N, H.history[\"accuracy\"], label=\"train_acc\")\n",
        "plt.plot(N, H.history[\"val_accuracy\"], label=\"val_acc\")\n",
        "plt.title(\"Training Loss and Accuracy (Simple NN)\")\n",
        "plt.xlabel(\"Epoch #\")\n",
        "plt.ylabel(\"Loss/Accuracy\")\n",
        "plt.legend()\n",
        "plt.savefig('plot.png')"
      ]
    },
    {
      "cell_type": "markdown",
      "source": [
        "### Сохранение модели и меток классов:"
      ],
      "metadata": {
        "id": "RZfpw-xQu3Q8"
      }
    },
    {
      "cell_type": "code",
      "execution_count": 42,
      "metadata": {
        "id": "Dzu1jExLuwr3"
      },
      "outputs": [],
      "source": [
        "def save_model_and_labels(model, lb, model_path = \"model.h5\", labels_path = \"label_bin\"):\n",
        "    \"\"\"\n",
        "    Сохраняет модель машинного обучения и метки классов в бинарном формате на диск.\n",
        "\n",
        "    Args:\n",
        "        model: Модель машинного обучения.\n",
        "        lb: Метки классов.\n",
        "        model_path: Путь к файлу модели.\n",
        "        labels_path: Путь к файлу меток.\n",
        "\n",
        "    Returns:\n",
        "        None.\n",
        "    \"\"\"\n",
        "\n",
        "    # Сохранение модели\n",
        "    model.save(model_path, save_format=\"h5\")\n",
        "\n",
        "    # Сохранение меток\n",
        "    with open(labels_path, \"wb\") as f:\n",
        "        f.write(pickle.dumps(lb))"
      ]
    },
    {
      "cell_type": "code",
      "source": [
        "model_path = \"model.h5\"\n",
        "labels_path = \"label_bin\"\n",
        "\n",
        "save_model_and_labels(model, lb, model_path, labels_path)"
      ],
      "metadata": {
        "colab": {
          "base_uri": "https://localhost:8080/"
        },
        "id": "X2fLTfCRwf3Z",
        "outputId": "7376bd60-9747-4016-a2b4-9bba5752ddb6"
      },
      "execution_count": 43,
      "outputs": [
        {
          "output_type": "stream",
          "name": "stderr",
          "text": [
            "/usr/local/lib/python3.10/dist-packages/keras/src/engine/training.py:3103: UserWarning: You are saving your model as an HDF5 file via `model.save()`. This file format is considered legacy. We recommend using instead the native Keras format, e.g. `model.save('my_model.keras')`.\n",
            "  saving_api.save_model(\n"
          ]
        }
      ]
    },
    {
      "cell_type": "markdown",
      "metadata": {
        "id": "YjyCuhw1aeti"
      },
      "source": [
        "## Проверка обученной модели пользовательскими данными:"
      ]
    },
    {
      "cell_type": "code",
      "source": [
        "!pip install gradio"
      ],
      "metadata": {
        "id": "n8sZulOFwoH4"
      },
      "execution_count": null,
      "outputs": []
    },
    {
      "cell_type": "markdown",
      "source": [
        "### Импортируем необходимые библиотеки"
      ],
      "metadata": {
        "id": "yfUIW800wuyu"
      }
    },
    {
      "cell_type": "code",
      "execution_count": 44,
      "metadata": {
        "id": "Ssqx2R62cCKg"
      },
      "outputs": [],
      "source": [
        "from keras.models import load_model\n",
        "import gradio as gr  # Библиотека для создания веб-интерфейсов\n",
        "import pickle\n",
        "import cv2"
      ]
    },
    {
      "cell_type": "markdown",
      "source": [
        "### Реализуем функцию для предобработки входных данных в той же последовательности, что и при формировании обучающей выборки:"
      ],
      "metadata": {
        "id": "PM2dadCBwzES"
      }
    },
    {
      "cell_type": "code",
      "execution_count": 45,
      "metadata": {
        "id": "mvh_mEkMKx_K"
      },
      "outputs": [],
      "source": [
        "# Функция для предобработки изображения\n",
        "def preprocess_image(img, compression_size = 32):\n",
        "\n",
        "    \"\"\"\n",
        "    Функция для изменения размера, \"выравнивания\" и масштабирования изображения.\n",
        "\n",
        "    Args:\n",
        "    img: Изображение.\n",
        "\n",
        "    Returns:\n",
        "    Предобработанное изображение.\n",
        "    \"\"\"\n",
        "\n",
        "    image = img.copy()  # Создаем копию изображения\n",
        "    # Изменяем размер изображения до compression_size x compression_size пикселей\n",
        "    image = cv2.resize(image, (compression_size, compression_size))\n",
        "    # Преобразуем изображение в одномерный массив (вектор)\n",
        "    image = image.flatten()\n",
        "    # Масштабируем значения пикселей к диапазону [0, 1]\n",
        "    image = image.astype(\"float\") / 255.0\n",
        "    # Преобразуем массив в формат, совместимый с нашей моделью Keras\n",
        "    image = image.reshape((1, image.shape[0]))\n",
        "\n",
        "    return image"
      ]
    },
    {
      "cell_type": "markdown",
      "source": [
        "### Определим функцию для осуществления прогноза по загруженной модели:"
      ],
      "metadata": {
        "id": "UXPI1dAIxvPz"
      }
    },
    {
      "cell_type": "code",
      "execution_count": 46,
      "metadata": {
        "id": "Pi2LfgrcKx_K"
      },
      "outputs": [],
      "source": [
        "def predict_image(img, preprocess_func = preprocess_image, model_path = \"model.h5\", label_path = \"label_bin\"):\n",
        "\n",
        "    \"\"\"\n",
        "    Функция для выполнения предсказания класса, возвращает\n",
        "    словарь с вероятностями для каждого класса.\n",
        "\n",
        "    Args:\n",
        "    img: Изображение.\n",
        "    preprocess_funk: Функция для предобработки изображения.\n",
        "    model_path: Путь к файлу модели.\n",
        "    label_path: Путь к файлу с метками.\n",
        "\n",
        "    Returns:\n",
        "    Словарь с метками и вероятностями для каждого класса.\n",
        "    \"\"\"\n",
        "\n",
        "    # Загружаем модель и метки\n",
        "    model = load_model(model_path)  # Загрузка модели Keras\n",
        "    lb = pickle.loads(open(label_path, \"rb\").read())  # Загрузка словаря с метками\n",
        "\n",
        "    # Делаем предсказание на изображении\n",
        "    image = preprocess_func(img.copy())  # Предобработка изображения\n",
        "    preds = model.predict(image).flatten()  # Выполнение предсказания\n",
        "\n",
        "    # Возвращаем словарь с метками и вероятностями для каждого класса\n",
        "    confidences = {lb.classes_[i]: float(preds[i]) for i in range(len(preds))}\n",
        "\n",
        "    return confidences"
      ]
    },
    {
      "cell_type": "code",
      "execution_count": 47,
      "metadata": {
        "id": "9aJVLXeUKx_K",
        "outputId": "13547e42-efe5-425a-df46-ec21c1b0263c",
        "colab": {
          "base_uri": "https://localhost:8080/",
          "height": 612
        }
      },
      "outputs": [
        {
          "output_type": "stream",
          "name": "stdout",
          "text": [
            "Colab notebook detected. To show errors in colab notebook, set debug=True in launch()\n",
            "Running on public URL: https://d8a6c232010fbfff4c.gradio.live\n",
            "\n",
            "This share link expires in 72 hours. For free permanent hosting and GPU upgrades, run `gradio deploy` from Terminal to deploy to Spaces (https://huggingface.co/spaces)\n"
          ]
        },
        {
          "output_type": "display_data",
          "data": {
            "text/plain": [
              "<IPython.core.display.HTML object>"
            ],
            "text/html": [
              "<div><iframe src=\"https://d8a6c232010fbfff4c.gradio.live\" width=\"100%\" height=\"500\" allow=\"autoplay; camera; microphone; clipboard-read; clipboard-write;\" frameborder=\"0\" allowfullscreen></iframe></div>"
            ]
          },
          "metadata": {}
        },
        {
          "output_type": "execute_result",
          "data": {
            "text/plain": []
          },
          "metadata": {},
          "execution_count": 47
        }
      ],
      "source": [
        "# Создаем интерфейс Gradio\n",
        "interface = gr.Interface(\n",
        "    fn=predict_image,  # Функция, которая будет вызываться при загрузке изображения\n",
        "    inputs=gr.Image(label=\"Загрузите изображение\"),  # Входные данные: изображение\n",
        "    outputs= gr.Label(num_top_classes=len(lb.classes_)), # Выходные данные: топ-N классов с наибольшей вероятностью\n",
        "    examples=[\"/content/Cats_Dogs_Pandas/images/cat.jpg\",\n",
        "              \"/content/Cats_Dogs_Pandas/images/dog.jpeg\",\n",
        "              \"/content/Cats_Dogs_Pandas/images/panda.jpg\"])\n",
        "\n",
        "# Запускаем интерфейс\n",
        "interface.launch(share=True)"
      ]
    }
  ],
  "metadata": {
    "accelerator": "GPU",
    "colab": {
      "provenance": [],
      "include_colab_link": true
    },
    "gpuClass": "standard",
    "kernelspec": {
      "display_name": "Python 3 (ipykernel)",
      "language": "python",
      "name": "python3"
    },
    "language_info": {
      "codemirror_mode": {
        "name": "ipython",
        "version": 3
      },
      "file_extension": ".py",
      "mimetype": "text/x-python",
      "name": "python",
      "nbconvert_exporter": "python",
      "pygments_lexer": "ipython3",
      "version": "3.8.18"
    }
  },
  "nbformat": 4,
  "nbformat_minor": 0
}