{
  "nbformat": 4,
  "nbformat_minor": 0,
  "metadata": {
    "colab": {
      "provenance": [],
      "authorship_tag": "ABX9TyNUE7rHlpJZz8+GM9VLkSPr",
      "include_colab_link": true
    },
    "kernelspec": {
      "name": "python3",
      "display_name": "Python 3"
    },
    "language_info": {
      "name": "python"
    }
  },
  "cells": [
    {
      "cell_type": "markdown",
      "metadata": {
        "id": "view-in-github",
        "colab_type": "text"
      },
      "source": [
        "<a href=\"https://colab.research.google.com/github/Alexandre77777/neural_networks/blob/main/9.%20%D0%A0%D0%B0%D0%B7%D0%B2%D0%B5%D1%80%D1%82%D1%8B%D0%B2%D0%B0%D0%BD%D0%B8%D0%B5%20%D0%BC%D0%BE%D0%B4%D0%B5%D0%BB%D0%B5%D0%B9%20%D0%B3%D0%BB%D1%83%D0%B1%D0%BE%D0%BA%D0%BE%D0%B3%D0%BE%20%D0%BE%D0%B1%D1%83%D1%87%D0%B5%D0%BD%D0%B8%D1%8F/%D0%9F%D1%80%D0%B0%D0%BA%D1%82%D0%B8%D1%87%D0%B5%D1%81%D0%BA%D0%B0%D1%8F_%D1%80%D0%B0%D0%B1%D0%BE%D1%82%D0%B0_%E2%84%969_%D0%A1%D1%80%D0%B0%D0%B2%D0%BD%D0%B5%D0%BD%D0%B8%D0%B5_%D0%BC%D0%BE%D0%B4%D0%B5%D0%BB%D0%B5%D0%B9_%D0%BA%D0%BB%D0%B0%D1%81%D1%81%D0%B8%D1%84%D0%B8%D0%BA%D0%B0%D1%86%D0%B8%D0%B8_%D0%B8%D0%B7%D0%BE%D0%B1%D1%80%D0%B0%D0%B6%D0%B5%D0%BD%D0%B8%D0%B9_%D0%B8_%D1%80%D0%B0%D0%B7%D0%B2%D0%B5%D1%80%D1%82%D1%8B%D0%B2%D0%B0%D0%BD%D0%B8%D0%B5_API.ipynb\" target=\"_parent\"><img src=\"https://colab.research.google.com/assets/colab-badge.svg\" alt=\"Open In Colab\"/></a>"
      ]
    },
    {
      "cell_type": "markdown",
      "source": [
        "# **Практическая работа №9. Сравнение моделей классификации изображений и развертывание API**\n"
      ],
      "metadata": {
        "id": "4abC1NsIoKev"
      }
    },
    {
      "cell_type": "markdown",
      "source": [
        "## **Цель работы**\n"
      ],
      "metadata": {
        "id": "nre77K68oL27"
      }
    },
    {
      "cell_type": "markdown",
      "source": [
        "Провести сравнительный анализ ранее обученных моделей классификации изображений (работы 2-5), выбрать лучшую по метрикам качества, развернуть ее в виде API и создать пользовательский интерфейс с помощью Streamlit."
      ],
      "metadata": {
        "id": "eyITwc5MoOSr"
      }
    },
    {
      "cell_type": "markdown",
      "source": [
        "### **Раздел 1. Подготовка и анализ моделей**\n"
      ],
      "metadata": {
        "id": "q7L5Qb4yoQoJ"
      }
    },
    {
      "cell_type": "markdown",
      "source": [
        "1. Загрузить выбранный датасет для классификации изображений\n",
        "2. Загрузить ранее обученные модели (из практических работ 2-5)\n",
        "3. Сравнить модели по метрикам качества:\n",
        "   - Точность (accuracy)\n",
        "   - Полнота (recall)\n",
        "   - Precision\n",
        "   - F1-мера\n",
        "   - Время инференса\n",
        "4. Создать сводный DataFrame с результатами всех моделей\n",
        "5. Визуализировать результаты сравнения с помощью графиков\n",
        "6. Построить матрицы ошибок для каждой модели\n",
        "7. Выбрать лучшую модель по F1-мере\n",
        "8. Сохранить лучшую модель"
      ],
      "metadata": {
        "id": "Olo7unRboSrl"
      }
    },
    {
      "cell_type": "code",
      "source": [
        "  # Ваш код"
      ],
      "metadata": {
        "id": "3D_85JCMyn0M"
      },
      "execution_count": null,
      "outputs": []
    },
    {
      "cell_type": "markdown",
      "source": [
        "### **Раздел 2. Развертывание API**\n"
      ],
      "metadata": {
        "id": "iyx_RWv4oVBo"
      }
    },
    {
      "cell_type": "markdown",
      "source": [
        "1. Создать FastAPI приложение для обработки запросов с изображениями\n",
        "2. Реализовать предобработку загружаемых изображений\n",
        "3. Реализовать эндпоинт для классификации изображений\n",
        "4. Добавить возврат предсказанного класса и вероятностей по всем классам\n",
        "5. Создать файл requirements.txt с необходимыми зависимостями\n",
        "6. Развернуть API на сервере с доступом из глобальной сети"
      ],
      "metadata": {
        "id": "5YhO25q3oXPL"
      }
    },
    {
      "cell_type": "code",
      "source": [
        "  # Ваш код"
      ],
      "metadata": {
        "id": "5MH7DmPiyxog"
      },
      "execution_count": null,
      "outputs": []
    },
    {
      "cell_type": "markdown",
      "source": [
        "### **Раздел 3. Создание интерфейса на Streamlit**\n"
      ],
      "metadata": {
        "id": "8W-8zoQIoa2v"
      }
    },
    {
      "cell_type": "markdown",
      "source": [
        "\n",
        "1. Разработать Streamlit-приложение со следующими функциями:\n",
        "   - Возможность загрузки изображения пользователем\n",
        "   - Возможность рисования изображения на холсте\n",
        "   - Предобработка изображения перед отправкой на API\n",
        "   - Отображение результатов классификации\n",
        "   - Визуализация распределения вероятностей по классам\n",
        "2. Развернуть Streamlit-приложение на платформе Streamlit Cloud"
      ],
      "metadata": {
        "id": "jneLuiFQoeEA"
      }
    },
    {
      "cell_type": "code",
      "source": [
        "  # Ваш код"
      ],
      "metadata": {
        "id": "1RX-QpnnyykA"
      },
      "execution_count": null,
      "outputs": []
    },
    {
      "cell_type": "markdown",
      "source": [
        "### **Раздел 4. Документация и публикация проекта**\n"
      ],
      "metadata": {
        "id": "c9tXMK2_ofJ4"
      }
    },
    {
      "cell_type": "markdown",
      "source": [
        "1. Создать GitHub-репозиторий со структурой:\n",
        "   - Модели (сохраненная лучшая модель)\n",
        "   - API (код и зависимости)\n",
        "   - Интерфейс (код Streamlit-приложения)\n",
        "   - Документация (README.md)\n",
        "   - Требования (requirements.txt)\n",
        "2. Добавить в README.md:\n",
        "   - Описание проекта и используемого датасета\n",
        "   - Описание сравниваемых моделей\n",
        "   - Таблицу с результатами сравнения моделей\n",
        "   - Визуализации результатов\n",
        "   - Инструкции по локальному развертыванию\n",
        "   - Ссылки на развернутый API и Streamlit-приложение\n",
        "   - Примеры использования API\n",
        "3. Предоставить ссылки на:\n",
        "   - GitHub-репозиторий\n",
        "   - Публичный API для отправки POST-запросов\n",
        "   - Streamlit-интерфейс для взаимодействия с моделью"
      ],
      "metadata": {
        "id": "iclgpHyyofMe"
      }
    },
    {
      "cell_type": "markdown",
      "source": [
        "#### **Пример**"
      ],
      "metadata": {
        "id": "60bR2cSMzBDF"
      }
    },
    {
      "cell_type": "markdown",
      "source": [
        "- **GitHub-репозиторий:** https://github.com/Alexandre77777/dpo_classification.git\n",
        "\n",
        "- **Публичный API для отправки POST-запросов:** https://dpo-classification.onrender.com/predict/\n",
        "\n",
        "- **Streamlit-интерфейс для взаимодействия с моделью:** https://dpo-classification.streamlit.app/\n"
      ],
      "metadata": {
        "id": "Fh0BB9NJzKe2"
      }
    },
    {
      "cell_type": "markdown",
      "source": [
        "### ВАШИ ССЫЛКИ"
      ],
      "metadata": {
        "id": "T6604RKJy4i7"
      }
    }
  ]
}