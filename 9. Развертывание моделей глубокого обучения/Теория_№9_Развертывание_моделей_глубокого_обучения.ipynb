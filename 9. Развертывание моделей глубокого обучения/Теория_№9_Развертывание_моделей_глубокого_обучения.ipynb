{
  "cells": [
    {
      "cell_type": "markdown",
      "metadata": {
        "id": "view-in-github",
        "colab_type": "text"
      },
      "source": [
        "<a href=\"https://colab.research.google.com/github/Alexandre77777/neural_networks/blob/main/9.%20%D0%A0%D0%B0%D0%B7%D0%B2%D0%B5%D1%80%D1%82%D1%8B%D0%B2%D0%B0%D0%BD%D0%B8%D0%B5%20%D0%BC%D0%BE%D0%B4%D0%B5%D0%BB%D0%B5%D0%B9%20%D0%B3%D0%BB%D1%83%D0%B1%D0%BE%D0%BA%D0%BE%D0%B3%D0%BE%20%D0%BE%D0%B1%D1%83%D1%87%D0%B5%D0%BD%D0%B8%D1%8F/%D0%A2%D0%B5%D0%BE%D1%80%D0%B8%D1%8F_%E2%84%969_%D0%A0%D0%B0%D0%B7%D0%B2%D0%B5%D1%80%D1%82%D1%8B%D0%B2%D0%B0%D0%BD%D0%B8%D0%B5_%D0%BC%D0%BE%D0%B4%D0%B5%D0%BB%D0%B5%D0%B9_%D0%B3%D0%BB%D1%83%D0%B1%D0%BE%D0%BA%D0%BE%D0%B3%D0%BE_%D0%BE%D0%B1%D1%83%D1%87%D0%B5%D0%BD%D0%B8%D1%8F.ipynb\" target=\"_parent\"><img src=\"https://colab.research.google.com/assets/colab-badge.svg\" alt=\"Open In Colab\"/></a>"
      ]
    },
    {
      "cell_type": "markdown",
      "source": [
        "# **Теория №9. Развертывание моделей глубокого обучения**"
      ],
      "metadata": {
        "id": "LioEzQupKAdd"
      }
    },
    {
      "cell_type": "markdown",
      "source": [
        "В данном учебном блокноте представлен полный жизненный цикл разработки моделей глубокого обучения для задач регрессии и классификации. Начиная со сбора и подготовки данных, проводится обучение нейронных сетей с использованием библиотеки Keras. Лучшая модель выбирается на основе вычисленных метрик качества. Далее модель сохраняется, развёртывается на сервере и разрабатывается интерфейс для взаимодействия с ней. Этот процесс охватывает все этапы жизненного цикла модели глубокого обучения: от предварительной обработки данных до интеграции модели в приложение и её развёртывания на сервере."
      ],
      "metadata": {
        "id": "3XQRbbTFLxXK"
      }
    },
    {
      "cell_type": "markdown",
      "metadata": {
        "id": "Otobgqw4ukCt"
      },
      "source": [
        "# **I. Решение задачи регрессии на примере датасета California Housing**"
      ]
    },
    {
      "cell_type": "markdown",
      "metadata": {
        "id": "P5Tvio3ChoSA"
      },
      "source": [
        "## **1. Установка необходимых зависимостей**"
      ]
    },
    {
      "cell_type": "code",
      "execution_count": 2,
      "metadata": {
        "id": "PAnB6HqKhsx1"
      },
      "outputs": [],
      "source": [
        "import numpy as np\n",
        "import pandas as pd\n",
        "import tensorflow as tf\n",
        "from tensorflow import keras\n",
        "from tensorflow.keras import layers\n",
        "\n",
        "from sklearn.datasets import fetch_california_housing\n",
        "from sklearn.model_selection import train_test_split\n",
        "from sklearn.preprocessing import StandardScaler\n",
        "from sklearn.metrics import mean_absolute_error, mean_squared_error, r2_score\n",
        "\n",
        "import pickle\n",
        "import os"
      ]
    },
    {
      "cell_type": "markdown",
      "metadata": {
        "id": "WmL1FWfdiwIT"
      },
      "source": [
        "## **2. Загрузка набора данных. Формирование обучающей и тестовой выборок**"
      ]
    },
    {
      "cell_type": "code",
      "execution_count": null,
      "metadata": {
        "id": "5XxRq-AahtW0"
      },
      "outputs": [],
      "source": [
        "data = fetch_california_housing(as_frame=True)\n",
        "df = data.frame\n",
        "X = df.drop(columns=[data.target_names[0]])\n",
        "y = df[data.target_names[0]]\n",
        "\n",
        "X_train, X_test, y_train, y_test = train_test_split(\n",
        "    X, y, test_size=0.2, random_state=42\n",
        ")\n",
        "\n",
        "# Нормализация данных для нейронных сетей\n",
        "scaler = StandardScaler()\n",
        "\n",
        "X_train_scaled = scaler.fit_transform(X_train)\n",
        "X_test_scaled = scaler.transform(X_test)"
      ]
    },
    {
      "cell_type": "code",
      "source": [
        "X_train.iloc[0]"
      ],
      "metadata": {
        "colab": {
          "base_uri": "https://localhost:8080/",
          "height": 335
        },
        "id": "6ybRa58iwFEW",
        "outputId": "0fc69505-1348-420e-a39a-b59d1f9f7b34"
      },
      "execution_count": null,
      "outputs": [
        {
          "output_type": "execute_result",
          "data": {
            "text/plain": [
              "MedInc           3.259600\n",
              "HouseAge        33.000000\n",
              "AveRooms         5.017657\n",
              "AveBedrms        1.006421\n",
              "Population    2300.000000\n",
              "AveOccup         3.691814\n",
              "Latitude        32.710000\n",
              "Longitude     -117.030000\n",
              "Name: 14196, dtype: float64"
            ],
            "text/html": [
              "<div>\n",
              "<style scoped>\n",
              "    .dataframe tbody tr th:only-of-type {\n",
              "        vertical-align: middle;\n",
              "    }\n",
              "\n",
              "    .dataframe tbody tr th {\n",
              "        vertical-align: top;\n",
              "    }\n",
              "\n",
              "    .dataframe thead th {\n",
              "        text-align: right;\n",
              "    }\n",
              "</style>\n",
              "<table border=\"1\" class=\"dataframe\">\n",
              "  <thead>\n",
              "    <tr style=\"text-align: right;\">\n",
              "      <th></th>\n",
              "      <th>14196</th>\n",
              "    </tr>\n",
              "  </thead>\n",
              "  <tbody>\n",
              "    <tr>\n",
              "      <th>MedInc</th>\n",
              "      <td>3.259600</td>\n",
              "    </tr>\n",
              "    <tr>\n",
              "      <th>HouseAge</th>\n",
              "      <td>33.000000</td>\n",
              "    </tr>\n",
              "    <tr>\n",
              "      <th>AveRooms</th>\n",
              "      <td>5.017657</td>\n",
              "    </tr>\n",
              "    <tr>\n",
              "      <th>AveBedrms</th>\n",
              "      <td>1.006421</td>\n",
              "    </tr>\n",
              "    <tr>\n",
              "      <th>Population</th>\n",
              "      <td>2300.000000</td>\n",
              "    </tr>\n",
              "    <tr>\n",
              "      <th>AveOccup</th>\n",
              "      <td>3.691814</td>\n",
              "    </tr>\n",
              "    <tr>\n",
              "      <th>Latitude</th>\n",
              "      <td>32.710000</td>\n",
              "    </tr>\n",
              "    <tr>\n",
              "      <th>Longitude</th>\n",
              "      <td>-117.030000</td>\n",
              "    </tr>\n",
              "  </tbody>\n",
              "</table>\n",
              "</div><br><label><b>dtype:</b> float64</label>"
            ]
          },
          "metadata": {},
          "execution_count": 4
        }
      ]
    },
    {
      "cell_type": "markdown",
      "metadata": {
        "id": "0UILhxi0i5cP"
      },
      "source": [
        "## **3. Инициализация метрик для оценки качества обучения моделей**"
      ]
    },
    {
      "cell_type": "code",
      "execution_count": null,
      "metadata": {
        "id": "I-8bU78mhy3n"
      },
      "outputs": [],
      "source": [
        "def mean_squared_percentage_error(y_true, y_pred):\n",
        "    # MSPE\n",
        "    return np.mean((y_true - y_pred) ** 2 / (y_true + 1e-9) ** 2) * 100\n",
        "\n",
        "def mean_absolute_percentage_error(y_true, y_pred):\n",
        "    # MAPE\n",
        "    return np.mean(np.abs((y_true - y_pred) / (y_true + 1e-9))) * 100\n",
        "\n",
        "def symmetric_mean_absolute_percentage_error(y_true, y_pred):\n",
        "    # SMAPE\n",
        "    return 100 * np.mean(\n",
        "        2 * np.abs(y_true - y_pred) / (np.abs(y_true) + np.abs(y_pred) + 1e-9)\n",
        "    )\n",
        "\n",
        "def mean_relative_error(y_true, y_pred):\n",
        "    # MRE\n",
        "    return np.mean(np.abs(y_true - y_pred) / (y_true + 1e-9))\n",
        "\n",
        "def rmsle(y_true, y_pred):\n",
        "    # RMSLE\n",
        "    return np.sqrt(np.mean((np.log1p(y_pred + 1e-9) - np.log1p(y_true + 1e-9))**2))\n",
        "\n",
        "def adjusted_r2_score(r2, n, p):\n",
        "    \"\"\"\n",
        "    Расчёт скорректированного R².\n",
        "    r2:   R²\n",
        "    n:    число наблюдений\n",
        "    p:    число признаков\n",
        "    \"\"\"\n",
        "    return 1 - (1 - r2) * (n - 1) / (n - p - 1)\n",
        "\n",
        "def get_metrics(y_true, y_pred, n, p):\n",
        "    # MAE\n",
        "    mae_ = mean_absolute_error(y_true, y_pred)\n",
        "    # MSE\n",
        "    mse_ = mean_squared_error(y_true, y_pred)\n",
        "    # RMSE\n",
        "    rmse_ = np.sqrt(mse_)\n",
        "    # R^2\n",
        "    r2_ = r2_score(y_true, y_pred)\n",
        "    # MAPE\n",
        "    mape_ = mean_absolute_percentage_error(y_true, y_pred)\n",
        "    # MSPE\n",
        "    mspe_ = mean_squared_percentage_error(y_true, y_pred)\n",
        "    # SMAPE\n",
        "    smape_ = symmetric_mean_absolute_percentage_error(y_true, y_pred)\n",
        "    # MRE\n",
        "    mre_ = mean_relative_error(y_true, y_pred)\n",
        "    # RMSLE\n",
        "    rmsle_ = rmsle(y_true, y_pred)\n",
        "    # Adjusted R²\n",
        "    adj_r2_ = adjusted_r2_score(r2_, n, p)\n",
        "    return {\n",
        "        \"MAE\": mae_,\n",
        "        \"MAPE\": mape_,\n",
        "        \"MSE\": mse_,\n",
        "        \"RMSE\": rmse_,\n",
        "        \"R2\": r2_,\n",
        "        \"MSPE\": mspe_,\n",
        "        \"SMAPE\": smape_,\n",
        "        \"MRE\": mre_,\n",
        "        \"RMSLE\": rmsle_,\n",
        "        \"Adjusted R2\": adj_r2_\n",
        "    }"
      ]
    },
    {
      "cell_type": "markdown",
      "metadata": {
        "id": "7uptbERAjJ8C"
      },
      "source": [
        "## **4. Создание моделей глубокого обучения в Keras**"
      ]
    },
    {
      "cell_type": "code",
      "execution_count": null,
      "metadata": {
        "id": "Yb63A82Eh7kA"
      },
      "outputs": [],
      "source": [
        "def create_dense_model(input_dim, name=\"dense_model\"):\n",
        "    \"\"\"Создание простой полносвязной нейронной сети\"\"\"\n",
        "    model = keras.Sequential([\n",
        "        layers.Dense(64, activation='relu', input_shape=(input_dim,)),\n",
        "        layers.Dense(32, activation='relu'),\n",
        "        layers.Dense(16, activation='relu'),\n",
        "        layers.Dense(1)\n",
        "    ], name=name)\n",
        "\n",
        "    model.compile(optimizer='adam', loss='mse', metrics=['mae'])\n",
        "    return model\n",
        "\n",
        "def create_deep_model(input_dim, name=\"deep_model\"):\n",
        "    \"\"\"Создание глубокой нейронной сети с dropout слоями\"\"\"\n",
        "    model = keras.Sequential([\n",
        "        layers.Dense(128, activation='relu', input_shape=(input_dim,)),\n",
        "        layers.BatchNormalization(),\n",
        "        layers.Dropout(0.3),\n",
        "        layers.Dense(64, activation='relu'),\n",
        "        layers.BatchNormalization(),\n",
        "        layers.Dropout(0.3),\n",
        "        layers.Dense(32, activation='relu'),\n",
        "        layers.BatchNormalization(),\n",
        "        layers.Dropout(0.2),\n",
        "        layers.Dense(16, activation='relu'),\n",
        "        layers.Dense(1)\n",
        "    ], name=name)\n",
        "\n",
        "    model.compile(optimizer='adam', loss='mse', metrics=['mae'])\n",
        "    return model\n",
        "\n",
        "def create_residual_model(input_dim, name=\"residual_model\"):\n",
        "    \"\"\"Создание модели с остаточными связями\"\"\"\n",
        "    inputs = keras.Input(shape=(input_dim,))\n",
        "    x = layers.Dense(64, activation='relu')(inputs)\n",
        "\n",
        "    # Остаточный блок 1\n",
        "    block_1 = layers.Dense(64, activation='relu')(x)\n",
        "    block_1 = layers.Dense(64, activation='relu')(block_1)\n",
        "    x = layers.add([x, block_1])\n",
        "\n",
        "    # Остаточный блок 2\n",
        "    block_2 = layers.Dense(64, activation='relu')(x)\n",
        "    block_2 = layers.Dense(64, activation='relu')(block_2)\n",
        "    x = layers.add([x, block_2])\n",
        "\n",
        "    x = layers.Dense(32, activation='relu')(x)\n",
        "    outputs = layers.Dense(1)(x)\n",
        "\n",
        "    model = keras.Model(inputs=inputs, outputs=outputs, name=name)\n",
        "    model.compile(optimizer='adam', loss='mse', metrics=['mae'])\n",
        "    return model"
      ]
    },
    {
      "cell_type": "code",
      "source": [
        "# Словарь с моделями\n",
        "models = {\n",
        "    \"dense_model\": create_dense_model(X_train_scaled.shape[1]),\n",
        "    \"deep_model\": create_deep_model(X_train_scaled.shape[1]),\n",
        "    \"residual_model\": create_residual_model(X_train_scaled.shape[1])\n",
        "}"
      ],
      "metadata": {
        "colab": {
          "base_uri": "https://localhost:8080/"
        },
        "id": "gmP5kbIVO-UI",
        "outputId": "3a1e9b51-b812-4bb8-b574-e6e4dfec8f46"
      },
      "execution_count": null,
      "outputs": [
        {
          "output_type": "stream",
          "name": "stderr",
          "text": [
            "/usr/local/lib/python3.11/dist-packages/keras/src/layers/core/dense.py:87: UserWarning: Do not pass an `input_shape`/`input_dim` argument to a layer. When using Sequential models, prefer using an `Input(shape)` object as the first layer in the model instead.\n",
            "  super().__init__(activity_regularizer=activity_regularizer, **kwargs)\n"
          ]
        }
      ]
    },
    {
      "cell_type": "markdown",
      "metadata": {
        "id": "FEepJgJOl9xt"
      },
      "source": [
        "## **5. Обучение моделей глубокого обучения с вычислением метрик**"
      ]
    },
    {
      "cell_type": "code",
      "execution_count": null,
      "metadata": {
        "id": "AvZmfI6wh7p3",
        "colab": {
          "base_uri": "https://localhost:8080/"
        },
        "outputId": "00bfdbea-aabc-4918-d87e-ba6e558e074a"
      },
      "outputs": [
        {
          "output_type": "stream",
          "name": "stdout",
          "text": [
            "Epoch 1/50\n",
            "\u001b[1m413/413\u001b[0m \u001b[32m━━━━━━━━━━━━━━━━━━━━\u001b[0m\u001b[37m\u001b[0m \u001b[1m10s\u001b[0m 10ms/step - loss: 2.3880 - mae: 1.1147 - val_loss: 0.4454 - val_mae: 0.4762\n",
            "Epoch 2/50\n",
            "\u001b[1m413/413\u001b[0m \u001b[32m━━━━━━━━━━━━━━━━━━━━\u001b[0m\u001b[37m\u001b[0m \u001b[1m6s\u001b[0m 3ms/step - loss: 0.3933 - mae: 0.4502 - val_loss: 0.4021 - val_mae: 0.4459\n",
            "Epoch 3/50\n",
            "\u001b[1m413/413\u001b[0m \u001b[32m━━━━━━━━━━━━━━━━━━━━\u001b[0m\u001b[37m\u001b[0m \u001b[1m3s\u001b[0m 4ms/step - loss: 0.3643 - mae: 0.4285 - val_loss: 0.3879 - val_mae: 0.4378\n",
            "Epoch 4/50\n",
            "\u001b[1m413/413\u001b[0m \u001b[32m━━━━━━━━━━━━━━━━━━━━\u001b[0m\u001b[37m\u001b[0m \u001b[1m3s\u001b[0m 4ms/step - loss: 0.3420 - mae: 0.4163 - val_loss: 0.3754 - val_mae: 0.4202\n",
            "Epoch 5/50\n",
            "\u001b[1m413/413\u001b[0m \u001b[32m━━━━━━━━━━━━━━━━━━━━\u001b[0m\u001b[37m\u001b[0m \u001b[1m2s\u001b[0m 3ms/step - loss: 0.3340 - mae: 0.4066 - val_loss: 0.3567 - val_mae: 0.4174\n",
            "Epoch 6/50\n",
            "\u001b[1m413/413\u001b[0m \u001b[32m━━━━━━━━━━━━━━━━━━━━\u001b[0m\u001b[37m\u001b[0m \u001b[1m1s\u001b[0m 3ms/step - loss: 0.3121 - mae: 0.3951 - val_loss: 0.3542 - val_mae: 0.4286\n",
            "Epoch 7/50\n",
            "\u001b[1m413/413\u001b[0m \u001b[32m━━━━━━━━━━━━━━━━━━━━\u001b[0m\u001b[37m\u001b[0m \u001b[1m1s\u001b[0m 3ms/step - loss: 0.3230 - mae: 0.3958 - val_loss: 0.3430 - val_mae: 0.4055\n",
            "Epoch 8/50\n",
            "\u001b[1m413/413\u001b[0m \u001b[32m━━━━━━━━━━━━━━━━━━━━\u001b[0m\u001b[37m\u001b[0m \u001b[1m1s\u001b[0m 3ms/step - loss: 0.3041 - mae: 0.3858 - val_loss: 0.3338 - val_mae: 0.4004\n",
            "Epoch 9/50\n",
            "\u001b[1m413/413\u001b[0m \u001b[32m━━━━━━━━━━━━━━━━━━━━\u001b[0m\u001b[37m\u001b[0m \u001b[1m2s\u001b[0m 3ms/step - loss: 0.2797 - mae: 0.3704 - val_loss: 0.3439 - val_mae: 0.4047\n",
            "Epoch 10/50\n",
            "\u001b[1m413/413\u001b[0m \u001b[32m━━━━━━━━━━━━━━━━━━━━\u001b[0m\u001b[37m\u001b[0m \u001b[1m1s\u001b[0m 3ms/step - loss: 0.2942 - mae: 0.3774 - val_loss: 0.3314 - val_mae: 0.3920\n",
            "Epoch 11/50\n",
            "\u001b[1m413/413\u001b[0m \u001b[32m━━━━━━━━━━━━━━━━━━━━\u001b[0m\u001b[37m\u001b[0m \u001b[1m3s\u001b[0m 5ms/step - loss: 0.2985 - mae: 0.3797 - val_loss: 0.3398 - val_mae: 0.3899\n",
            "Epoch 12/50\n",
            "\u001b[1m413/413\u001b[0m \u001b[32m━━━━━━━━━━━━━━━━━━━━\u001b[0m\u001b[37m\u001b[0m \u001b[1m2s\u001b[0m 3ms/step - loss: 0.3436 - mae: 0.3755 - val_loss: 0.3120 - val_mae: 0.3802\n",
            "Epoch 13/50\n",
            "\u001b[1m413/413\u001b[0m \u001b[32m━━━━━━━━━━━━━━━━━━━━\u001b[0m\u001b[37m\u001b[0m \u001b[1m1s\u001b[0m 3ms/step - loss: 0.2759 - mae: 0.3625 - val_loss: 0.3133 - val_mae: 0.3780\n",
            "Epoch 14/50\n",
            "\u001b[1m413/413\u001b[0m \u001b[32m━━━━━━━━━━━━━━━━━━━━\u001b[0m\u001b[37m\u001b[0m \u001b[1m1s\u001b[0m 3ms/step - loss: 0.2943 - mae: 0.3685 - val_loss: 0.3200 - val_mae: 0.3975\n",
            "Epoch 15/50\n",
            "\u001b[1m413/413\u001b[0m \u001b[32m━━━━━━━━━━━━━━━━━━━━\u001b[0m\u001b[37m\u001b[0m \u001b[1m3s\u001b[0m 3ms/step - loss: 0.2810 - mae: 0.3658 - val_loss: 0.3147 - val_mae: 0.3986\n",
            "Epoch 16/50\n",
            "\u001b[1m413/413\u001b[0m \u001b[32m━━━━━━━━━━━━━━━━━━━━\u001b[0m\u001b[37m\u001b[0m \u001b[1m1s\u001b[0m 3ms/step - loss: 0.2669 - mae: 0.3572 - val_loss: 0.3085 - val_mae: 0.3757\n",
            "Epoch 17/50\n",
            "\u001b[1m413/413\u001b[0m \u001b[32m━━━━━━━━━━━━━━━━━━━━\u001b[0m\u001b[37m\u001b[0m \u001b[1m1s\u001b[0m 3ms/step - loss: 0.2759 - mae: 0.3617 - val_loss: 0.2996 - val_mae: 0.3692\n",
            "Epoch 18/50\n",
            "\u001b[1m413/413\u001b[0m \u001b[32m━━━━━━━━━━━━━━━━━━━━\u001b[0m\u001b[37m\u001b[0m \u001b[1m1s\u001b[0m 3ms/step - loss: 0.2761 - mae: 0.3585 - val_loss: 0.3011 - val_mae: 0.3829\n",
            "Epoch 19/50\n",
            "\u001b[1m413/413\u001b[0m \u001b[32m━━━━━━━━━━━━━━━━━━━━\u001b[0m\u001b[37m\u001b[0m \u001b[1m2s\u001b[0m 3ms/step - loss: 0.2551 - mae: 0.3500 - val_loss: 0.2986 - val_mae: 0.3702\n",
            "Epoch 20/50\n",
            "\u001b[1m413/413\u001b[0m \u001b[32m━━━━━━━━━━━━━━━━━━━━\u001b[0m\u001b[37m\u001b[0m \u001b[1m1s\u001b[0m 3ms/step - loss: 0.2871 - mae: 0.3672 - val_loss: 0.3107 - val_mae: 0.3926\n",
            "Epoch 21/50\n",
            "\u001b[1m413/413\u001b[0m \u001b[32m━━━━━━━━━━━━━━━━━━━━\u001b[0m\u001b[37m\u001b[0m \u001b[1m1s\u001b[0m 3ms/step - loss: 0.2732 - mae: 0.3551 - val_loss: 0.3061 - val_mae: 0.3844\n",
            "Epoch 22/50\n",
            "\u001b[1m413/413\u001b[0m \u001b[32m━━━━━━━━━━━━━━━━━━━━\u001b[0m\u001b[37m\u001b[0m \u001b[1m1s\u001b[0m 3ms/step - loss: 0.2706 - mae: 0.3541 - val_loss: 0.3007 - val_mae: 0.3769\n",
            "Epoch 23/50\n",
            "\u001b[1m413/413\u001b[0m \u001b[32m━━━━━━━━━━━━━━━━━━━━\u001b[0m\u001b[37m\u001b[0m \u001b[1m2s\u001b[0m 3ms/step - loss: 0.2687 - mae: 0.3540 - val_loss: 0.2951 - val_mae: 0.3755\n",
            "Epoch 24/50\n",
            "\u001b[1m413/413\u001b[0m \u001b[32m━━━━━━━━━━━━━━━━━━━━\u001b[0m\u001b[37m\u001b[0m \u001b[1m1s\u001b[0m 3ms/step - loss: 0.2618 - mae: 0.3487 - val_loss: 0.2964 - val_mae: 0.3691\n",
            "Epoch 25/50\n",
            "\u001b[1m413/413\u001b[0m \u001b[32m━━━━━━━━━━━━━━━━━━━━\u001b[0m\u001b[37m\u001b[0m \u001b[1m1s\u001b[0m 3ms/step - loss: 0.2618 - mae: 0.3489 - val_loss: 0.3093 - val_mae: 0.3832\n",
            "Epoch 26/50\n",
            "\u001b[1m413/413\u001b[0m \u001b[32m━━━━━━━━━━━━━━━━━━━━\u001b[0m\u001b[37m\u001b[0m \u001b[1m2s\u001b[0m 4ms/step - loss: 0.2617 - mae: 0.3482 - val_loss: 0.2907 - val_mae: 0.3695\n",
            "Epoch 27/50\n",
            "\u001b[1m413/413\u001b[0m \u001b[32m━━━━━━━━━━━━━━━━━━━━\u001b[0m\u001b[37m\u001b[0m \u001b[1m1s\u001b[0m 3ms/step - loss: 0.2502 - mae: 0.3399 - val_loss: 0.2934 - val_mae: 0.3770\n",
            "Epoch 28/50\n",
            "\u001b[1m413/413\u001b[0m \u001b[32m━━━━━━━━━━━━━━━━━━━━\u001b[0m\u001b[37m\u001b[0m \u001b[1m1s\u001b[0m 3ms/step - loss: 0.2478 - mae: 0.3417 - val_loss: 0.3103 - val_mae: 0.3764\n",
            "Epoch 29/50\n",
            "\u001b[1m413/413\u001b[0m \u001b[32m━━━━━━━━━━━━━━━━━━━━\u001b[0m\u001b[37m\u001b[0m \u001b[1m1s\u001b[0m 3ms/step - loss: 0.2552 - mae: 0.3444 - val_loss: 0.2960 - val_mae: 0.3701\n",
            "Epoch 30/50\n",
            "\u001b[1m413/413\u001b[0m \u001b[32m━━━━━━━━━━━━━━━━━━━━\u001b[0m\u001b[37m\u001b[0m \u001b[1m1s\u001b[0m 3ms/step - loss: 0.2440 - mae: 0.3384 - val_loss: 0.2980 - val_mae: 0.3605\n",
            "Epoch 31/50\n",
            "\u001b[1m413/413\u001b[0m \u001b[32m━━━━━━━━━━━━━━━━━━━━\u001b[0m\u001b[37m\u001b[0m \u001b[1m1s\u001b[0m 3ms/step - loss: 0.2395 - mae: 0.3356 - val_loss: 0.2903 - val_mae: 0.3656\n",
            "Epoch 32/50\n",
            "\u001b[1m413/413\u001b[0m \u001b[32m━━━━━━━━━━━━━━━━━━━━\u001b[0m\u001b[37m\u001b[0m \u001b[1m1s\u001b[0m 3ms/step - loss: 0.2417 - mae: 0.3376 - val_loss: 0.3026 - val_mae: 0.3811\n",
            "Epoch 33/50\n",
            "\u001b[1m413/413\u001b[0m \u001b[32m━━━━━━━━━━━━━━━━━━━━\u001b[0m\u001b[37m\u001b[0m \u001b[1m1s\u001b[0m 3ms/step - loss: 0.2581 - mae: 0.3440 - val_loss: 0.2980 - val_mae: 0.3788\n",
            "Epoch 34/50\n",
            "\u001b[1m413/413\u001b[0m \u001b[32m━━━━━━━━━━━━━━━━━━━━\u001b[0m\u001b[37m\u001b[0m \u001b[1m1s\u001b[0m 3ms/step - loss: 0.2480 - mae: 0.3414 - val_loss: 0.2938 - val_mae: 0.3682\n",
            "Epoch 35/50\n",
            "\u001b[1m413/413\u001b[0m \u001b[32m━━━━━━━━━━━━━━━━━━━━\u001b[0m\u001b[37m\u001b[0m \u001b[1m2s\u001b[0m 5ms/step - loss: 0.2440 - mae: 0.3390 - val_loss: 0.2897 - val_mae: 0.3653\n",
            "Epoch 36/50\n",
            "\u001b[1m413/413\u001b[0m \u001b[32m━━━━━━━━━━━━━━━━━━━━\u001b[0m\u001b[37m\u001b[0m \u001b[1m2s\u001b[0m 3ms/step - loss: 0.2567 - mae: 0.3403 - val_loss: 0.2908 - val_mae: 0.3676\n",
            "Epoch 37/50\n",
            "\u001b[1m413/413\u001b[0m \u001b[32m━━━━━━━━━━━━━━━━━━━━\u001b[0m\u001b[37m\u001b[0m \u001b[1m1s\u001b[0m 3ms/step - loss: 0.2532 - mae: 0.3425 - val_loss: 0.2931 - val_mae: 0.3778\n",
            "Epoch 38/50\n",
            "\u001b[1m413/413\u001b[0m \u001b[32m━━━━━━━━━━━━━━━━━━━━\u001b[0m\u001b[37m\u001b[0m \u001b[1m1s\u001b[0m 3ms/step - loss: 0.2424 - mae: 0.3344 - val_loss: 0.3001 - val_mae: 0.3887\n",
            "Epoch 39/50\n",
            "\u001b[1m413/413\u001b[0m \u001b[32m━━━━━━━━━━━━━━━━━━━━\u001b[0m\u001b[37m\u001b[0m \u001b[1m1s\u001b[0m 3ms/step - loss: 0.2432 - mae: 0.3364 - val_loss: 0.2962 - val_mae: 0.3809\n",
            "Epoch 40/50\n",
            "\u001b[1m413/413\u001b[0m \u001b[32m━━━━━━━━━━━━━━━━━━━━\u001b[0m\u001b[37m\u001b[0m \u001b[1m1s\u001b[0m 3ms/step - loss: 0.2339 - mae: 0.3302 - val_loss: 0.2896 - val_mae: 0.3752\n",
            "Epoch 41/50\n",
            "\u001b[1m413/413\u001b[0m \u001b[32m━━━━━━━━━━━━━━━━━━━━\u001b[0m\u001b[37m\u001b[0m \u001b[1m3s\u001b[0m 3ms/step - loss: 0.2491 - mae: 0.3408 - val_loss: 0.2966 - val_mae: 0.3588\n",
            "Epoch 42/50\n",
            "\u001b[1m413/413\u001b[0m \u001b[32m━━━━━━━━━━━━━━━━━━━━\u001b[0m\u001b[37m\u001b[0m \u001b[1m1s\u001b[0m 3ms/step - loss: 0.2794 - mae: 0.3445 - val_loss: 0.2893 - val_mae: 0.3717\n",
            "Epoch 43/50\n",
            "\u001b[1m413/413\u001b[0m \u001b[32m━━━━━━━━━━━━━━━━━━━━\u001b[0m\u001b[37m\u001b[0m \u001b[1m2s\u001b[0m 3ms/step - loss: 0.2373 - mae: 0.3314 - val_loss: 0.2997 - val_mae: 0.3875\n",
            "Epoch 44/50\n",
            "\u001b[1m413/413\u001b[0m \u001b[32m━━━━━━━━━━━━━━━━━━━━\u001b[0m\u001b[37m\u001b[0m \u001b[1m1s\u001b[0m 3ms/step - loss: 0.2366 - mae: 0.3341 - val_loss: 0.2851 - val_mae: 0.3645\n",
            "Epoch 45/50\n",
            "\u001b[1m413/413\u001b[0m \u001b[32m━━━━━━━━━━━━━━━━━━━━\u001b[0m\u001b[37m\u001b[0m \u001b[1m1s\u001b[0m 3ms/step - loss: 0.2491 - mae: 0.3362 - val_loss: 0.2793 - val_mae: 0.3654\n",
            "Epoch 46/50\n",
            "\u001b[1m413/413\u001b[0m \u001b[32m━━━━━━━━━━━━━━━━━━━━\u001b[0m\u001b[37m\u001b[0m \u001b[1m1s\u001b[0m 3ms/step - loss: 0.2322 - mae: 0.3294 - val_loss: 0.2877 - val_mae: 0.3640\n",
            "Epoch 47/50\n",
            "\u001b[1m413/413\u001b[0m \u001b[32m━━━━━━━━━━━━━━━━━━━━\u001b[0m\u001b[37m\u001b[0m \u001b[1m1s\u001b[0m 3ms/step - loss: 0.2341 - mae: 0.3288 - val_loss: 0.2830 - val_mae: 0.3625\n",
            "Epoch 48/50\n",
            "\u001b[1m413/413\u001b[0m \u001b[32m━━━━━━━━━━━━━━━━━━━━\u001b[0m\u001b[37m\u001b[0m \u001b[1m1s\u001b[0m 3ms/step - loss: 0.2391 - mae: 0.3338 - val_loss: 0.2790 - val_mae: 0.3585\n",
            "Epoch 49/50\n",
            "\u001b[1m413/413\u001b[0m \u001b[32m━━━━━━━━━━━━━━━━━━━━\u001b[0m\u001b[37m\u001b[0m \u001b[1m3s\u001b[0m 3ms/step - loss: 0.2283 - mae: 0.3270 - val_loss: 0.2839 - val_mae: 0.3553\n",
            "Epoch 50/50\n",
            "\u001b[1m413/413\u001b[0m \u001b[32m━━━━━━━━━━━━━━━━━━━━\u001b[0m\u001b[37m\u001b[0m \u001b[1m2s\u001b[0m 6ms/step - loss: 0.2363 - mae: 0.3324 - val_loss: 0.2857 - val_mae: 0.3594\n",
            "\u001b[1m129/129\u001b[0m \u001b[32m━━━━━━━━━━━━━━━━━━━━\u001b[0m\u001b[37m\u001b[0m \u001b[1m0s\u001b[0m 1ms/step\n",
            "Epoch 1/50\n",
            "\u001b[1m413/413\u001b[0m \u001b[32m━━━━━━━━━━━━━━━━━━━━\u001b[0m\u001b[37m\u001b[0m \u001b[1m11s\u001b[0m 13ms/step - loss: 3.1594 - mae: 1.3662 - val_loss: 0.5986 - val_mae: 0.5485\n",
            "Epoch 2/50\n",
            "\u001b[1m413/413\u001b[0m \u001b[32m━━━━━━━━━━━━━━━━━━━━\u001b[0m\u001b[37m\u001b[0m \u001b[1m1s\u001b[0m 3ms/step - loss: 0.7609 - mae: 0.6485 - val_loss: 0.4557 - val_mae: 0.4804\n",
            "Epoch 3/50\n",
            "\u001b[1m413/413\u001b[0m \u001b[32m━━━━━━━━━━━━━━━━━━━━\u001b[0m\u001b[37m\u001b[0m \u001b[1m1s\u001b[0m 3ms/step - loss: 0.5868 - mae: 0.5651 - val_loss: 0.4289 - val_mae: 0.4607\n",
            "Epoch 4/50\n",
            "\u001b[1m413/413\u001b[0m \u001b[32m━━━━━━━━━━━━━━━━━━━━\u001b[0m\u001b[37m\u001b[0m \u001b[1m1s\u001b[0m 3ms/step - loss: 0.5519 - mae: 0.5494 - val_loss: 0.4496 - val_mae: 0.4651\n",
            "Epoch 5/50\n",
            "\u001b[1m413/413\u001b[0m \u001b[32m━━━━━━━━━━━━━━━━━━━━\u001b[0m\u001b[37m\u001b[0m \u001b[1m3s\u001b[0m 3ms/step - loss: 0.4889 - mae: 0.5137 - val_loss: 0.3980 - val_mae: 0.4397\n",
            "Epoch 6/50\n",
            "\u001b[1m413/413\u001b[0m \u001b[32m━━━━━━━━━━━━━━━━━━━━\u001b[0m\u001b[37m\u001b[0m \u001b[1m1s\u001b[0m 3ms/step - loss: 0.4734 - mae: 0.5077 - val_loss: 0.4007 - val_mae: 0.4340\n",
            "Epoch 7/50\n",
            "\u001b[1m413/413\u001b[0m \u001b[32m━━━━━━━━━━━━━━━━━━━━\u001b[0m\u001b[37m\u001b[0m \u001b[1m1s\u001b[0m 3ms/step - loss: 0.4552 - mae: 0.4955 - val_loss: 0.3861 - val_mae: 0.4369\n",
            "Epoch 8/50\n",
            "\u001b[1m413/413\u001b[0m \u001b[32m━━━━━━━━━━━━━━━━━━━━\u001b[0m\u001b[37m\u001b[0m \u001b[1m3s\u001b[0m 4ms/step - loss: 0.4354 - mae: 0.4842 - val_loss: 0.3773 - val_mae: 0.4269\n",
            "Epoch 9/50\n",
            "\u001b[1m413/413\u001b[0m \u001b[32m━━━━━━━━━━━━━━━━━━━━\u001b[0m\u001b[37m\u001b[0m \u001b[1m2s\u001b[0m 3ms/step - loss: 0.4372 - mae: 0.4790 - val_loss: 0.3921 - val_mae: 0.4261\n",
            "Epoch 10/50\n",
            "\u001b[1m413/413\u001b[0m \u001b[32m━━━━━━━━━━━━━━━━━━━━\u001b[0m\u001b[37m\u001b[0m \u001b[1m3s\u001b[0m 3ms/step - loss: 0.4409 - mae: 0.4798 - val_loss: 0.3723 - val_mae: 0.4407\n",
            "Epoch 11/50\n",
            "\u001b[1m413/413\u001b[0m \u001b[32m━━━━━━━━━━━━━━━━━━━━\u001b[0m\u001b[37m\u001b[0m \u001b[1m2s\u001b[0m 3ms/step - loss: 0.4081 - mae: 0.4631 - val_loss: 0.3743 - val_mae: 0.4346\n",
            "Epoch 12/50\n",
            "\u001b[1m413/413\u001b[0m \u001b[32m━━━━━━━━━━━━━━━━━━━━\u001b[0m\u001b[37m\u001b[0m \u001b[1m3s\u001b[0m 4ms/step - loss: 0.4075 - mae: 0.4601 - val_loss: 0.3785 - val_mae: 0.4228\n",
            "Epoch 13/50\n",
            "\u001b[1m413/413\u001b[0m \u001b[32m━━━━━━━━━━━━━━━━━━━━\u001b[0m\u001b[37m\u001b[0m \u001b[1m2s\u001b[0m 4ms/step - loss: 0.4061 - mae: 0.4620 - val_loss: 0.3897 - val_mae: 0.4429\n",
            "Epoch 14/50\n",
            "\u001b[1m413/413\u001b[0m \u001b[32m━━━━━━━━━━━━━━━━━━━━\u001b[0m\u001b[37m\u001b[0m \u001b[1m2s\u001b[0m 3ms/step - loss: 0.4166 - mae: 0.4676 - val_loss: 0.3754 - val_mae: 0.4344\n",
            "Epoch 15/50\n",
            "\u001b[1m413/413\u001b[0m \u001b[32m━━━━━━━━━━━━━━━━━━━━\u001b[0m\u001b[37m\u001b[0m \u001b[1m3s\u001b[0m 3ms/step - loss: 0.4008 - mae: 0.4559 - val_loss: 0.3650 - val_mae: 0.4111\n",
            "Epoch 16/50\n",
            "\u001b[1m413/413\u001b[0m \u001b[32m━━━━━━━━━━━━━━━━━━━━\u001b[0m\u001b[37m\u001b[0m \u001b[1m3s\u001b[0m 3ms/step - loss: 0.3844 - mae: 0.4455 - val_loss: 0.3712 - val_mae: 0.4358\n",
            "Epoch 17/50\n",
            "\u001b[1m413/413\u001b[0m \u001b[32m━━━━━━━━━━━━━━━━━━━━\u001b[0m\u001b[37m\u001b[0m \u001b[1m3s\u001b[0m 4ms/step - loss: 0.3933 - mae: 0.4519 - val_loss: 0.3651 - val_mae: 0.4226\n",
            "Epoch 18/50\n",
            "\u001b[1m413/413\u001b[0m \u001b[32m━━━━━━━━━━━━━━━━━━━━\u001b[0m\u001b[37m\u001b[0m \u001b[1m2s\u001b[0m 4ms/step - loss: 0.3997 - mae: 0.4546 - val_loss: 0.3680 - val_mae: 0.4198\n",
            "Epoch 19/50\n",
            "\u001b[1m413/413\u001b[0m \u001b[32m━━━━━━━━━━━━━━━━━━━━\u001b[0m\u001b[37m\u001b[0m \u001b[1m2s\u001b[0m 3ms/step - loss: 0.4155 - mae: 0.4575 - val_loss: 0.3701 - val_mae: 0.4190\n",
            "Epoch 20/50\n",
            "\u001b[1m413/413\u001b[0m \u001b[32m━━━━━━━━━━━━━━━━━━━━\u001b[0m\u001b[37m\u001b[0m \u001b[1m1s\u001b[0m 3ms/step - loss: 0.3834 - mae: 0.4421 - val_loss: 0.3692 - val_mae: 0.4209\n",
            "Epoch 21/50\n",
            "\u001b[1m413/413\u001b[0m \u001b[32m━━━━━━━━━━━━━━━━━━━━\u001b[0m\u001b[37m\u001b[0m \u001b[1m2s\u001b[0m 3ms/step - loss: 0.3612 - mae: 0.4315 - val_loss: 0.3551 - val_mae: 0.4085\n",
            "Epoch 22/50\n",
            "\u001b[1m413/413\u001b[0m \u001b[32m━━━━━━━━━━━━━━━━━━━━\u001b[0m\u001b[37m\u001b[0m \u001b[1m3s\u001b[0m 3ms/step - loss: 0.3633 - mae: 0.4322 - val_loss: 0.3586 - val_mae: 0.4261\n",
            "Epoch 23/50\n",
            "\u001b[1m413/413\u001b[0m \u001b[32m━━━━━━━━━━━━━━━━━━━━\u001b[0m\u001b[37m\u001b[0m \u001b[1m3s\u001b[0m 5ms/step - loss: 0.3555 - mae: 0.4285 - val_loss: 0.3434 - val_mae: 0.4025\n",
            "Epoch 24/50\n",
            "\u001b[1m413/413\u001b[0m \u001b[32m━━━━━━━━━━━━━━━━━━━━\u001b[0m\u001b[37m\u001b[0m \u001b[1m1s\u001b[0m 3ms/step - loss: 0.3646 - mae: 0.4343 - val_loss: 0.3338 - val_mae: 0.4002\n",
            "Epoch 25/50\n",
            "\u001b[1m413/413\u001b[0m \u001b[32m━━━━━━━━━━━━━━━━━━━━\u001b[0m\u001b[37m\u001b[0m \u001b[1m1s\u001b[0m 3ms/step - loss: 0.3739 - mae: 0.4394 - val_loss: 0.3598 - val_mae: 0.4261\n",
            "Epoch 26/50\n",
            "\u001b[1m413/413\u001b[0m \u001b[32m━━━━━━━━━━━━━━━━━━━━\u001b[0m\u001b[37m\u001b[0m \u001b[1m2s\u001b[0m 5ms/step - loss: 0.3606 - mae: 0.4293 - val_loss: 0.3520 - val_mae: 0.4037\n",
            "Epoch 27/50\n",
            "\u001b[1m413/413\u001b[0m \u001b[32m━━━━━━━━━━━━━━━━━━━━\u001b[0m\u001b[37m\u001b[0m \u001b[1m2s\u001b[0m 3ms/step - loss: 0.3522 - mae: 0.4248 - val_loss: 0.3734 - val_mae: 0.4249\n",
            "Epoch 28/50\n",
            "\u001b[1m413/413\u001b[0m \u001b[32m━━━━━━━━━━━━━━━━━━━━\u001b[0m\u001b[37m\u001b[0m \u001b[1m3s\u001b[0m 3ms/step - loss: 0.3365 - mae: 0.4173 - val_loss: 0.3576 - val_mae: 0.4268\n",
            "Epoch 29/50\n",
            "\u001b[1m413/413\u001b[0m \u001b[32m━━━━━━━━━━━━━━━━━━━━\u001b[0m\u001b[37m\u001b[0m \u001b[1m2s\u001b[0m 5ms/step - loss: 0.3413 - mae: 0.4186 - val_loss: 0.3406 - val_mae: 0.4129\n",
            "Epoch 30/50\n",
            "\u001b[1m413/413\u001b[0m \u001b[32m━━━━━━━━━━━━━━━━━━━━\u001b[0m\u001b[37m\u001b[0m \u001b[1m2s\u001b[0m 4ms/step - loss: 0.3565 - mae: 0.4255 - val_loss: 0.3398 - val_mae: 0.3995\n",
            "Epoch 31/50\n",
            "\u001b[1m413/413\u001b[0m \u001b[32m━━━━━━━━━━━━━━━━━━━━\u001b[0m\u001b[37m\u001b[0m \u001b[1m2s\u001b[0m 3ms/step - loss: 0.3499 - mae: 0.4216 - val_loss: 0.3587 - val_mae: 0.4043\n",
            "Epoch 32/50\n",
            "\u001b[1m413/413\u001b[0m \u001b[32m━━━━━━━━━━━━━━━━━━━━\u001b[0m\u001b[37m\u001b[0m \u001b[1m1s\u001b[0m 3ms/step - loss: 0.3562 - mae: 0.4209 - val_loss: 0.3538 - val_mae: 0.4049\n",
            "Epoch 33/50\n",
            "\u001b[1m413/413\u001b[0m \u001b[32m━━━━━━━━━━━━━━━━━━━━\u001b[0m\u001b[37m\u001b[0m \u001b[1m3s\u001b[0m 3ms/step - loss: 0.3498 - mae: 0.4196 - val_loss: 0.3450 - val_mae: 0.4017\n",
            "Epoch 34/50\n",
            "\u001b[1m413/413\u001b[0m \u001b[32m━━━━━━━━━━━━━━━━━━━━\u001b[0m\u001b[37m\u001b[0m \u001b[1m1s\u001b[0m 3ms/step - loss: 0.3348 - mae: 0.4124 - val_loss: 0.3355 - val_mae: 0.4048\n",
            "\u001b[1m129/129\u001b[0m \u001b[32m━━━━━━━━━━━━━━━━━━━━\u001b[0m\u001b[37m\u001b[0m \u001b[1m0s\u001b[0m 1ms/step\n",
            "Epoch 1/50\n",
            "\u001b[1m413/413\u001b[0m \u001b[32m━━━━━━━━━━━━━━━━━━━━\u001b[0m\u001b[37m\u001b[0m \u001b[1m6s\u001b[0m 6ms/step - loss: 0.9050 - mae: 0.6640 - val_loss: 0.4291 - val_mae: 0.4588\n",
            "Epoch 2/50\n",
            "\u001b[1m413/413\u001b[0m \u001b[32m━━━━━━━━━━━━━━━━━━━━\u001b[0m\u001b[37m\u001b[0m \u001b[1m3s\u001b[0m 3ms/step - loss: 0.3918 - mae: 0.4440 - val_loss: 0.4231 - val_mae: 0.4386\n",
            "Epoch 3/50\n",
            "\u001b[1m413/413\u001b[0m \u001b[32m━━━━━━━━━━━━━━━━━━━━\u001b[0m\u001b[37m\u001b[0m \u001b[1m2s\u001b[0m 3ms/step - loss: 0.4169 - mae: 0.4217 - val_loss: 0.3579 - val_mae: 0.4201\n",
            "Epoch 4/50\n",
            "\u001b[1m413/413\u001b[0m \u001b[32m━━━━━━━━━━━━━━━━━━━━\u001b[0m\u001b[37m\u001b[0m \u001b[1m3s\u001b[0m 5ms/step - loss: 0.3203 - mae: 0.3995 - val_loss: 0.3342 - val_mae: 0.3954\n",
            "Epoch 5/50\n",
            "\u001b[1m413/413\u001b[0m \u001b[32m━━━━━━━━━━━━━━━━━━━━\u001b[0m\u001b[37m\u001b[0m \u001b[1m2s\u001b[0m 3ms/step - loss: 0.2998 - mae: 0.3827 - val_loss: 0.3312 - val_mae: 0.4078\n",
            "Epoch 6/50\n",
            "\u001b[1m413/413\u001b[0m \u001b[32m━━━━━━━━━━━━━━━━━━━━\u001b[0m\u001b[37m\u001b[0m \u001b[1m3s\u001b[0m 3ms/step - loss: 0.2990 - mae: 0.3781 - val_loss: 0.3451 - val_mae: 0.4112\n",
            "Epoch 7/50\n",
            "\u001b[1m413/413\u001b[0m \u001b[32m━━━━━━━━━━━━━━━━━━━━\u001b[0m\u001b[37m\u001b[0m \u001b[1m1s\u001b[0m 3ms/step - loss: 0.2975 - mae: 0.3801 - val_loss: 0.3499 - val_mae: 0.4022\n",
            "Epoch 8/50\n",
            "\u001b[1m413/413\u001b[0m \u001b[32m━━━━━━━━━━━━━━━━━━━━\u001b[0m\u001b[37m\u001b[0m \u001b[1m3s\u001b[0m 3ms/step - loss: 0.2992 - mae: 0.3708 - val_loss: 0.3050 - val_mae: 0.3841\n",
            "Epoch 9/50\n",
            "\u001b[1m413/413\u001b[0m \u001b[32m━━━━━━━━━━━━━━━━━━━━\u001b[0m\u001b[37m\u001b[0m \u001b[1m3s\u001b[0m 5ms/step - loss: 0.2890 - mae: 0.3684 - val_loss: 0.3151 - val_mae: 0.3842\n",
            "Epoch 10/50\n",
            "\u001b[1m413/413\u001b[0m \u001b[32m━━━━━━━━━━━━━━━━━━━━\u001b[0m\u001b[37m\u001b[0m \u001b[1m1s\u001b[0m 3ms/step - loss: 0.2775 - mae: 0.3659 - val_loss: 0.3318 - val_mae: 0.3812\n",
            "Epoch 11/50\n",
            "\u001b[1m413/413\u001b[0m \u001b[32m━━━━━━━━━━━━━━━━━━━━\u001b[0m\u001b[37m\u001b[0m \u001b[1m3s\u001b[0m 3ms/step - loss: 0.2699 - mae: 0.3559 - val_loss: 0.3109 - val_mae: 0.3927\n",
            "Epoch 12/50\n",
            "\u001b[1m413/413\u001b[0m \u001b[32m━━━━━━━━━━━━━━━━━━━━\u001b[0m\u001b[37m\u001b[0m \u001b[1m3s\u001b[0m 3ms/step - loss: 0.2649 - mae: 0.3517 - val_loss: 0.2959 - val_mae: 0.3793\n",
            "Epoch 13/50\n",
            "\u001b[1m413/413\u001b[0m \u001b[32m━━━━━━━━━━━━━━━━━━━━\u001b[0m\u001b[37m\u001b[0m \u001b[1m1s\u001b[0m 3ms/step - loss: 0.2639 - mae: 0.3520 - val_loss: 0.2980 - val_mae: 0.3763\n",
            "Epoch 14/50\n",
            "\u001b[1m413/413\u001b[0m \u001b[32m━━━━━━━━━━━━━━━━━━━━\u001b[0m\u001b[37m\u001b[0m \u001b[1m3s\u001b[0m 3ms/step - loss: 0.2602 - mae: 0.3478 - val_loss: 0.2974 - val_mae: 0.3682\n",
            "Epoch 15/50\n",
            "\u001b[1m413/413\u001b[0m \u001b[32m━━━━━━━━━━━━━━━━━━━━\u001b[0m\u001b[37m\u001b[0m \u001b[1m2s\u001b[0m 5ms/step - loss: 0.2558 - mae: 0.3476 - val_loss: 0.3159 - val_mae: 0.3930\n",
            "Epoch 16/50\n",
            "\u001b[1m413/413\u001b[0m \u001b[32m━━━━━━━━━━━━━━━━━━━━\u001b[0m\u001b[37m\u001b[0m \u001b[1m2s\u001b[0m 3ms/step - loss: 0.2544 - mae: 0.3460 - val_loss: 0.3046 - val_mae: 0.3896\n",
            "Epoch 17/50\n",
            "\u001b[1m413/413\u001b[0m \u001b[32m━━━━━━━━━━━━━━━━━━━━\u001b[0m\u001b[37m\u001b[0m \u001b[1m3s\u001b[0m 3ms/step - loss: 0.2643 - mae: 0.3533 - val_loss: 0.2944 - val_mae: 0.3613\n",
            "Epoch 18/50\n",
            "\u001b[1m413/413\u001b[0m \u001b[32m━━━━━━━━━━━━━━━━━━━━\u001b[0m\u001b[37m\u001b[0m \u001b[1m3s\u001b[0m 3ms/step - loss: 0.2650 - mae: 0.3489 - val_loss: 0.3203 - val_mae: 0.3769\n",
            "Epoch 19/50\n",
            "\u001b[1m413/413\u001b[0m \u001b[32m━━━━━━━━━━━━━━━━━━━━\u001b[0m\u001b[37m\u001b[0m \u001b[1m3s\u001b[0m 3ms/step - loss: 0.2447 - mae: 0.3363 - val_loss: 0.2897 - val_mae: 0.3712\n",
            "Epoch 20/50\n",
            "\u001b[1m413/413\u001b[0m \u001b[32m━━━━━━━━━━━━━━━━━━━━\u001b[0m\u001b[37m\u001b[0m \u001b[1m3s\u001b[0m 4ms/step - loss: 0.2424 - mae: 0.3403 - val_loss: 0.2896 - val_mae: 0.3690\n",
            "Epoch 21/50\n",
            "\u001b[1m413/413\u001b[0m \u001b[32m━━━━━━━━━━━━━━━━━━━━\u001b[0m\u001b[37m\u001b[0m \u001b[1m1s\u001b[0m 3ms/step - loss: 0.2527 - mae: 0.3394 - val_loss: 0.2926 - val_mae: 0.3676\n",
            "Epoch 22/50\n",
            "\u001b[1m413/413\u001b[0m \u001b[32m━━━━━━━━━━━━━━━━━━━━\u001b[0m\u001b[37m\u001b[0m \u001b[1m3s\u001b[0m 3ms/step - loss: 0.2416 - mae: 0.3367 - val_loss: 0.3662 - val_mae: 0.3699\n",
            "Epoch 23/50\n",
            "\u001b[1m413/413\u001b[0m \u001b[32m━━━━━━━━━━━━━━━━━━━━\u001b[0m\u001b[37m\u001b[0m \u001b[1m3s\u001b[0m 3ms/step - loss: 0.2626 - mae: 0.3404 - val_loss: 0.2961 - val_mae: 0.3659\n",
            "Epoch 24/50\n",
            "\u001b[1m413/413\u001b[0m \u001b[32m━━━━━━━━━━━━━━━━━━━━\u001b[0m\u001b[37m\u001b[0m \u001b[1m1s\u001b[0m 3ms/step - loss: 0.2368 - mae: 0.3318 - val_loss: 0.2859 - val_mae: 0.3535\n",
            "Epoch 25/50\n",
            "\u001b[1m413/413\u001b[0m \u001b[32m━━━━━━━━━━━━━━━━━━━━\u001b[0m\u001b[37m\u001b[0m \u001b[1m3s\u001b[0m 4ms/step - loss: 0.2337 - mae: 0.3301 - val_loss: 0.2938 - val_mae: 0.3657\n",
            "Epoch 26/50\n",
            "\u001b[1m413/413\u001b[0m \u001b[32m━━━━━━━━━━━━━━━━━━━━\u001b[0m\u001b[37m\u001b[0m \u001b[1m2s\u001b[0m 3ms/step - loss: 0.2357 - mae: 0.3302 - val_loss: 0.2927 - val_mae: 0.3732\n",
            "Epoch 27/50\n",
            "\u001b[1m413/413\u001b[0m \u001b[32m━━━━━━━━━━━━━━━━━━━━\u001b[0m\u001b[37m\u001b[0m \u001b[1m1s\u001b[0m 3ms/step - loss: 0.2321 - mae: 0.3315 - val_loss: 0.3008 - val_mae: 0.3860\n",
            "Epoch 28/50\n",
            "\u001b[1m413/413\u001b[0m \u001b[32m━━━━━━━━━━━━━━━━━━━━\u001b[0m\u001b[37m\u001b[0m \u001b[1m1s\u001b[0m 3ms/step - loss: 0.2187 - mae: 0.3214 - val_loss: 0.2796 - val_mae: 0.3485\n",
            "Epoch 29/50\n",
            "\u001b[1m413/413\u001b[0m \u001b[32m━━━━━━━━━━━━━━━━━━━━\u001b[0m\u001b[37m\u001b[0m \u001b[1m2s\u001b[0m 3ms/step - loss: 0.2235 - mae: 0.3246 - val_loss: 0.2937 - val_mae: 0.3612\n",
            "Epoch 30/50\n",
            "\u001b[1m413/413\u001b[0m \u001b[32m━━━━━━━━━━━━━━━━━━━━\u001b[0m\u001b[37m\u001b[0m \u001b[1m1s\u001b[0m 3ms/step - loss: 0.2172 - mae: 0.3193 - val_loss: 0.2765 - val_mae: 0.3546\n",
            "Epoch 31/50\n",
            "\u001b[1m413/413\u001b[0m \u001b[32m━━━━━━━━━━━━━━━━━━━━\u001b[0m\u001b[37m\u001b[0m \u001b[1m3s\u001b[0m 4ms/step - loss: 0.2126 - mae: 0.3161 - val_loss: 0.2896 - val_mae: 0.3563\n",
            "Epoch 32/50\n",
            "\u001b[1m413/413\u001b[0m \u001b[32m━━━━━━━━━━━━━━━━━━━━\u001b[0m\u001b[37m\u001b[0m \u001b[1m2s\u001b[0m 3ms/step - loss: 0.2148 - mae: 0.3172 - val_loss: 0.2934 - val_mae: 0.3658\n",
            "Epoch 33/50\n",
            "\u001b[1m413/413\u001b[0m \u001b[32m━━━━━━━━━━━━━━━━━━━━\u001b[0m\u001b[37m\u001b[0m \u001b[1m3s\u001b[0m 3ms/step - loss: 0.2161 - mae: 0.3206 - val_loss: 0.3043 - val_mae: 0.3769\n",
            "Epoch 34/50\n",
            "\u001b[1m413/413\u001b[0m \u001b[32m━━━━━━━━━━━━━━━━━━━━\u001b[0m\u001b[37m\u001b[0m \u001b[1m1s\u001b[0m 3ms/step - loss: 0.2188 - mae: 0.3192 - val_loss: 0.2863 - val_mae: 0.3633\n",
            "Epoch 35/50\n",
            "\u001b[1m413/413\u001b[0m \u001b[32m━━━━━━━━━━━━━━━━━━━━\u001b[0m\u001b[37m\u001b[0m \u001b[1m2s\u001b[0m 3ms/step - loss: 0.2218 - mae: 0.3162 - val_loss: 0.3060 - val_mae: 0.3760\n",
            "Epoch 36/50\n",
            "\u001b[1m413/413\u001b[0m \u001b[32m━━━━━━━━━━━━━━━━━━━━\u001b[0m\u001b[37m\u001b[0m \u001b[1m3s\u001b[0m 5ms/step - loss: 0.2162 - mae: 0.3174 - val_loss: 0.2942 - val_mae: 0.3648\n",
            "Epoch 37/50\n",
            "\u001b[1m413/413\u001b[0m \u001b[32m━━━━━━━━━━━━━━━━━━━━\u001b[0m\u001b[37m\u001b[0m \u001b[1m2s\u001b[0m 4ms/step - loss: 0.1958 - mae: 0.3043 - val_loss: 0.2966 - val_mae: 0.3806\n",
            "Epoch 38/50\n",
            "\u001b[1m413/413\u001b[0m \u001b[32m━━━━━━━━━━━━━━━━━━━━\u001b[0m\u001b[37m\u001b[0m \u001b[1m1s\u001b[0m 3ms/step - loss: 0.2005 - mae: 0.3097 - val_loss: 0.2812 - val_mae: 0.3687\n",
            "Epoch 39/50\n",
            "\u001b[1m413/413\u001b[0m \u001b[32m━━━━━━━━━━━━━━━━━━━━\u001b[0m\u001b[37m\u001b[0m \u001b[1m3s\u001b[0m 4ms/step - loss: 0.1906 - mae: 0.3030 - val_loss: 0.2839 - val_mae: 0.3519\n",
            "Epoch 40/50\n",
            "\u001b[1m413/413\u001b[0m \u001b[32m━━━━━━━━━━━━━━━━━━━━\u001b[0m\u001b[37m\u001b[0m \u001b[1m2s\u001b[0m 4ms/step - loss: 0.1959 - mae: 0.3041 - val_loss: 0.2811 - val_mae: 0.3513\n",
            "\u001b[1m129/129\u001b[0m \u001b[32m━━━━━━━━━━━━━━━━━━━━\u001b[0m\u001b[37m\u001b[0m \u001b[1m0s\u001b[0m 2ms/step\n"
          ]
        }
      ],
      "source": [
        "epochs = 50\n",
        "batch_size = 32\n",
        "early_stopping = keras.callbacks.EarlyStopping(\n",
        "    monitor='val_loss', patience=10, restore_best_weights=True\n",
        ")\n",
        "\n",
        "results = {}\n",
        "for name, model in models.items():\n",
        "    # Обучаем модель\n",
        "    history = model.fit(\n",
        "        X_train_scaled, y_train,\n",
        "        epochs=epochs,\n",
        "        batch_size=batch_size,\n",
        "        validation_split=0.2,\n",
        "        callbacks=[early_stopping],\n",
        "        verbose=1\n",
        "    )\n",
        "\n",
        "    # Предсказания на тестовых данных\n",
        "    y_pred = model.predict(X_test_scaled).flatten()\n",
        "\n",
        "    # Подсчёт метрик\n",
        "    metrics = get_metrics(y_test, y_pred, n=len(y_test), p=X_train_scaled.shape[1])\n",
        "    results[name] = metrics"
      ]
    },
    {
      "cell_type": "markdown",
      "metadata": {
        "id": "C0xc4CVLmVo8"
      },
      "source": [
        "## **6. Оценка точности и выбор лучшей модели**"
      ]
    },
    {
      "cell_type": "code",
      "execution_count": null,
      "metadata": {
        "id": "JlhKkIpbh7sQ",
        "colab": {
          "base_uri": "https://localhost:8080/",
          "height": 215
        },
        "outputId": "dcae01cf-1144-4698-887a-d067ec64f559"
      },
      "outputs": [
        {
          "output_type": "stream",
          "name": "stdout",
          "text": [
            "Результаты по всем моделям:\n",
            "\n"
          ]
        },
        {
          "output_type": "display_data",
          "data": {
            "text/plain": [
              "<pandas.io.formats.style.Styler at 0x7acd764a2510>"
            ],
            "text/html": [
              "<style type=\"text/css\">\n",
              "</style>\n",
              "<table id=\"T_3a157\" class=\"dataframe\">\n",
              "  <thead>\n",
              "    <tr>\n",
              "      <th class=\"blank level0\" >&nbsp;</th>\n",
              "      <th id=\"T_3a157_level0_col0\" class=\"col_heading level0 col0\" >MAE</th>\n",
              "      <th id=\"T_3a157_level0_col1\" class=\"col_heading level0 col1\" >MAPE</th>\n",
              "      <th id=\"T_3a157_level0_col2\" class=\"col_heading level0 col2\" >MSE</th>\n",
              "      <th id=\"T_3a157_level0_col3\" class=\"col_heading level0 col3\" >RMSE</th>\n",
              "      <th id=\"T_3a157_level0_col4\" class=\"col_heading level0 col4\" >R2</th>\n",
              "      <th id=\"T_3a157_level0_col5\" class=\"col_heading level0 col5\" >MSPE</th>\n",
              "      <th id=\"T_3a157_level0_col6\" class=\"col_heading level0 col6\" >SMAPE</th>\n",
              "      <th id=\"T_3a157_level0_col7\" class=\"col_heading level0 col7\" >MRE</th>\n",
              "      <th id=\"T_3a157_level0_col8\" class=\"col_heading level0 col8\" >RMSLE</th>\n",
              "      <th id=\"T_3a157_level0_col9\" class=\"col_heading level0 col9\" >Adjusted R2</th>\n",
              "    </tr>\n",
              "  </thead>\n",
              "  <tbody>\n",
              "    <tr>\n",
              "      <th id=\"T_3a157_level0_row0\" class=\"row_heading level0 row0\" >dense_model</th>\n",
              "      <td id=\"T_3a157_row0_col0\" class=\"data row0 col0\" >0.356</td>\n",
              "      <td id=\"T_3a157_row0_col1\" class=\"data row0 col1\" >20.071</td>\n",
              "      <td id=\"T_3a157_row0_col2\" class=\"data row0 col2\" >0.278</td>\n",
              "      <td id=\"T_3a157_row0_col3\" class=\"data row0 col3\" >0.527</td>\n",
              "      <td id=\"T_3a157_row0_col4\" class=\"data row0 col4\" >0.788</td>\n",
              "      <td id=\"T_3a157_row0_col5\" class=\"data row0 col5\" >16.875</td>\n",
              "      <td id=\"T_3a157_row0_col6\" class=\"data row0 col6\" >18.121</td>\n",
              "      <td id=\"T_3a157_row0_col7\" class=\"data row0 col7\" >0.201</td>\n",
              "      <td id=\"T_3a157_row0_col8\" class=\"data row0 col8\" >0.159</td>\n",
              "      <td id=\"T_3a157_row0_col9\" class=\"data row0 col9\" >0.788</td>\n",
              "    </tr>\n",
              "    <tr>\n",
              "      <th id=\"T_3a157_level0_row1\" class=\"row_heading level0 row1\" >residual_model</th>\n",
              "      <td id=\"T_3a157_row1_col0\" class=\"data row1 col0\" >0.352</td>\n",
              "      <td id=\"T_3a157_row1_col1\" class=\"data row1 col1\" >19.406</td>\n",
              "      <td id=\"T_3a157_row1_col2\" class=\"data row1 col2\" >0.278</td>\n",
              "      <td id=\"T_3a157_row1_col3\" class=\"data row1 col3\" >0.528</td>\n",
              "      <td id=\"T_3a157_row1_col4\" class=\"data row1 col4\" >0.788</td>\n",
              "      <td id=\"T_3a157_row1_col5\" class=\"data row1 col5\" >18.367</td>\n",
              "      <td id=\"T_3a157_row1_col6\" class=\"data row1 col6\" >17.691</td>\n",
              "      <td id=\"T_3a157_row1_col7\" class=\"data row1 col7\" >0.194</td>\n",
              "      <td id=\"T_3a157_row1_col8\" class=\"data row1 col8\" >0.159</td>\n",
              "      <td id=\"T_3a157_row1_col9\" class=\"data row1 col9\" >0.787</td>\n",
              "    </tr>\n",
              "    <tr>\n",
              "      <th id=\"T_3a157_level0_row2\" class=\"row_heading level0 row2\" >deep_model</th>\n",
              "      <td id=\"T_3a157_row2_col0\" class=\"data row2 col0\" >0.387</td>\n",
              "      <td id=\"T_3a157_row2_col1\" class=\"data row2 col1\" >22.444</td>\n",
              "      <td id=\"T_3a157_row2_col2\" class=\"data row2 col2\" >0.306</td>\n",
              "      <td id=\"T_3a157_row2_col3\" class=\"data row2 col3\" >0.554</td>\n",
              "      <td id=\"T_3a157_row2_col4\" class=\"data row2 col4\" >0.766</td>\n",
              "      <td id=\"T_3a157_row2_col5\" class=\"data row2 col5\" >21.396</td>\n",
              "      <td id=\"T_3a157_row2_col6\" class=\"data row2 col6\" >19.877</td>\n",
              "      <td id=\"T_3a157_row2_col7\" class=\"data row2 col7\" >0.224</td>\n",
              "      <td id=\"T_3a157_row2_col8\" class=\"data row2 col8\" >0.168</td>\n",
              "      <td id=\"T_3a157_row2_col9\" class=\"data row2 col9\" >0.766</td>\n",
              "    </tr>\n",
              "  </tbody>\n",
              "</table>\n"
            ]
          },
          "metadata": {}
        },
        {
          "output_type": "stream",
          "name": "stdout",
          "text": [
            "\n",
            "Лучшая модель по R2: dense_model\n"
          ]
        }
      ],
      "source": [
        "results_df = pd.DataFrame(results).T  # Переводим в DataFrame для удобства\n",
        "results_df = results_df.sort_values(by='R2', ascending=False)\n",
        "\n",
        "print(\"Результаты по всем моделям:\\n\")\n",
        "display(results_df.style.format(\"{:.3f}\"))\n",
        "\n",
        "# Выбор лучшей модели по R2\n",
        "best_model_name = results_df[\"R2\"].idxmax()\n",
        "print(f\"\\nЛучшая модель по R2: {best_model_name}\")\n",
        "best_model = models[best_model_name]"
      ]
    },
    {
      "cell_type": "markdown",
      "metadata": {
        "id": "GD-lQnoCmfq2"
      },
      "source": [
        "## **7. Сохранение лучшей модели в формате Keras**"
      ]
    },
    {
      "cell_type": "code",
      "execution_count": null,
      "metadata": {
        "colab": {
          "base_uri": "https://localhost:8080/"
        },
        "id": "ZPuFE473iFKx",
        "outputId": "dde2a78e-479d-4e31-ff26-185283fcd055"
      },
      "outputs": [
        {
          "output_type": "stream",
          "name": "stderr",
          "text": [
            "WARNING:absl:You are saving your model as an HDF5 file via `model.save()` or `keras.saving.save_model(model)`. This file format is considered legacy. We recommend using instead the native Keras format, e.g. `model.save('my_model.keras')` or `keras.saving.save_model(model, 'my_model.keras')`. \n"
          ]
        },
        {
          "output_type": "stream",
          "name": "stdout",
          "text": [
            "\n",
            "Лучшая модель сохранена в директории \n"
          ]
        }
      ],
      "source": [
        "model_path = \"best_keras_model.h5\"\n",
        "model_dir = ''\n",
        "\n",
        "\n",
        "# Сохраняем модель в формате SavedModel (TensorFlow)\n",
        "best_model.save(model_path)\n",
        "\n",
        "# Сохраняем scaler для последующего использования\n",
        "with open(os.path.join(model_dir, \"scaler.pkl\"), \"wb\") as f:\n",
        "    pickle.dump(scaler, f)\n",
        "\n",
        "print(f\"\\nЛучшая модель сохранена в директории {model_dir}\")"
      ]
    },
    {
      "cell_type": "markdown",
      "metadata": {
        "id": "rx69Sm3ZlFmT"
      },
      "source": [
        "## **8. Загрузка и использование сохраненной модели**"
      ]
    },
    {
      "cell_type": "code",
      "execution_count": null,
      "metadata": {
        "id": "SvHUwwnziMEX",
        "colab": {
          "base_uri": "https://localhost:8080/"
        },
        "outputId": "c29cd966-82fb-403f-ce54-4fe1f0708738"
      },
      "outputs": [
        {
          "output_type": "stream",
          "name": "stderr",
          "text": [
            "/usr/local/lib/python3.11/dist-packages/sklearn/utils/validation.py:2739: UserWarning: X does not have valid feature names, but StandardScaler was fitted with feature names\n",
            "  warnings.warn(\n"
          ]
        },
        {
          "output_type": "stream",
          "name": "stdout",
          "text": [
            "\u001b[1m1/1\u001b[0m \u001b[32m━━━━━━━━━━━━━━━━━━━━\u001b[0m\u001b[37m\u001b[0m \u001b[1m0s\u001b[0m 241ms/step\n",
            "Предсказание цены: 3.5646753311157227\n"
          ]
        }
      ],
      "source": [
        "# Загрузка модели\n",
        "loaded_model = tf.keras.models.load_model(model_path, compile=False)\n",
        "\n",
        "# Загрузка scaler\n",
        "with open(\"scaler.pkl\", \"rb\") as f:\n",
        "    loaded_scaler = pickle.load(f)\n",
        "\n",
        "# Пример использования (на тех же данных что и в оригинальном примере)\n",
        "X_new = np.array([[8.0, 20.0, 6.0, 1.0, 1000.0, 3.0, 34.19, -118.31]])\n",
        "X_new_scaled = loaded_scaler.transform(X_new)\n",
        "\n",
        "# Предсказываем\n",
        "prediction = loaded_model.predict(X_new_scaled)\n",
        "print(f\"Предсказание цены: {prediction[0][0]}\")"
      ]
    },
    {
      "cell_type": "markdown",
      "metadata": {
        "id": "Kdi_2KUIiRC2"
      },
      "source": [
        "## **9. Реализация веб-приложения с использованием Gradio для работы с моделью**"
      ]
    },
    {
      "cell_type": "code",
      "source": [
        "%%capture\n",
        "!pip install gradio"
      ],
      "metadata": {
        "id": "HZ3aFFctOx1E"
      },
      "execution_count": null,
      "outputs": []
    },
    {
      "cell_type": "code",
      "execution_count": null,
      "metadata": {
        "colab": {
          "base_uri": "https://localhost:8080/"
        },
        "id": "mPBQ1qvcsD8g",
        "outputId": "96cd0a30-df33-4983-abb1-4db018611a77"
      },
      "outputs": [
        {
          "name": "stdout",
          "output_type": "stream",
          "text": [
            "Предсказание цены: [3.7643755]\n"
          ]
        },
        {
          "name": "stderr",
          "output_type": "stream",
          "text": [
            "/usr/local/lib/python3.10/dist-packages/sklearn/utils/validation.py:2739: UserWarning: X does not have valid feature names, but StandardScaler was fitted with feature names\n",
            "  warnings.warn(\n"
          ]
        }
      ],
      "source": [
        "import gradio as gr\n",
        "import tensorflow as tf\n",
        "from tensorflow import keras\n",
        "import pickle\n",
        "import numpy as np\n",
        "import os\n",
        "\n",
        "# Загрузка модели и скейлера\n",
        "model_path = \"best_keras_model.h5\"\n",
        "model = keras.models.load_model(model_path)\n",
        "\n",
        "with open(\"scaler.pkl\", \"rb\") as f:\n",
        "    scaler = pickle.load(f)\n",
        "\n",
        "# Функция предсказания\n",
        "def predict_price(\n",
        "    MedInc,\n",
        "    HouseAge,\n",
        "    AveRooms,\n",
        "    AveBedrms,\n",
        "    Population,\n",
        "    AveOccup,\n",
        "    Latitude,\n",
        "    Longitude\n",
        "):\n",
        "    \"\"\"\n",
        "    Функция принимает значения признаков, масштабирует их\n",
        "    и возвращает предсказание цены.\n",
        "    \"\"\"\n",
        "    # Формируем numpy-массив из входных данных\n",
        "    X_new = np.array([[MedInc, HouseAge, AveRooms, AveBedrms,\n",
        "                     Population, AveOccup, Latitude, Longitude]])\n",
        "\n",
        "    # Применяем масштабирование\n",
        "    X_scaled = loaded_scaler.transform(X_new)\n",
        "\n",
        "    # Получаем предсказание\n",
        "    prediction = loaded_model.predict(X_scaled)\n",
        "\n",
        "    return float(prediction[0][0])\n",
        "\n",
        "# Создаём интерфейс Gradio\n",
        "interface = gr.Interface(\n",
        "    fn=predict_price,\n",
        "    inputs=[\n",
        "        gr.Number(label=\"Медианный доход (MedInc)\"),\n",
        "        gr.Number(label=\"Средний возраст жилья (HouseAge)\"),\n",
        "        gr.Number(label=\"Среднее кол-во комнат (AveRooms)\"),\n",
        "        gr.Number(label=\"Среднее кол-во спален (AveBedrms)\"),\n",
        "        gr.Number(label=\"Население (Population)\"),\n",
        "        gr.Number(label=\"Среднее кол-во человек в доме (AveOccup)\"),\n",
        "        gr.Number(label=\"Широта (Latitude)\"),\n",
        "        gr.Number(label=\"Долгота (Longitude)\")\n",
        "    ],\n",
        "    outputs=\"text\",\n",
        "    title=\"Прогноз стоимости недвижимости\",\n",
        "    description=(\n",
        "        \"Введите параметры и нажмите 'Submit'. \"\n",
        "        \"Модель вернёт предсказанную стоимость.\"\n",
        "    )\n",
        ")\n",
        "\n",
        "# Запуск интерфейса Gradio\n",
        "interface.launch(share=True)"
      ]
    },
    {
      "cell_type": "markdown",
      "metadata": {
        "id": "sZJ8-7vSuIRZ"
      },
      "source": [
        "## **10. Развертывание модели Keras на сервере с использованием FastAPI**"
      ]
    },
    {
      "cell_type": "markdown",
      "source": [
        "**(Весь процесс от начала и до конца рассматривался на паре, ниже привожу его структурированный пересказ)**"
      ],
      "metadata": {
        "id": "lqOzLEWywZG9"
      }
    },
    {
      "cell_type": "markdown",
      "source": [
        "Разработка веб-приложения, которое служит интерфейсом для обученной модели, включает несколько этапов:\n",
        "\n",
        "1. **Создание API для модели и развёртывание его на Render.com**\n",
        "2. **Разработка графического интерфейса с использованием Streamlit**\n",
        "3. **Развёртывание Streamlit приложения на платформе Streamlit**"
      ],
      "metadata": {
        "id": "MErFQI9fzl3s"
      }
    },
    {
      "cell_type": "markdown",
      "source": [
        "Все этапы проводятся в десткопной среде Pycharm/VS Code, затем готовый проект пушится на GitHub"
      ],
      "metadata": {
        "id": "1SguBC3Dz1gb"
      }
    },
    {
      "cell_type": "markdown",
      "source": [
        "### **1. Создание API для модели и развёртывание его на Render.com**\n"
      ],
      "metadata": {
        "id": "fFqr7Mke1IPb"
      }
    },
    {
      "cell_type": "markdown",
      "source": [
        "#### **Файл `main.py`**\n",
        "\n",
        "```python\n",
        "from fastapi import FastAPI\n",
        "import tensorflow as tf\n",
        "from tensorflow import keras\n",
        "import pickle\n",
        "import numpy as np\n",
        "from pydantic import BaseModel\n",
        "import os\n",
        "\n",
        "app = FastAPI()\n",
        "```\n",
        "\n",
        "- **Импорт необходимых библиотек:**\n",
        "  - `FastAPI` для создания веб-приложения API.\n",
        "  - `tensorflow` и `keras` для работы с нейросетевой моделью.\n",
        "  - `pickle` для загрузки сохранённого скейлера.\n",
        "  - `numpy` для работы с числовыми массивами.\n",
        "  - `pydantic` для валидации входных данных.\n",
        "  - `os` для работы с путями к файлам.\n",
        "\n",
        "- **Инициализация приложения:** Создаём экземпляр приложения `FastAPI`.\n",
        "\n",
        "```python\n",
        "# Загрузка модели и скейлера\n",
        "model_path = \"best_keras_model.h5\"\n",
        "model = keras.models.load_model(model_path)\n",
        "\n",
        "with open(\"scaler.pkl\", \"rb\") as f:\n",
        "    scaler = pickle.load(f)\n",
        "```\n",
        "\n",
        "- **Загрузка обученной модели и скейлера:**\n",
        "  - Указываем директорию/файл `best_keras_model`, где хранится модель/с моделью.\n",
        "  - Используем `keras.models.load_model` для загрузки модели TensorFlow.\n",
        "  - Открываем файл `scaler.pkl` из той же директории для загрузки скейлера.\n",
        "  - Используем `pickle.load` для десериализации скейлера.\n",
        "\n",
        "```python\n",
        "class InputData(BaseModel):\n",
        "    MedInc: float\n",
        "    HouseAge: float\n",
        "    AveRooms: float\n",
        "    AveBedrms: float\n",
        "    Population: float\n",
        "    AveOccup: float\n",
        "    Latitude: float\n",
        "    Longitude: float\n",
        "```\n",
        "\n",
        "- **Определение модели входных данных:**\n",
        "  - Создаём класс `InputData`, наследующий от `BaseModel`, который описывает структуру ожидаемых данных от клиента.\n",
        "  - Каждый атрибут соответствует одному из признаков модели и имеет тип `float`.\n",
        "\n",
        "```python\n",
        "@app.post('/predict')\n",
        "async def predict(input_data: InputData):\n",
        "    # Преобразуем входные данные в numpy массив\n",
        "    X_new = np.array([[\n",
        "        input_data.MedInc,\n",
        "        input_data.HouseAge,\n",
        "        input_data.AveRooms,\n",
        "        input_data.AveBedrms,\n",
        "        input_data.Population,\n",
        "        input_data.AveOccup,\n",
        "        input_data.Latitude,\n",
        "        input_data.Longitude\n",
        "    ]])\n",
        "```\n",
        "\n",
        "- **Создание маршрута для предсказаний:**\n",
        "  - Используем декоратор `@app.post('/predict')` для создания эндпоинта `/predict`, который будет обрабатывать POST-запросы.\n",
        "  - Функция `predict` принимает объект `input_data` типа `InputData`.\n",
        "  - Собираем входные данные в numpy-массив `X_new`, который затем подаётся на вход модели.\n",
        "\n",
        "```python\n",
        "    # Применяем скейлер\n",
        "    X_scaled = scaler.transform(X_new)\n",
        "```\n",
        "\n",
        "- **Масштабирование данных:**\n",
        "  - Применяем загруженный скейлер к входным данным для нормализации признаков.\n",
        "  - Результат сохраняем в переменную `X_scaled`.\n",
        "\n",
        "```python\n",
        "    # Получаем предсказание\n",
        "    prediction = model.predict(X_scaled)\n",
        "```\n",
        "\n",
        "- **Получение прогноза:**\n",
        "  - Используем загруженную Keras-модель для предсказания цены на основе масштабированных данных.\n",
        "\n",
        "```python\n",
        "    return {\"prediction\": float(prediction[0][0])}\n",
        "```\n",
        "\n",
        "- **Возвращение результата:**\n",
        "  - Возвращаем прогноз в формате JSON, извлекая значение из вложенного массива и преобразуя результат в `float` для обеспечения сериализации.\n",
        "\n",
        "**Файл `requirements.txt`**\n",
        "\n",
        "```\n",
        "fastapi==0.103.0\n",
        "numpy\n",
        "tensorflow==2.18.0\n",
        "uvicorn==0.23.2\n",
        "scikit-learn==1.6.1\n",
        "```\n",
        "\n",
        "- **Зависимости проекта:**\n",
        "  - Указываем необходимые библиотеки и их версии для корректной работы приложения.\n",
        "\n"
      ],
      "metadata": {
        "id": "Rus8J1WM04_Q"
      }
    },
    {
      "cell_type": "markdown",
      "source": [
        "Для запуска API локально выполните:\n",
        "\n",
        "```\n",
        "uvicorn main:app --reload\n",
        "```"
      ],
      "metadata": {
        "id": "DY9n7527KEf7"
      }
    },
    {
      "cell_type": "markdown",
      "source": [
        "**Развёртывание на Render.com**\n",
        "\n",
        "1. **Регистрация и настройка проекта:**\n",
        "   - Зарегистрироваться на [Render.com](https://render.com).\n",
        "   - Создать новый веб-сервис, указав репозиторий с вашим проектом.\n",
        "   - Указать ветку и команду запуска (например, `uvicorn main:app --host 0.0.0.0 --port $PORT`).\n",
        "\n",
        "2. **Настройка зависимостей:**\n",
        "   - Render.com автоматически установит зависимости из файла `requirements.txt`.\n",
        "\n",
        "3. **Развёртывание:**\n",
        "   - Запустить процесс развёртывания и дождаться его завершения.\n",
        "\n",
        "Теперь API доступен по адресу, предоставленному Render.com."
      ],
      "metadata": {
        "id": "OcaPk7EkJ-Oo"
      }
    },
    {
      "cell_type": "markdown",
      "source": [
        "- Пример использования API:"
      ],
      "metadata": {
        "id": "bx_OQN5a092D"
      }
    },
    {
      "cell_type": "code",
      "source": [
        "import requests\n",
        "\n",
        "# URL API\n",
        "url = 'https://california-regression.onrender.com/predict'\n",
        "\n",
        "# Сбор данных от пользователя\n",
        "print(\"Введите параметры для прогноза цены на жильё.\")\n",
        "\n",
        "MedInc = float(input(\"Медианный доход: \"))\n",
        "HouseAge = float(input(\"Средний возраст жилья: \"))\n",
        "AveRooms = float(input(\"Общее кол-во комнат: \"))\n",
        "AveBedrms = float(input(\"Общее кол-во спален: \"))\n",
        "Population = float(input(\"Население: \"))\n",
        "AveOccup = float(input(\"Кол-во домохозяйств: \"))\n",
        "Latitude = float(input(\"Широта: \"))\n",
        "Longitude = float(input(\"Долгота: \"))\n",
        "\n",
        "# Создание словаря с данными\n",
        "data = {\n",
        "    \"MedInc\": MedInc,\n",
        "    \"HouseAge\": HouseAge,\n",
        "    \"AveRooms\": AveRooms,\n",
        "    \"AveBedrms\": AveBedrms,\n",
        "    \"Population\": Population,\n",
        "    \"AveOccup\": AveOccup,\n",
        "    \"Latitude\": Latitude,\n",
        "    \"Longitude\": Longitude\n",
        "}\n",
        "\n",
        "# Отправка POST-запроса к API\n",
        "response = requests.post(url, json=data)\n",
        "\n",
        "# Обработка ответа\n",
        "if response.status_code == 200:\n",
        "    try:\n",
        "        result = response.json()\n",
        "        prediction = result.get('prediction')\n",
        "        if prediction is not None:\n",
        "            print(f'Прогнозируемая цена: {prediction*1000:.2f}$')\n",
        "        else:\n",
        "            print(\"Ошибка! Ответ API не содержит прогноз!\")\n",
        "    except ValueError:\n",
        "        print(\"Ошибка! Ответ API не является валидным JSON!\")\n",
        "else:\n",
        "    print(f\"Ошибка! API вернул статус: {response.status_code}\")"
      ],
      "metadata": {
        "colab": {
          "base_uri": "https://localhost:8080/"
        },
        "outputId": "6dc084d8-a2db-4c95-b349-9f0f90c770d0",
        "id": "bRF4VtvP1Cze"
      },
      "execution_count": null,
      "outputs": [
        {
          "output_type": "stream",
          "name": "stdout",
          "text": [
            "Введите параметры для прогноза цены на жильё.\n",
            "Медианный доход: 34\n",
            "Средний возраст жилья: 3\n",
            "Общее кол-во комнат: 4\n",
            "Общее кол-во спален: 2\n",
            "Население: 30000\n",
            "Кол-во домохозяйств: 12\n",
            "Широта: 54\n",
            "Долгота: 36\n",
            "Прогнозируемая цена: 3571.65$\n"
          ]
        }
      ]
    },
    {
      "cell_type": "markdown",
      "source": [
        "### **2. Разработка графического интерфейса с использованием Streamlit**"
      ],
      "metadata": {
        "id": "w8AuwEjII-hA"
      }
    },
    {
      "cell_type": "markdown",
      "source": [
        "#### **Файл `app.py`**"
      ],
      "metadata": {
        "id": "X4yJ1Ek_JhM-"
      }
    },
    {
      "cell_type": "markdown",
      "source": [
        "\n",
        "```python\n",
        "import streamlit as st\n",
        "import requests\n",
        "import json\n",
        "import numpy as np\n",
        "import pickle\n",
        "import os\n",
        "\n",
        "# Загрузка скейлера\n",
        "with open(\"best_keras_model/scaler.pkl\", \"rb\") as f:\n",
        "    scaler = pickle.load(f)\n",
        "\n",
        "st.title(\"Прогноз цены на жильё с использованием нейронной сети Keras\")\n",
        "\n",
        "# API для модели Keras\n",
        "API_URL = \"http://localhost:8000/predict\"  # FastAPI URL\n",
        "```\n",
        "\n",
        "- **Импорт необходимых библиотек:**\n",
        "  - `streamlit` для создания интерактивного веб-приложения.\n",
        "  - `requests` для отправки HTTP-запросов к API.\n",
        "  - `json` для работы с JSON-данными.\n",
        "  - `numpy` для операций с числовыми массивами.\n",
        "  - `pickle` для загрузки сохранённого скейлера.\n",
        "  - `os` для работы с путями к файлам.\n",
        "\n",
        "- **Загрузка скейлера:**\n",
        "  - Открываем файл скейлера из директории `best_keras_model`.\n",
        "  - Используем `pickle.load` для десериализации скейлера.\n",
        "\n",
        "- **Настройка интерфейса:**\n",
        "  - С помощью `st.title` отображаем заголовок приложения.\n",
        "  - Указываем URL для доступа к API, запущенному на локальном сервере.\n",
        "\n",
        "```python\n",
        "# Вводные данные\n",
        "MedInc = st.number_input(\"Медианный доход\", value=3.0)\n",
        "HouseAge = st.number_input(\"Средний возраст жилья\", value=3.0)\n",
        "AveRooms = st.number_input(\"Среднее кол-во комнат\", value=3.0)\n",
        "AveBedrms = st.number_input(\"Среднее кол-во спален\", value=3.0)\n",
        "Population = st.number_input(\"Население\", value=1500.0)\n",
        "AveOccup = st.number_input(\"Среднее кол-во человек в доме\", value=500.0)\n",
        "Latitude = st.number_input(\"Широта\", value=37.88)\n",
        "Longitude = st.number_input(\"Долгота\", value=-122.33)\n",
        "```\n",
        "\n",
        "- **Сбор входных данных:**\n",
        "  - Создаём ряд полей ввода с помощью `st.number_input`.\n",
        "  - Для каждого поля указываем понятную метку и значение по умолчанию.\n",
        "  - Собираем все ключевые параметры, влияющие на прогноз цены жилья.\n",
        "\n",
        "```python\n",
        "if st.button(\"Получить прогноз\"):\n",
        "    # Подготовка данных для запроса\n",
        "    data = {\n",
        "        \"MedInc\": MedInc,\n",
        "        \"HouseAge\": HouseAge,\n",
        "        \"AveRooms\": AveRooms,\n",
        "        \"AveBedrms\": AveBedrms,\n",
        "        \"Population\": Population,\n",
        "        \"AveOccup\": AveOccup,\n",
        "        \"Latitude\": Latitude,\n",
        "        \"Longitude\": Longitude\n",
        "    }\n",
        "```\n",
        "\n",
        "- **Обработка нажатия кнопки:**\n",
        "  - С помощью `st.button` создаём кнопку запуска прогнозирования.\n",
        "  - При активации кнопки формируем словарь `data` с данными для отправки на сервер.\n",
        "  - Структура словаря соответствует ожидаемому формату API.\n",
        "\n",
        "```python\n",
        "    # Отправка запроса к API\n",
        "    try:\n",
        "        response = requests.post(API_URL, json=data)\n",
        "        \n",
        "        if response.status_code == 200:\n",
        "            result = response.json()\n",
        "            prediction = result.get('prediction')\n",
        "            st.success(f'Прогнозируемая цена: {prediction*100000:.2f}$')\n",
        "            \n",
        "            # Визуализация результата\n",
        "            st.subheader('Визуализация прогноза')\n",
        "            st.bar_chart({\"Прогноз\": [prediction]})\n",
        "        else:\n",
        "            st.error(f\"Ошибка API: {response.status_code}\")\n",
        "    except Exception as e:\n",
        "        st.error(f\"Ошибка при отправке запроса: {str(e)}\")\n",
        "```\n",
        "\n",
        "- **Взаимодействие с API и обработка результатов:**\n",
        "  - Используем конструкцию `try-except` для обработки возможных ошибок соединения.\n",
        "  - Отправляем POST-запрос к указанному API с данными в формате JSON.\n",
        "  - Проверяем успешность запроса по коду ответа (200 означает успех).\n",
        "  - При успешном ответе:\n",
        "    - Извлекаем прогноз из ответа.\n",
        "    - Отображаем результат, умножая на 100000 для получения реальной цены в долларах.\n",
        "    - Создаём визуализацию прогноза с помощью `st.bar_chart`.\n",
        "  - При ошибке API или исключении выводим соответствующее сообщение с деталями проблемы."
      ],
      "metadata": {
        "id": "5oOJGVRe1Unh"
      }
    },
    {
      "cell_type": "markdown",
      "source": [
        "Для запуска Streamlit приложения выполните:\n",
        "\n",
        "```\n",
        "streamlit run app.py\n",
        "```"
      ],
      "metadata": {
        "id": "xaXISHfYJ0KA"
      }
    },
    {
      "cell_type": "markdown",
      "source": [
        "### **3. Развёртывание Streamlit приложения на платформе Streamlit**\n"
      ],
      "metadata": {
        "id": "HiVTDPi61jj9"
      }
    },
    {
      "cell_type": "markdown",
      "source": [
        "\n",
        "1. **Регистрация на Streamlit Sharing:**\n",
        "   - Перейдите на [streamlit.io](https://streamlit.io) и зарегистрируйтесь.\n",
        "   - Получите доступ к Streamlit Community Cloud (ранее Streamlit Sharing).\n",
        "\n",
        "2. **Развёртывание приложения:**\n",
        "   - На панели управления Streamlit создайте новое приложение, указав ссылку на ваш репозиторий и путь к файлу `app.py`.\n",
        "   - Убедитесь, что в `requirements.txt` указаны все необходимые зависимости.\n",
        "\n",
        "3. **Запуск и тестирование:**\n",
        "   - Запустите приложение и убедитесь, что оно корректно работает.\n",
        "   - Проверьте ввод данных и получение прогноза."
      ],
      "metadata": {
        "id": "6wMn4P7rzVnf"
      }
    },
    {
      "cell_type": "markdown",
      "source": [
        "- Ссылка на развернутое приложение, реализованное на паре: https://californiaregression-kfbybrncfrpkju36p9kwn4.streamlit.app/"
      ],
      "metadata": {
        "id": "LlqaReUg1-1G"
      }
    },
    {
      "cell_type": "markdown",
      "source": [
        "### **Структура репозитория с проектом**\n"
      ],
      "metadata": {
        "id": "8iuSCQHy18iR"
      }
    },
    {
      "cell_type": "markdown",
      "source": [
        "\n",
        "```\n",
        "app.py\n",
        "best_regression_model\n",
        "main.py\n",
        "requirements.txt\n",
        "```\n",
        "\n",
        "- **`app.py`** — код Streamlit приложения (клиентская часть).\n",
        "- **`main.py`** — код FastAPI приложения (серверная часть).\n",
        "- **`best_regression_model.h5`** — файл с сохранённой моделью и пайплайном предобработки.\n",
        "- **`requirements.txt`** — список зависимостей для установки необходимых библиотек."
      ],
      "metadata": {
        "id": "l8bD2mzS1qEg"
      }
    },
    {
      "cell_type": "markdown",
      "source": [
        "### **Выводы:**\n"
      ],
      "metadata": {
        "id": "djS3Pspu16gq"
      }
    },
    {
      "cell_type": "markdown",
      "source": [
        "\n",
        "В результате мы разработали веб-приложение, которое позволяет пользователю вводить параметры жилья и получать прогнозируемую цену. Процесс разработки включал:\n",
        "\n",
        "- **Создание API с использованием FastAPI:** Мы создали серверное приложение, которое загружает обученную модель, принимает входные данные и возвращает предсказание.\n",
        "\n",
        "- **Развёртывание API на Render.com:** Это позволяет сделать наш API доступным из интернета, чтобы клиентское приложение могло отправлять к нему запросы.\n",
        "\n",
        "- **Разработка клиентского приложения с использованием Streamlit:** Мы создали удобный графический интерфейс, где пользователь может вводить данные и получать результаты.\n",
        "\n",
        "- **Развёртывание Streamlit приложения:** Это делает наше приложение доступным для конечных пользователей через веб-браузер."
      ],
      "metadata": {
        "id": "zVhrBVaf15F8"
      }
    },
    {
      "cell_type": "markdown",
      "metadata": {
        "id": "OzGooif4wYsL"
      },
      "source": [
        "# **II. Классификация изображений**"
      ]
    },
    {
      "cell_type": "markdown",
      "metadata": {
        "id": "OHR8fWoeAoJ0"
      },
      "source": [
        "## **1. Установка необходимых зависимостей**"
      ]
    },
    {
      "cell_type": "code",
      "execution_count": 5,
      "metadata": {
        "id": "90dmNyGxy9R4"
      },
      "outputs": [],
      "source": [
        "import numpy as np\n",
        "import pandas as pd\n",
        "import tensorflow as tf\n",
        "from tensorflow import keras\n",
        "from tensorflow.keras import layers\n",
        "from tensorflow.keras.models import Sequential, Model\n",
        "from tensorflow.keras.layers import Dense, Conv2D, MaxPooling2D, Flatten, Dropout, BatchNormalization\n",
        "from tensorflow.keras.utils import to_categorical\n",
        "from tensorflow.keras.callbacks import EarlyStopping\n",
        "\n",
        "from sklearn.model_selection import train_test_split\n",
        "from sklearn.metrics import accuracy_score, recall_score, precision_score, f1_score, confusion_matrix\n",
        "import matplotlib.pyplot as plt\n",
        "import seaborn as sns\n",
        "import os\n",
        "import pickle"
      ]
    },
    {
      "cell_type": "markdown",
      "metadata": {
        "id": "iscHAlHbAoJ0"
      },
      "source": [
        "## **2. Загрузка набора данных. Формирование обучающей и тестовой выборок**"
      ]
    },
    {
      "cell_type": "code",
      "execution_count": 6,
      "metadata": {
        "id": "6ype94Bcy9i5",
        "colab": {
          "base_uri": "https://localhost:8080/"
        },
        "outputId": "09ec7c5f-85e2-4d79-80a4-e9f6bda68b38"
      },
      "outputs": [
        {
          "output_type": "stream",
          "name": "stdout",
          "text": [
            "Downloading data from https://storage.googleapis.com/tensorflow/tf-keras-datasets/mnist.npz\n",
            "\u001b[1m11490434/11490434\u001b[0m \u001b[32m━━━━━━━━━━━━━━━━━━━━\u001b[0m\u001b[37m\u001b[0m \u001b[1m1s\u001b[0m 0us/step\n",
            "Размер обучающего набора: (48000, 28, 28, 1)\n",
            "Размер валидационного набора: (12000, 28, 28, 1)\n",
            "Размер тестового набора: (10000, 28, 28, 1)\n"
          ]
        }
      ],
      "source": [
        "# Загрузка датасета MNIST\n",
        "(train_images, train_labels), (test_images, test_labels) = keras.datasets.mnist.load_data()\n",
        "\n",
        "# Преобразование изображений в правильный формат для CNN\n",
        "train_images = train_images.reshape((train_images.shape[0], 28, 28, 1)).astype('float32') / 255\n",
        "test_images = test_images.reshape((test_images.shape[0], 28, 28, 1)).astype('float32') / 255\n",
        "\n",
        "# Преобразование меток в категориальный формат (one-hot encoding)\n",
        "train_labels_cat = to_categorical(train_labels)\n",
        "test_labels_cat = to_categorical(test_labels)\n",
        "\n",
        "# Разделение данных на обучающую и валидационную выборки\n",
        "X_train, X_val, y_train, y_val = train_test_split(\n",
        "    train_images, train_labels_cat, test_size=0.2, random_state=42\n",
        ")\n",
        "\n",
        "print(f\"Размер обучающего набора: {X_train.shape}\")\n",
        "print(f\"Размер валидационного набора: {X_val.shape}\")\n",
        "print(f\"Размер тестового набора: {test_images.shape}\")"
      ]
    },
    {
      "cell_type": "markdown",
      "metadata": {
        "id": "1yQ7dIz_AoJ1"
      },
      "source": [
        "## **3. Создание моделей глубокого обучения для классификации изображений**"
      ]
    },
    {
      "cell_type": "code",
      "execution_count": null,
      "metadata": {
        "id": "2Ni4xV8Dy90n"
      },
      "outputs": [],
      "source": [
        "def create_simple_cnn(input_shape=(28, 28, 1), num_classes=10, name=\"simple_cnn\"):\n",
        "    \"\"\"\n",
        "    Создание простой сверточной нейронной сети (CNN)\n",
        "    \"\"\"\n",
        "    model = keras.Sequential([\n",
        "        layers.Conv2D(32, (3, 3), activation='relu', input_shape=input_shape),\n",
        "        layers.MaxPooling2D((2, 2)),\n",
        "        layers.Conv2D(64, (3, 3), activation='relu'),\n",
        "        layers.MaxPooling2D((2, 2)),\n",
        "        layers.Flatten(),\n",
        "        layers.Dense(128, activation='relu'),\n",
        "        layers.Dense(num_classes, activation='softmax')\n",
        "    ], name=name)\n",
        "\n",
        "    model.compile(\n",
        "        optimizer='adam',\n",
        "        loss='categorical_crossentropy',\n",
        "        metrics=['accuracy']\n",
        "    )\n",
        "    return model\n",
        "\n",
        "def create_deep_cnn(input_shape=(28, 28, 1), num_classes=10, name=\"deep_cnn\"):\n",
        "    \"\"\"\n",
        "    Создание глубокой сверточной нейронной сети с dropout и batch normalization\n",
        "    \"\"\"\n",
        "    model = keras.Sequential([\n",
        "        layers.Conv2D(32, (3, 3), padding='same', input_shape=input_shape),\n",
        "        layers.BatchNormalization(),\n",
        "        layers.Activation('relu'),\n",
        "        layers.Conv2D(32, (3, 3), padding='same'),\n",
        "        layers.BatchNormalization(),\n",
        "        layers.Activation('relu'),\n",
        "        layers.MaxPooling2D((2, 2)),\n",
        "        layers.Dropout(0.25),\n",
        "\n",
        "        layers.Conv2D(64, (3, 3), padding='same'),\n",
        "        layers.BatchNormalization(),\n",
        "        layers.Activation('relu'),\n",
        "        layers.Conv2D(64, (3, 3), padding='same'),\n",
        "        layers.BatchNormalization(),\n",
        "        layers.Activation('relu'),\n",
        "        layers.MaxPooling2D((2, 2)),\n",
        "        layers.Dropout(0.25),\n",
        "\n",
        "        layers.Flatten(),\n",
        "        layers.Dense(512),\n",
        "        layers.BatchNormalization(),\n",
        "        layers.Activation('relu'),\n",
        "        layers.Dropout(0.5),\n",
        "        layers.Dense(num_classes, activation='softmax')\n",
        "    ], name=name)\n",
        "\n",
        "    model.compile(\n",
        "        optimizer='adam',\n",
        "        loss='categorical_crossentropy',\n",
        "        metrics=['accuracy']\n",
        "    )\n",
        "    return model\n",
        "\n",
        "def create_residual_cnn(input_shape=(28, 28, 1), num_classes=10, name=\"residual_cnn\"):\n",
        "    \"\"\"\n",
        "    Создание сверточной нейронной сети с остаточными связями\n",
        "    \"\"\"\n",
        "    inputs = keras.Input(shape=input_shape)\n",
        "\n",
        "    # Первый блок\n",
        "    x = layers.Conv2D(32, (3, 3), padding='same')(inputs)\n",
        "    x = layers.BatchNormalization()(x)\n",
        "    x = layers.Activation('relu')(x)\n",
        "    x = layers.Conv2D(32, (3, 3), padding='same')(x)\n",
        "    x = layers.BatchNormalization()(x)\n",
        "    x = layers.Activation('relu')(x)\n",
        "    x = layers.MaxPooling2D((2, 2))(x)\n",
        "\n",
        "    # Остаточный блок 1\n",
        "    block_1 = layers.Conv2D(64, (3, 3), padding='same', strides=(2, 2))(x)\n",
        "    block_1 = layers.BatchNormalization()(block_1)\n",
        "    block_1 = layers.Activation('relu')(block_1)\n",
        "    block_1 = layers.Conv2D(64, (3, 3), padding='same')(block_1)\n",
        "    block_1 = layers.BatchNormalization()(block_1)\n",
        "\n",
        "    # Shortcut соединение\n",
        "    shortcut = layers.Conv2D(64, (1, 1), strides=(2, 2))(x)\n",
        "    shortcut = layers.BatchNormalization()(shortcut)\n",
        "\n",
        "    x = layers.add([block_1, shortcut])\n",
        "    x = layers.Activation('relu')(x)\n",
        "\n",
        "    # Финальная часть\n",
        "    x = layers.GlobalAveragePooling2D()(x)\n",
        "    x = layers.Dense(256, activation='relu')(x)\n",
        "    x = layers.Dropout(0.5)(x)\n",
        "    outputs = layers.Dense(num_classes, activation='softmax')(x)\n",
        "\n",
        "    model = keras.Model(inputs=inputs, outputs=outputs, name=name)\n",
        "    model.compile(\n",
        "        optimizer='adam',\n",
        "        loss='categorical_crossentropy',\n",
        "        metrics=['accuracy']\n",
        "    )\n",
        "    return model"
      ]
    },
    {
      "cell_type": "code",
      "source": [
        "# Словарь с моделями\n",
        "models = {\n",
        "    \"simple_cnn\": create_simple_cnn(),\n",
        "    \"deep_cnn\": create_deep_cnn(),\n",
        "    \"residual_cnn\": create_residual_cnn()\n",
        "}"
      ],
      "metadata": {
        "id": "jEtsIeRyLPgH",
        "colab": {
          "base_uri": "https://localhost:8080/"
        },
        "outputId": "493aa526-6ce9-4ce6-d84a-227ab50075c7"
      },
      "execution_count": null,
      "outputs": [
        {
          "output_type": "stream",
          "name": "stderr",
          "text": [
            "/usr/local/lib/python3.11/dist-packages/keras/src/layers/convolutional/base_conv.py:107: UserWarning: Do not pass an `input_shape`/`input_dim` argument to a layer. When using Sequential models, prefer using an `Input(shape)` object as the first layer in the model instead.\n",
            "  super().__init__(activity_regularizer=activity_regularizer, **kwargs)\n"
          ]
        }
      ]
    },
    {
      "cell_type": "markdown",
      "metadata": {
        "id": "X1JieDJEAoJ1"
      },
      "source": [
        "## **4. Обучение моделей глубокого обучения с вычислением метрик**"
      ]
    },
    {
      "cell_type": "code",
      "execution_count": null,
      "metadata": {
        "id": "bmOV8Ys8y-Ef",
        "colab": {
          "base_uri": "https://localhost:8080/"
        },
        "outputId": "f2022338-5ef3-4bff-8cd5-d7f478df104a"
      },
      "outputs": [
        {
          "output_type": "stream",
          "name": "stdout",
          "text": [
            "Начало обучения модели: simple_cnn\n",
            "Epoch 1/20\n",
            "\u001b[1m375/375\u001b[0m \u001b[32m━━━━━━━━━━━━━━━━━━━━\u001b[0m\u001b[37m\u001b[0m \u001b[1m22s\u001b[0m 26ms/step - accuracy: 0.8514 - loss: 0.5357 - val_accuracy: 0.9755 - val_loss: 0.0818\n",
            "Epoch 2/20\n",
            "\u001b[1m375/375\u001b[0m \u001b[32m━━━━━━━━━━━━━━━━━━━━\u001b[0m\u001b[37m\u001b[0m \u001b[1m2s\u001b[0m 6ms/step - accuracy: 0.9782 - loss: 0.0725 - val_accuracy: 0.9847 - val_loss: 0.0505\n",
            "Epoch 3/20\n",
            "\u001b[1m375/375\u001b[0m \u001b[32m━━━━━━━━━━━━━━━━━━━━\u001b[0m\u001b[37m\u001b[0m \u001b[1m3s\u001b[0m 7ms/step - accuracy: 0.9872 - loss: 0.0438 - val_accuracy: 0.9843 - val_loss: 0.0500\n",
            "Epoch 4/20\n",
            "\u001b[1m375/375\u001b[0m \u001b[32m━━━━━━━━━━━━━━━━━━━━\u001b[0m\u001b[37m\u001b[0m \u001b[1m2s\u001b[0m 6ms/step - accuracy: 0.9899 - loss: 0.0319 - val_accuracy: 0.9884 - val_loss: 0.0377\n",
            "Epoch 5/20\n",
            "\u001b[1m375/375\u001b[0m \u001b[32m━━━━━━━━━━━━━━━━━━━━\u001b[0m\u001b[37m\u001b[0m \u001b[1m2s\u001b[0m 5ms/step - accuracy: 0.9929 - loss: 0.0233 - val_accuracy: 0.9883 - val_loss: 0.0368\n",
            "Epoch 6/20\n",
            "\u001b[1m375/375\u001b[0m \u001b[32m━━━━━━━━━━━━━━━━━━━━\u001b[0m\u001b[37m\u001b[0m \u001b[1m2s\u001b[0m 5ms/step - accuracy: 0.9931 - loss: 0.0207 - val_accuracy: 0.9891 - val_loss: 0.0387\n",
            "Epoch 7/20\n",
            "\u001b[1m375/375\u001b[0m \u001b[32m━━━━━━━━━━━━━━━━━━━━\u001b[0m\u001b[37m\u001b[0m \u001b[1m2s\u001b[0m 5ms/step - accuracy: 0.9957 - loss: 0.0157 - val_accuracy: 0.9896 - val_loss: 0.0381\n",
            "Epoch 8/20\n",
            "\u001b[1m375/375\u001b[0m \u001b[32m━━━━━━━━━━━━━━━━━━━━\u001b[0m\u001b[37m\u001b[0m \u001b[1m2s\u001b[0m 5ms/step - accuracy: 0.9956 - loss: 0.0127 - val_accuracy: 0.9896 - val_loss: 0.0350\n",
            "Epoch 9/20\n",
            "\u001b[1m375/375\u001b[0m \u001b[32m━━━━━━━━━━━━━━━━━━━━\u001b[0m\u001b[37m\u001b[0m \u001b[1m2s\u001b[0m 5ms/step - accuracy: 0.9973 - loss: 0.0095 - val_accuracy: 0.9869 - val_loss: 0.0468\n",
            "Epoch 10/20\n",
            "\u001b[1m375/375\u001b[0m \u001b[32m━━━━━━━━━━━━━━━━━━━━\u001b[0m\u001b[37m\u001b[0m \u001b[1m2s\u001b[0m 5ms/step - accuracy: 0.9970 - loss: 0.0093 - val_accuracy: 0.9894 - val_loss: 0.0421\n",
            "Epoch 11/20\n",
            "\u001b[1m375/375\u001b[0m \u001b[32m━━━━━━━━━━━━━━━━━━━━\u001b[0m\u001b[37m\u001b[0m \u001b[1m2s\u001b[0m 4ms/step - accuracy: 0.9980 - loss: 0.0072 - val_accuracy: 0.9889 - val_loss: 0.0488\n",
            "Epoch 12/20\n",
            "\u001b[1m375/375\u001b[0m \u001b[32m━━━━━━━━━━━━━━━━━━━━\u001b[0m\u001b[37m\u001b[0m \u001b[1m2s\u001b[0m 4ms/step - accuracy: 0.9983 - loss: 0.0056 - val_accuracy: 0.9908 - val_loss: 0.0390\n",
            "Epoch 13/20\n",
            "\u001b[1m375/375\u001b[0m \u001b[32m━━━━━━━━━━━━━━━━━━━━\u001b[0m\u001b[37m\u001b[0m \u001b[1m3s\u001b[0m 4ms/step - accuracy: 0.9983 - loss: 0.0052 - val_accuracy: 0.9861 - val_loss: 0.0599\n",
            "\u001b[1m313/313\u001b[0m \u001b[32m━━━━━━━━━━━━━━━━━━━━\u001b[0m\u001b[37m\u001b[0m \u001b[1m1s\u001b[0m 3ms/step\n",
            "Модель simple_cnn обучена. Время обучения: 47.88 секунд\n",
            "Точность на тестовых данных: 0.9892\n",
            "\n",
            "Начало обучения модели: deep_cnn\n",
            "Epoch 1/20\n",
            "\u001b[1m375/375\u001b[0m \u001b[32m━━━━━━━━━━━━━━━━━━━━\u001b[0m\u001b[37m\u001b[0m \u001b[1m15s\u001b[0m 18ms/step - accuracy: 0.8867 - loss: 0.3567 - val_accuracy: 0.6920 - val_loss: 0.8270\n",
            "Epoch 2/20\n",
            "\u001b[1m375/375\u001b[0m \u001b[32m━━━━━━━━━━━━━━━━━━━━\u001b[0m\u001b[37m\u001b[0m \u001b[1m13s\u001b[0m 10ms/step - accuracy: 0.9800 - loss: 0.0643 - val_accuracy: 0.9901 - val_loss: 0.0357\n",
            "Epoch 3/20\n",
            "\u001b[1m375/375\u001b[0m \u001b[32m━━━━━━━━━━━━━━━━━━━━\u001b[0m\u001b[37m\u001b[0m \u001b[1m5s\u001b[0m 11ms/step - accuracy: 0.9852 - loss: 0.0450 - val_accuracy: 0.9923 - val_loss: 0.0291\n",
            "Epoch 4/20\n",
            "\u001b[1m375/375\u001b[0m \u001b[32m━━━━━━━━━━━━━━━━━━━━\u001b[0m\u001b[37m\u001b[0m \u001b[1m4s\u001b[0m 12ms/step - accuracy: 0.9889 - loss: 0.0334 - val_accuracy: 0.9919 - val_loss: 0.0270\n",
            "Epoch 5/20\n",
            "\u001b[1m375/375\u001b[0m \u001b[32m━━━━━━━━━━━━━━━━━━━━\u001b[0m\u001b[37m\u001b[0m \u001b[1m4s\u001b[0m 10ms/step - accuracy: 0.9900 - loss: 0.0312 - val_accuracy: 0.9912 - val_loss: 0.0298\n",
            "Epoch 6/20\n",
            "\u001b[1m375/375\u001b[0m \u001b[32m━━━━━━━━━━━━━━━━━━━━\u001b[0m\u001b[37m\u001b[0m \u001b[1m4s\u001b[0m 11ms/step - accuracy: 0.9917 - loss: 0.0251 - val_accuracy: 0.9918 - val_loss: 0.0288\n",
            "Epoch 7/20\n",
            "\u001b[1m375/375\u001b[0m \u001b[32m━━━━━━━━━━━━━━━━━━━━\u001b[0m\u001b[37m\u001b[0m \u001b[1m4s\u001b[0m 11ms/step - accuracy: 0.9922 - loss: 0.0255 - val_accuracy: 0.9931 - val_loss: 0.0226\n",
            "Epoch 8/20\n",
            "\u001b[1m375/375\u001b[0m \u001b[32m━━━━━━━━━━━━━━━━━━━━\u001b[0m\u001b[37m\u001b[0m \u001b[1m5s\u001b[0m 11ms/step - accuracy: 0.9937 - loss: 0.0196 - val_accuracy: 0.9917 - val_loss: 0.0284\n",
            "Epoch 9/20\n",
            "\u001b[1m375/375\u001b[0m \u001b[32m━━━━━━━━━━━━━━━━━━━━\u001b[0m\u001b[37m\u001b[0m \u001b[1m5s\u001b[0m 11ms/step - accuracy: 0.9923 - loss: 0.0218 - val_accuracy: 0.9938 - val_loss: 0.0208\n",
            "Epoch 10/20\n",
            "\u001b[1m375/375\u001b[0m \u001b[32m━━━━━━━━━━━━━━━━━━━━\u001b[0m\u001b[37m\u001b[0m \u001b[1m5s\u001b[0m 10ms/step - accuracy: 0.9948 - loss: 0.0164 - val_accuracy: 0.9914 - val_loss: 0.0297\n",
            "Epoch 11/20\n",
            "\u001b[1m375/375\u001b[0m \u001b[32m━━━━━━━━━━━━━━━━━━━━\u001b[0m\u001b[37m\u001b[0m \u001b[1m4s\u001b[0m 11ms/step - accuracy: 0.9940 - loss: 0.0172 - val_accuracy: 0.9924 - val_loss: 0.0234\n",
            "Epoch 12/20\n",
            "\u001b[1m375/375\u001b[0m \u001b[32m━━━━━━━━━━━━━━━━━━━━\u001b[0m\u001b[37m\u001b[0m \u001b[1m5s\u001b[0m 10ms/step - accuracy: 0.9937 - loss: 0.0194 - val_accuracy: 0.9926 - val_loss: 0.0275\n",
            "Epoch 13/20\n",
            "\u001b[1m375/375\u001b[0m \u001b[32m━━━━━━━━━━━━━━━━━━━━\u001b[0m\u001b[37m\u001b[0m \u001b[1m5s\u001b[0m 11ms/step - accuracy: 0.9950 - loss: 0.0148 - val_accuracy: 0.9928 - val_loss: 0.0247\n",
            "Epoch 14/20\n",
            "\u001b[1m375/375\u001b[0m \u001b[32m━━━━━━━━━━━━━━━━━━━━\u001b[0m\u001b[37m\u001b[0m \u001b[1m5s\u001b[0m 11ms/step - accuracy: 0.9962 - loss: 0.0123 - val_accuracy: 0.9941 - val_loss: 0.0225\n",
            "\u001b[1m313/313\u001b[0m \u001b[32m━━━━━━━━━━━━━━━━━━━━\u001b[0m\u001b[37m\u001b[0m \u001b[1m1s\u001b[0m 3ms/step\n",
            "Модель deep_cnn обучена. Время обучения: 84.55 секунд\n",
            "Точность на тестовых данных: 0.9942\n",
            "\n",
            "Начало обучения модели: residual_cnn\n",
            "Epoch 1/20\n",
            "\u001b[1m375/375\u001b[0m \u001b[32m━━━━━━━━━━━━━━━━━━━━\u001b[0m\u001b[37m\u001b[0m \u001b[1m12s\u001b[0m 12ms/step - accuracy: 0.6629 - loss: 1.0343 - val_accuracy: 0.1997 - val_loss: 4.8001\n",
            "Epoch 2/20\n",
            "\u001b[1m375/375\u001b[0m \u001b[32m━━━━━━━━━━━━━━━━━━━━\u001b[0m\u001b[37m\u001b[0m \u001b[1m3s\u001b[0m 9ms/step - accuracy: 0.9690 - loss: 0.1117 - val_accuracy: 0.9526 - val_loss: 0.1596\n",
            "Epoch 3/20\n",
            "\u001b[1m375/375\u001b[0m \u001b[32m━━━━━━━━━━━━━━━━━━━━\u001b[0m\u001b[37m\u001b[0m \u001b[1m5s\u001b[0m 8ms/step - accuracy: 0.9784 - loss: 0.0757 - val_accuracy: 0.9614 - val_loss: 0.1279\n",
            "Epoch 4/20\n",
            "\u001b[1m375/375\u001b[0m \u001b[32m━━━━━━━━━━━━━━━━━━━━\u001b[0m\u001b[37m\u001b[0m \u001b[1m5s\u001b[0m 8ms/step - accuracy: 0.9847 - loss: 0.0539 - val_accuracy: 0.9807 - val_loss: 0.0691\n",
            "Epoch 5/20\n",
            "\u001b[1m375/375\u001b[0m \u001b[32m━━━━━━━━━━━━━━━━━━━━\u001b[0m\u001b[37m\u001b[0m \u001b[1m3s\u001b[0m 9ms/step - accuracy: 0.9869 - loss: 0.0441 - val_accuracy: 0.9563 - val_loss: 0.1430\n",
            "Epoch 6/20\n",
            "\u001b[1m375/375\u001b[0m \u001b[32m━━━━━━━━━━━━━━━━━━━━\u001b[0m\u001b[37m\u001b[0m \u001b[1m5s\u001b[0m 8ms/step - accuracy: 0.9884 - loss: 0.0372 - val_accuracy: 0.8948 - val_loss: 0.3496\n",
            "Epoch 7/20\n",
            "\u001b[1m375/375\u001b[0m \u001b[32m━━━━━━━━━━━━━━━━━━━━\u001b[0m\u001b[37m\u001b[0m \u001b[1m3s\u001b[0m 8ms/step - accuracy: 0.9901 - loss: 0.0320 - val_accuracy: 0.9649 - val_loss: 0.1195\n",
            "Epoch 8/20\n",
            "\u001b[1m375/375\u001b[0m \u001b[32m━━━━━━━━━━━━━━━━━━━━\u001b[0m\u001b[37m\u001b[0m \u001b[1m5s\u001b[0m 9ms/step - accuracy: 0.9908 - loss: 0.0319 - val_accuracy: 0.9768 - val_loss: 0.0756\n",
            "Epoch 9/20\n",
            "\u001b[1m375/375\u001b[0m \u001b[32m━━━━━━━━━━━━━━━━━━━━\u001b[0m\u001b[37m\u001b[0m \u001b[1m3s\u001b[0m 8ms/step - accuracy: 0.9918 - loss: 0.0264 - val_accuracy: 0.9630 - val_loss: 0.1207\n",
            "\u001b[1m313/313\u001b[0m \u001b[32m━━━━━━━━━━━━━━━━━━━━\u001b[0m\u001b[37m\u001b[0m \u001b[1m2s\u001b[0m 5ms/step\n",
            "Модель residual_cnn обучена. Время обучения: 47.19 секунд\n",
            "Точность на тестовых данных: 0.9790\n",
            "\n"
          ]
        }
      ],
      "source": [
        "import time\n",
        "\n",
        "# Колбэк для ранней остановки\n",
        "early_stopping = EarlyStopping(\n",
        "    monitor='val_loss',\n",
        "    patience=5,\n",
        "    restore_best_weights=True\n",
        ")\n",
        "\n",
        "# Обучение и оценка моделей\n",
        "results = {}\n",
        "histories = {}\n",
        "\n",
        "for name, model in models.items():\n",
        "    print(f\"Начало обучения модели: {name}\")\n",
        "    start_time = time.time()\n",
        "\n",
        "    # Обучение модели\n",
        "    history = model.fit(\n",
        "        X_train, y_train,\n",
        "        epochs=20,\n",
        "        batch_size=128,\n",
        "        validation_data=(X_val, y_val),\n",
        "        callbacks=[early_stopping],\n",
        "        verbose=1\n",
        "    )\n",
        "\n",
        "    histories[name] = history\n",
        "\n",
        "    end_time = time.time()\n",
        "    training_time = end_time - start_time\n",
        "\n",
        "    # Оценка модели на тестовом наборе\n",
        "    test_loss, test_acc = model.evaluate(test_images, test_labels_cat, verbose=0)\n",
        "\n",
        "    # Получение предсказаний\n",
        "    y_pred_proba = model.predict(test_images)\n",
        "    y_pred = np.argmax(y_pred_proba, axis=1)\n",
        "    y_test = np.argmax(test_labels_cat, axis=1)\n",
        "\n",
        "    # Вычисление метрик\n",
        "    accuracy = accuracy_score(y_test, y_pred)\n",
        "    recall = recall_score(y_test, y_pred, average='weighted')\n",
        "    precision = precision_score(y_test, y_pred, average='weighted')\n",
        "    f1 = f1_score(y_test, y_pred, average='weighted')\n",
        "    cm = confusion_matrix(y_test, y_pred)\n",
        "\n",
        "    results[name] = {\n",
        "        'accuracy': accuracy,\n",
        "        'recall': recall,\n",
        "        'precision': precision,\n",
        "        'f1': f1,\n",
        "        'confusion_matrix': cm,\n",
        "        'test_loss': test_loss,\n",
        "        'test_acc': test_acc,\n",
        "        'training_time': training_time\n",
        "    }\n",
        "\n",
        "    print(f\"Модель {name} обучена. Время обучения: {training_time:.2f} секунд\")\n",
        "    print(f\"Точность на тестовых данных: {test_acc:.4f}\")\n",
        "    print()"
      ]
    },
    {
      "cell_type": "markdown",
      "metadata": {
        "id": "eM485PsUAoJ1"
      },
      "source": [
        "## **5. Визуализация процесса обучения моделей**"
      ]
    },
    {
      "cell_type": "code",
      "execution_count": null,
      "metadata": {
        "colab": {
          "base_uri": "https://localhost:8080/",
          "height": 1000
        },
        "id": "v2y2IRhUzP_h",
        "outputId": "81ab5c50-094b-4360-de1c-4b170a414c97"
      },
      "outputs": [
        {
          "output_type": "display_data",
          "data": {
            "text/plain": [
              "<Figure size 1500x1000 with 6 Axes>"
            ],
            "image/png": "[encoded data removed]"
          },
          "metadata": {}
        }
      ],
      "source": [
        "# Визуализация процесса обучения для каждой модели\n",
        "plt.figure(figsize=(15, 10))\n",
        "\n",
        "for i, (name, history) in enumerate(histories.items()):\n",
        "    plt.subplot(2, 3, i*2+1)\n",
        "    plt.plot(history.history['accuracy'])\n",
        "    plt.plot(history.history['val_accuracy'])\n",
        "    plt.title(f'Точность модели {name}')\n",
        "    plt.ylabel('Точность')\n",
        "    plt.xlabel('Эпоха')\n",
        "    plt.legend(['Обучение', 'Валидация'], loc='lower right')\n",
        "\n",
        "    plt.subplot(2, 3, i*2+2)\n",
        "    plt.plot(history.history['loss'])\n",
        "    plt.plot(history.history['val_loss'])\n",
        "    plt.title(f'Функция потерь модели {name}')\n",
        "    plt.ylabel('Потери')\n",
        "    plt.xlabel('Эпоха')\n",
        "    plt.legend(['Обучение', 'Валидация'], loc='upper right')\n",
        "\n",
        "plt.tight_layout()\n",
        "plt.show()"
      ]
    },
    {
      "cell_type": "markdown",
      "metadata": {
        "id": "RNQdfzcKAoJ1"
      },
      "source": [
        "## **6. Оценка точности и выбор лучшей модели**"
      ]
    },
    {
      "cell_type": "code",
      "execution_count": null,
      "metadata": {
        "colab": {
          "base_uri": "https://localhost:8080/",
          "height": 1000
        },
        "id": "ThagAaAX4xcA",
        "outputId": "7470d766-6e61-4549-c498-ccb2b9de744e"
      },
      "outputs": [
        {
          "output_type": "stream",
          "name": "stdout",
          "text": [
            "Результаты по всем моделям:\n"
          ]
        },
        {
          "output_type": "display_data",
          "data": {
            "text/plain": [
              "<pandas.io.formats.style.Styler at 0x783f203d5310>"
            ],
            "text/html": [
              "<style type=\"text/css\">\n",
              "</style>\n",
              "<table id=\"T_78de8\" class=\"dataframe\">\n",
              "  <thead>\n",
              "    <tr>\n",
              "      <th class=\"blank level0\" >&nbsp;</th>\n",
              "      <th id=\"T_78de8_level0_col0\" class=\"col_heading level0 col0\" >Точность</th>\n",
              "      <th id=\"T_78de8_level0_col1\" class=\"col_heading level0 col1\" >Полнота</th>\n",
              "      <th id=\"T_78de8_level0_col2\" class=\"col_heading level0 col2\" >Точность (Precision)</th>\n",
              "      <th id=\"T_78de8_level0_col3\" class=\"col_heading level0 col3\" >F1-мера</th>\n",
              "      <th id=\"T_78de8_level0_col4\" class=\"col_heading level0 col4\" >Время обучения (сек)</th>\n",
              "    </tr>\n",
              "  </thead>\n",
              "  <tbody>\n",
              "    <tr>\n",
              "      <th id=\"T_78de8_level0_row0\" class=\"row_heading level0 row0\" >deep_cnn</th>\n",
              "      <td id=\"T_78de8_row0_col0\" class=\"data row0 col0\" >0.9942</td>\n",
              "      <td id=\"T_78de8_row0_col1\" class=\"data row0 col1\" >0.9942</td>\n",
              "      <td id=\"T_78de8_row0_col2\" class=\"data row0 col2\" >0.9942</td>\n",
              "      <td id=\"T_78de8_row0_col3\" class=\"data row0 col3\" >0.9942</td>\n",
              "      <td id=\"T_78de8_row0_col4\" class=\"data row0 col4\" >84.5500</td>\n",
              "    </tr>\n",
              "    <tr>\n",
              "      <th id=\"T_78de8_level0_row1\" class=\"row_heading level0 row1\" >simple_cnn</th>\n",
              "      <td id=\"T_78de8_row1_col0\" class=\"data row1 col0\" >0.9892</td>\n",
              "      <td id=\"T_78de8_row1_col1\" class=\"data row1 col1\" >0.9892</td>\n",
              "      <td id=\"T_78de8_row1_col2\" class=\"data row1 col2\" >0.9892</td>\n",
              "      <td id=\"T_78de8_row1_col3\" class=\"data row1 col3\" >0.9892</td>\n",
              "      <td id=\"T_78de8_row1_col4\" class=\"data row1 col4\" >47.8754</td>\n",
              "    </tr>\n",
              "    <tr>\n",
              "      <th id=\"T_78de8_level0_row2\" class=\"row_heading level0 row2\" >residual_cnn</th>\n",
              "      <td id=\"T_78de8_row2_col0\" class=\"data row2 col0\" >0.9790</td>\n",
              "      <td id=\"T_78de8_row2_col1\" class=\"data row2 col1\" >0.9790</td>\n",
              "      <td id=\"T_78de8_row2_col2\" class=\"data row2 col2\" >0.9795</td>\n",
              "      <td id=\"T_78de8_row2_col3\" class=\"data row2 col3\" >0.9790</td>\n",
              "      <td id=\"T_78de8_row2_col4\" class=\"data row2 col4\" >47.1935</td>\n",
              "    </tr>\n",
              "  </tbody>\n",
              "</table>\n"
            ]
          },
          "metadata": {}
        },
        {
          "output_type": "display_data",
          "data": {
            "text/plain": [
              "<Figure size 1200x800 with 4 Axes>"
            ],
            "image/png": "[encoded data removed]"
          },
          "metadata": {}
        },
        {
          "output_type": "display_data",
          "data": {
            "text/plain": [
              "<Figure size 1500x500 with 6 Axes>"
            ],
            "image/png": "[encoded data removed]"
          },
          "metadata": {}
        },
        {
          "output_type": "stream",
          "name": "stdout",
          "text": [
            "\n",
            "Лучшая модель по F1-мере: deep_cnn\n"
          ]
        }
      ],
      "source": [
        "import pandas as pd\n",
        "\n",
        "# Создание датафрейма с результатами\n",
        "results_df = pd.DataFrame({\n",
        "    model_name: {\n",
        "        'Точность': metrics['accuracy'],\n",
        "        'Полнота': metrics['recall'],\n",
        "        'Точность (Precision)': metrics['precision'],\n",
        "        'F1-мера': metrics['f1'],\n",
        "        'Время обучения (сек)': metrics['training_time']\n",
        "    }\n",
        "    for model_name, metrics in results.items()\n",
        "})\n",
        "\n",
        "# Транспонирование для удобного отображения\n",
        "results_df = results_df.T\n",
        "\n",
        "# Сортировка по F1-мере\n",
        "results_df_sorted = results_df.sort_values('F1-мера', ascending=False)\n",
        "\n",
        "# Вывод результатов\n",
        "print(\"Результаты по всем моделям:\")\n",
        "display(results_df_sorted.style.format(\"{:.4f}\"))\n",
        "\n",
        "# Визуализация метрик\n",
        "plt.figure(figsize=(12, 8))\n",
        "metrics_to_plot = ['Точность', 'Полнота', 'Точность (Precision)', 'F1-мера']\n",
        "\n",
        "for i, metric in enumerate(metrics_to_plot):\n",
        "    plt.subplot(2, 2, i+1)\n",
        "    plt.bar(results_df.index, results_df[metric])\n",
        "    plt.title(metric)\n",
        "    plt.xticks(rotation=45)\n",
        "    plt.ylim([0.9, 1.0])  # Настройка для лучшей визуализации различий\n",
        "\n",
        "    # Добавление значений к барам\n",
        "    for j, v in enumerate(results_df[metric]):\n",
        "        plt.text(j, v + 0.005, f\"{v:.4f}\", ha='center')\n",
        "\n",
        "plt.tight_layout()\n",
        "plt.show()\n",
        "\n",
        "# Визуализация матриц ошибок\n",
        "plt.figure(figsize=(15, 5))\n",
        "for i, (name, metrics) in enumerate(results.items()):\n",
        "    plt.subplot(1, 3, i+1)\n",
        "    cm = metrics['confusion_matrix']\n",
        "    sns.heatmap(cm, annot=True, fmt='d', cmap='Blues')\n",
        "    plt.title(f'Матрица ошибок для {name}')\n",
        "    plt.ylabel('Истинные метки')\n",
        "    plt.xlabel('Предсказанные метки')\n",
        "\n",
        "plt.tight_layout()\n",
        "plt.show()\n",
        "\n",
        "# Выбор лучшей модели по F1-мере\n",
        "best_model_name = results_df_sorted.index[0]\n",
        "best_model = models[best_model_name]\n",
        "\n",
        "print(f\"\\nЛучшая модель по F1-мере: {best_model_name}\")"
      ]
    },
    {
      "cell_type": "markdown",
      "metadata": {
        "id": "IqK0M1KFAoJ1"
      },
      "source": [
        "## **7. Сохранение лучшей модели в формате Keras**"
      ]
    },
    {
      "cell_type": "code",
      "execution_count": null,
      "metadata": {
        "colab": {
          "base_uri": "https://localhost:8080/",
          "height": 995
        },
        "id": "RY0vzITfzQld",
        "outputId": "e34e5523-2525-4870-9ab4-35eecc00072b"
      },
      "outputs": [
        {
          "output_type": "stream",
          "name": "stderr",
          "text": [
            "WARNING:absl:You are saving your model as an HDF5 file via `model.save()` or `keras.saving.save_model(model)`. This file format is considered legacy. We recommend using instead the native Keras format, e.g. `model.save('my_model.keras')` or `keras.saving.save_model(model, 'my_model.keras')`. \n"
          ]
        },
        {
          "output_type": "display_data",
          "data": {
            "text/plain": [
              "\u001b[1mModel: \"deep_cnn\"\u001b[0m\n"
            ],
            "text/html": [
              "<pre style=\"white-space:pre;overflow-x:auto;line-height:normal;font-family:Menlo,'DejaVu Sans Mono',consolas,'Courier New',monospace\"><span style=\"font-weight: bold\">Model: \"deep_cnn\"</span>\n",
              "</pre>\n"
            ]
          },
          "metadata": {}
        },
        {
          "output_type": "display_data",
          "data": {
            "text/plain": [
              "┏━━━━━━━━━━━━━━━━━━━━━━━━━━━━━━━━━━━━━━┳━━━━━━━━━━━━━━━━━━━━━━━━━━━━━┳━━━━━━━━━━━━━━━━━┓\n",
              "┃\u001b[1m \u001b[0m\u001b[1mLayer (type)                        \u001b[0m\u001b[1m \u001b[0m┃\u001b[1m \u001b[0m\u001b[1mOutput Shape               \u001b[0m\u001b[1m \u001b[0m┃\u001b[1m \u001b[0m\u001b[1m        Param #\u001b[0m\u001b[1m \u001b[0m┃\n",
              "┡━━━━━━━━━━━━━━━━━━━━━━━━━━━━━━━━━━━━━━╇━━━━━━━━━━━━━━━━━━━━━━━━━━━━━╇━━━━━━━━━━━━━━━━━┩\n",
              "│ conv2d_2 (\u001b[38;5;33mConv2D\u001b[0m)                    │ (\u001b[38;5;45mNone\u001b[0m, \u001b[38;5;34m28\u001b[0m, \u001b[38;5;34m28\u001b[0m, \u001b[38;5;34m32\u001b[0m)          │             \u001b[38;5;34m320\u001b[0m │\n",
              "├──────────────────────────────────────┼─────────────────────────────┼─────────────────┤\n",
              "│ batch_normalization                  │ (\u001b[38;5;45mNone\u001b[0m, \u001b[38;5;34m28\u001b[0m, \u001b[38;5;34m28\u001b[0m, \u001b[38;5;34m32\u001b[0m)          │             \u001b[38;5;34m128\u001b[0m │\n",
              "│ (\u001b[38;5;33mBatchNormalization\u001b[0m)                 │                             │                 │\n",
              "├──────────────────────────────────────┼─────────────────────────────┼─────────────────┤\n",
              "│ activation (\u001b[38;5;33mActivation\u001b[0m)              │ (\u001b[38;5;45mNone\u001b[0m, \u001b[38;5;34m28\u001b[0m, \u001b[38;5;34m28\u001b[0m, \u001b[38;5;34m32\u001b[0m)          │               \u001b[38;5;34m0\u001b[0m │\n",
              "├──────────────────────────────────────┼─────────────────────────────┼─────────────────┤\n",
              "│ conv2d_3 (\u001b[38;5;33mConv2D\u001b[0m)                    │ (\u001b[38;5;45mNone\u001b[0m, \u001b[38;5;34m28\u001b[0m, \u001b[38;5;34m28\u001b[0m, \u001b[38;5;34m32\u001b[0m)          │           \u001b[38;5;34m9,248\u001b[0m │\n",
              "├──────────────────────────────────────┼─────────────────────────────┼─────────────────┤\n",
              "│ batch_normalization_1                │ (\u001b[38;5;45mNone\u001b[0m, \u001b[38;5;34m28\u001b[0m, \u001b[38;5;34m28\u001b[0m, \u001b[38;5;34m32\u001b[0m)          │             \u001b[38;5;34m128\u001b[0m │\n",
              "│ (\u001b[38;5;33mBatchNormalization\u001b[0m)                 │                             │                 │\n",
              "├──────────────────────────────────────┼─────────────────────────────┼─────────────────┤\n",
              "│ activation_1 (\u001b[38;5;33mActivation\u001b[0m)            │ (\u001b[38;5;45mNone\u001b[0m, \u001b[38;5;34m28\u001b[0m, \u001b[38;5;34m28\u001b[0m, \u001b[38;5;34m32\u001b[0m)          │               \u001b[38;5;34m0\u001b[0m │\n",
              "├──────────────────────────────────────┼─────────────────────────────┼─────────────────┤\n",
              "│ max_pooling2d_2 (\u001b[38;5;33mMaxPooling2D\u001b[0m)       │ (\u001b[38;5;45mNone\u001b[0m, \u001b[38;5;34m14\u001b[0m, \u001b[38;5;34m14\u001b[0m, \u001b[38;5;34m32\u001b[0m)          │               \u001b[38;5;34m0\u001b[0m │\n",
              "├──────────────────────────────────────┼─────────────────────────────┼─────────────────┤\n",
              "│ dropout (\u001b[38;5;33mDropout\u001b[0m)                    │ (\u001b[38;5;45mNone\u001b[0m, \u001b[38;5;34m14\u001b[0m, \u001b[38;5;34m14\u001b[0m, \u001b[38;5;34m32\u001b[0m)          │               \u001b[38;5;34m0\u001b[0m │\n",
              "├──────────────────────────────────────┼─────────────────────────────┼─────────────────┤\n",
              "│ conv2d_4 (\u001b[38;5;33mConv2D\u001b[0m)                    │ (\u001b[38;5;45mNone\u001b[0m, \u001b[38;5;34m14\u001b[0m, \u001b[38;5;34m14\u001b[0m, \u001b[38;5;34m64\u001b[0m)          │          \u001b[38;5;34m18,496\u001b[0m │\n",
              "├──────────────────────────────────────┼─────────────────────────────┼─────────────────┤\n",
              "│ batch_normalization_2                │ (\u001b[38;5;45mNone\u001b[0m, \u001b[38;5;34m14\u001b[0m, \u001b[38;5;34m14\u001b[0m, \u001b[38;5;34m64\u001b[0m)          │             \u001b[38;5;34m256\u001b[0m │\n",
              "│ (\u001b[38;5;33mBatchNormalization\u001b[0m)                 │                             │                 │\n",
              "├──────────────────────────────────────┼─────────────────────────────┼─────────────────┤\n",
              "│ activation_2 (\u001b[38;5;33mActivation\u001b[0m)            │ (\u001b[38;5;45mNone\u001b[0m, \u001b[38;5;34m14\u001b[0m, \u001b[38;5;34m14\u001b[0m, \u001b[38;5;34m64\u001b[0m)          │               \u001b[38;5;34m0\u001b[0m │\n",
              "├──────────────────────────────────────┼─────────────────────────────┼─────────────────┤\n",
              "│ conv2d_5 (\u001b[38;5;33mConv2D\u001b[0m)                    │ (\u001b[38;5;45mNone\u001b[0m, \u001b[38;5;34m14\u001b[0m, \u001b[38;5;34m14\u001b[0m, \u001b[38;5;34m64\u001b[0m)          │          \u001b[38;5;34m36,928\u001b[0m │\n",
              "├──────────────────────────────────────┼─────────────────────────────┼─────────────────┤\n",
              "│ batch_normalization_3                │ (\u001b[38;5;45mNone\u001b[0m, \u001b[38;5;34m14\u001b[0m, \u001b[38;5;34m14\u001b[0m, \u001b[38;5;34m64\u001b[0m)          │             \u001b[38;5;34m256\u001b[0m │\n",
              "│ (\u001b[38;5;33mBatchNormalization\u001b[0m)                 │                             │                 │\n",
              "├──────────────────────────────────────┼─────────────────────────────┼─────────────────┤\n",
              "│ activation_3 (\u001b[38;5;33mActivation\u001b[0m)            │ (\u001b[38;5;45mNone\u001b[0m, \u001b[38;5;34m14\u001b[0m, \u001b[38;5;34m14\u001b[0m, \u001b[38;5;34m64\u001b[0m)          │               \u001b[38;5;34m0\u001b[0m │\n",
              "├──────────────────────────────────────┼─────────────────────────────┼─────────────────┤\n",
              "│ max_pooling2d_3 (\u001b[38;5;33mMaxPooling2D\u001b[0m)       │ (\u001b[38;5;45mNone\u001b[0m, \u001b[38;5;34m7\u001b[0m, \u001b[38;5;34m7\u001b[0m, \u001b[38;5;34m64\u001b[0m)            │               \u001b[38;5;34m0\u001b[0m │\n",
              "├──────────────────────────────────────┼─────────────────────────────┼─────────────────┤\n",
              "│ dropout_1 (\u001b[38;5;33mDropout\u001b[0m)                  │ (\u001b[38;5;45mNone\u001b[0m, \u001b[38;5;34m7\u001b[0m, \u001b[38;5;34m7\u001b[0m, \u001b[38;5;34m64\u001b[0m)            │               \u001b[38;5;34m0\u001b[0m │\n",
              "├──────────────────────────────────────┼─────────────────────────────┼─────────────────┤\n",
              "│ flatten_1 (\u001b[38;5;33mFlatten\u001b[0m)                  │ (\u001b[38;5;45mNone\u001b[0m, \u001b[38;5;34m3136\u001b[0m)                │               \u001b[38;5;34m0\u001b[0m │\n",
              "├──────────────────────────────────────┼─────────────────────────────┼─────────────────┤\n",
              "│ dense_2 (\u001b[38;5;33mDense\u001b[0m)                      │ (\u001b[38;5;45mNone\u001b[0m, \u001b[38;5;34m512\u001b[0m)                 │       \u001b[38;5;34m1,606,144\u001b[0m │\n",
              "├──────────────────────────────────────┼─────────────────────────────┼─────────────────┤\n",
              "│ batch_normalization_4                │ (\u001b[38;5;45mNone\u001b[0m, \u001b[38;5;34m512\u001b[0m)                 │           \u001b[38;5;34m2,048\u001b[0m │\n",
              "│ (\u001b[38;5;33mBatchNormalization\u001b[0m)                 │                             │                 │\n",
              "├──────────────────────────────────────┼─────────────────────────────┼─────────────────┤\n",
              "│ activation_4 (\u001b[38;5;33mActivation\u001b[0m)            │ (\u001b[38;5;45mNone\u001b[0m, \u001b[38;5;34m512\u001b[0m)                 │               \u001b[38;5;34m0\u001b[0m │\n",
              "├──────────────────────────────────────┼─────────────────────────────┼─────────────────┤\n",
              "│ dropout_2 (\u001b[38;5;33mDropout\u001b[0m)                  │ (\u001b[38;5;45mNone\u001b[0m, \u001b[38;5;34m512\u001b[0m)                 │               \u001b[38;5;34m0\u001b[0m │\n",
              "├──────────────────────────────────────┼─────────────────────────────┼─────────────────┤\n",
              "│ dense_3 (\u001b[38;5;33mDense\u001b[0m)                      │ (\u001b[38;5;45mNone\u001b[0m, \u001b[38;5;34m10\u001b[0m)                  │           \u001b[38;5;34m5,130\u001b[0m │\n",
              "└──────────────────────────────────────┴─────────────────────────────┴─────────────────┘\n"
            ],
            "text/html": [
              "<pre style=\"white-space:pre;overflow-x:auto;line-height:normal;font-family:Menlo,'DejaVu Sans Mono',consolas,'Courier New',monospace\">┏━━━━━━━━━━━━━━━━━━━━━━━━━━━━━━━━━━━━━━┳━━━━━━━━━━━━━━━━━━━━━━━━━━━━━┳━━━━━━━━━━━━━━━━━┓\n",
              "┃<span style=\"font-weight: bold\"> Layer (type)                         </span>┃<span style=\"font-weight: bold\"> Output Shape                </span>┃<span style=\"font-weight: bold\">         Param # </span>┃\n",
              "┡━━━━━━━━━━━━━━━━━━━━━━━━━━━━━━━━━━━━━━╇━━━━━━━━━━━━━━━━━━━━━━━━━━━━━╇━━━━━━━━━━━━━━━━━┩\n",
              "│ conv2d_2 (<span style=\"color: #0087ff; text-decoration-color: #0087ff\">Conv2D</span>)                    │ (<span style=\"color: #00d7ff; text-decoration-color: #00d7ff\">None</span>, <span style=\"color: #00af00; text-decoration-color: #00af00\">28</span>, <span style=\"color: #00af00; text-decoration-color: #00af00\">28</span>, <span style=\"color: #00af00; text-decoration-color: #00af00\">32</span>)          │             <span style=\"color: #00af00; text-decoration-color: #00af00\">320</span> │\n",
              "├──────────────────────────────────────┼─────────────────────────────┼─────────────────┤\n",
              "│ batch_normalization                  │ (<span style=\"color: #00d7ff; text-decoration-color: #00d7ff\">None</span>, <span style=\"color: #00af00; text-decoration-color: #00af00\">28</span>, <span style=\"color: #00af00; text-decoration-color: #00af00\">28</span>, <span style=\"color: #00af00; text-decoration-color: #00af00\">32</span>)          │             <span style=\"color: #00af00; text-decoration-color: #00af00\">128</span> │\n",
              "│ (<span style=\"color: #0087ff; text-decoration-color: #0087ff\">BatchNormalization</span>)                 │                             │                 │\n",
              "├──────────────────────────────────────┼─────────────────────────────┼─────────────────┤\n",
              "│ activation (<span style=\"color: #0087ff; text-decoration-color: #0087ff\">Activation</span>)              │ (<span style=\"color: #00d7ff; text-decoration-color: #00d7ff\">None</span>, <span style=\"color: #00af00; text-decoration-color: #00af00\">28</span>, <span style=\"color: #00af00; text-decoration-color: #00af00\">28</span>, <span style=\"color: #00af00; text-decoration-color: #00af00\">32</span>)          │               <span style=\"color: #00af00; text-decoration-color: #00af00\">0</span> │\n",
              "├──────────────────────────────────────┼─────────────────────────────┼─────────────────┤\n",
              "│ conv2d_3 (<span style=\"color: #0087ff; text-decoration-color: #0087ff\">Conv2D</span>)                    │ (<span style=\"color: #00d7ff; text-decoration-color: #00d7ff\">None</span>, <span style=\"color: #00af00; text-decoration-color: #00af00\">28</span>, <span style=\"color: #00af00; text-decoration-color: #00af00\">28</span>, <span style=\"color: #00af00; text-decoration-color: #00af00\">32</span>)          │           <span style=\"color: #00af00; text-decoration-color: #00af00\">9,248</span> │\n",
              "├──────────────────────────────────────┼─────────────────────────────┼─────────────────┤\n",
              "│ batch_normalization_1                │ (<span style=\"color: #00d7ff; text-decoration-color: #00d7ff\">None</span>, <span style=\"color: #00af00; text-decoration-color: #00af00\">28</span>, <span style=\"color: #00af00; text-decoration-color: #00af00\">28</span>, <span style=\"color: #00af00; text-decoration-color: #00af00\">32</span>)          │             <span style=\"color: #00af00; text-decoration-color: #00af00\">128</span> │\n",
              "│ (<span style=\"color: #0087ff; text-decoration-color: #0087ff\">BatchNormalization</span>)                 │                             │                 │\n",
              "├──────────────────────────────────────┼─────────────────────────────┼─────────────────┤\n",
              "│ activation_1 (<span style=\"color: #0087ff; text-decoration-color: #0087ff\">Activation</span>)            │ (<span style=\"color: #00d7ff; text-decoration-color: #00d7ff\">None</span>, <span style=\"color: #00af00; text-decoration-color: #00af00\">28</span>, <span style=\"color: #00af00; text-decoration-color: #00af00\">28</span>, <span style=\"color: #00af00; text-decoration-color: #00af00\">32</span>)          │               <span style=\"color: #00af00; text-decoration-color: #00af00\">0</span> │\n",
              "├──────────────────────────────────────┼─────────────────────────────┼─────────────────┤\n",
              "│ max_pooling2d_2 (<span style=\"color: #0087ff; text-decoration-color: #0087ff\">MaxPooling2D</span>)       │ (<span style=\"color: #00d7ff; text-decoration-color: #00d7ff\">None</span>, <span style=\"color: #00af00; text-decoration-color: #00af00\">14</span>, <span style=\"color: #00af00; text-decoration-color: #00af00\">14</span>, <span style=\"color: #00af00; text-decoration-color: #00af00\">32</span>)          │               <span style=\"color: #00af00; text-decoration-color: #00af00\">0</span> │\n",
              "├──────────────────────────────────────┼─────────────────────────────┼─────────────────┤\n",
              "│ dropout (<span style=\"color: #0087ff; text-decoration-color: #0087ff\">Dropout</span>)                    │ (<span style=\"color: #00d7ff; text-decoration-color: #00d7ff\">None</span>, <span style=\"color: #00af00; text-decoration-color: #00af00\">14</span>, <span style=\"color: #00af00; text-decoration-color: #00af00\">14</span>, <span style=\"color: #00af00; text-decoration-color: #00af00\">32</span>)          │               <span style=\"color: #00af00; text-decoration-color: #00af00\">0</span> │\n",
              "├──────────────────────────────────────┼─────────────────────────────┼─────────────────┤\n",
              "│ conv2d_4 (<span style=\"color: #0087ff; text-decoration-color: #0087ff\">Conv2D</span>)                    │ (<span style=\"color: #00d7ff; text-decoration-color: #00d7ff\">None</span>, <span style=\"color: #00af00; text-decoration-color: #00af00\">14</span>, <span style=\"color: #00af00; text-decoration-color: #00af00\">14</span>, <span style=\"color: #00af00; text-decoration-color: #00af00\">64</span>)          │          <span style=\"color: #00af00; text-decoration-color: #00af00\">18,496</span> │\n",
              "├──────────────────────────────────────┼─────────────────────────────┼─────────────────┤\n",
              "│ batch_normalization_2                │ (<span style=\"color: #00d7ff; text-decoration-color: #00d7ff\">None</span>, <span style=\"color: #00af00; text-decoration-color: #00af00\">14</span>, <span style=\"color: #00af00; text-decoration-color: #00af00\">14</span>, <span style=\"color: #00af00; text-decoration-color: #00af00\">64</span>)          │             <span style=\"color: #00af00; text-decoration-color: #00af00\">256</span> │\n",
              "│ (<span style=\"color: #0087ff; text-decoration-color: #0087ff\">BatchNormalization</span>)                 │                             │                 │\n",
              "├──────────────────────────────────────┼─────────────────────────────┼─────────────────┤\n",
              "│ activation_2 (<span style=\"color: #0087ff; text-decoration-color: #0087ff\">Activation</span>)            │ (<span style=\"color: #00d7ff; text-decoration-color: #00d7ff\">None</span>, <span style=\"color: #00af00; text-decoration-color: #00af00\">14</span>, <span style=\"color: #00af00; text-decoration-color: #00af00\">14</span>, <span style=\"color: #00af00; text-decoration-color: #00af00\">64</span>)          │               <span style=\"color: #00af00; text-decoration-color: #00af00\">0</span> │\n",
              "├──────────────────────────────────────┼─────────────────────────────┼─────────────────┤\n",
              "│ conv2d_5 (<span style=\"color: #0087ff; text-decoration-color: #0087ff\">Conv2D</span>)                    │ (<span style=\"color: #00d7ff; text-decoration-color: #00d7ff\">None</span>, <span style=\"color: #00af00; text-decoration-color: #00af00\">14</span>, <span style=\"color: #00af00; text-decoration-color: #00af00\">14</span>, <span style=\"color: #00af00; text-decoration-color: #00af00\">64</span>)          │          <span style=\"color: #00af00; text-decoration-color: #00af00\">36,928</span> │\n",
              "├──────────────────────────────────────┼─────────────────────────────┼─────────────────┤\n",
              "│ batch_normalization_3                │ (<span style=\"color: #00d7ff; text-decoration-color: #00d7ff\">None</span>, <span style=\"color: #00af00; text-decoration-color: #00af00\">14</span>, <span style=\"color: #00af00; text-decoration-color: #00af00\">14</span>, <span style=\"color: #00af00; text-decoration-color: #00af00\">64</span>)          │             <span style=\"color: #00af00; text-decoration-color: #00af00\">256</span> │\n",
              "│ (<span style=\"color: #0087ff; text-decoration-color: #0087ff\">BatchNormalization</span>)                 │                             │                 │\n",
              "├──────────────────────────────────────┼─────────────────────────────┼─────────────────┤\n",
              "│ activation_3 (<span style=\"color: #0087ff; text-decoration-color: #0087ff\">Activation</span>)            │ (<span style=\"color: #00d7ff; text-decoration-color: #00d7ff\">None</span>, <span style=\"color: #00af00; text-decoration-color: #00af00\">14</span>, <span style=\"color: #00af00; text-decoration-color: #00af00\">14</span>, <span style=\"color: #00af00; text-decoration-color: #00af00\">64</span>)          │               <span style=\"color: #00af00; text-decoration-color: #00af00\">0</span> │\n",
              "├──────────────────────────────────────┼─────────────────────────────┼─────────────────┤\n",
              "│ max_pooling2d_3 (<span style=\"color: #0087ff; text-decoration-color: #0087ff\">MaxPooling2D</span>)       │ (<span style=\"color: #00d7ff; text-decoration-color: #00d7ff\">None</span>, <span style=\"color: #00af00; text-decoration-color: #00af00\">7</span>, <span style=\"color: #00af00; text-decoration-color: #00af00\">7</span>, <span style=\"color: #00af00; text-decoration-color: #00af00\">64</span>)            │               <span style=\"color: #00af00; text-decoration-color: #00af00\">0</span> │\n",
              "├──────────────────────────────────────┼─────────────────────────────┼─────────────────┤\n",
              "│ dropout_1 (<span style=\"color: #0087ff; text-decoration-color: #0087ff\">Dropout</span>)                  │ (<span style=\"color: #00d7ff; text-decoration-color: #00d7ff\">None</span>, <span style=\"color: #00af00; text-decoration-color: #00af00\">7</span>, <span style=\"color: #00af00; text-decoration-color: #00af00\">7</span>, <span style=\"color: #00af00; text-decoration-color: #00af00\">64</span>)            │               <span style=\"color: #00af00; text-decoration-color: #00af00\">0</span> │\n",
              "├──────────────────────────────────────┼─────────────────────────────┼─────────────────┤\n",
              "│ flatten_1 (<span style=\"color: #0087ff; text-decoration-color: #0087ff\">Flatten</span>)                  │ (<span style=\"color: #00d7ff; text-decoration-color: #00d7ff\">None</span>, <span style=\"color: #00af00; text-decoration-color: #00af00\">3136</span>)                │               <span style=\"color: #00af00; text-decoration-color: #00af00\">0</span> │\n",
              "├──────────────────────────────────────┼─────────────────────────────┼─────────────────┤\n",
              "│ dense_2 (<span style=\"color: #0087ff; text-decoration-color: #0087ff\">Dense</span>)                      │ (<span style=\"color: #00d7ff; text-decoration-color: #00d7ff\">None</span>, <span style=\"color: #00af00; text-decoration-color: #00af00\">512</span>)                 │       <span style=\"color: #00af00; text-decoration-color: #00af00\">1,606,144</span> │\n",
              "├──────────────────────────────────────┼─────────────────────────────┼─────────────────┤\n",
              "│ batch_normalization_4                │ (<span style=\"color: #00d7ff; text-decoration-color: #00d7ff\">None</span>, <span style=\"color: #00af00; text-decoration-color: #00af00\">512</span>)                 │           <span style=\"color: #00af00; text-decoration-color: #00af00\">2,048</span> │\n",
              "│ (<span style=\"color: #0087ff; text-decoration-color: #0087ff\">BatchNormalization</span>)                 │                             │                 │\n",
              "├──────────────────────────────────────┼─────────────────────────────┼─────────────────┤\n",
              "│ activation_4 (<span style=\"color: #0087ff; text-decoration-color: #0087ff\">Activation</span>)            │ (<span style=\"color: #00d7ff; text-decoration-color: #00d7ff\">None</span>, <span style=\"color: #00af00; text-decoration-color: #00af00\">512</span>)                 │               <span style=\"color: #00af00; text-decoration-color: #00af00\">0</span> │\n",
              "├──────────────────────────────────────┼─────────────────────────────┼─────────────────┤\n",
              "│ dropout_2 (<span style=\"color: #0087ff; text-decoration-color: #0087ff\">Dropout</span>)                  │ (<span style=\"color: #00d7ff; text-decoration-color: #00d7ff\">None</span>, <span style=\"color: #00af00; text-decoration-color: #00af00\">512</span>)                 │               <span style=\"color: #00af00; text-decoration-color: #00af00\">0</span> │\n",
              "├──────────────────────────────────────┼─────────────────────────────┼─────────────────┤\n",
              "│ dense_3 (<span style=\"color: #0087ff; text-decoration-color: #0087ff\">Dense</span>)                      │ (<span style=\"color: #00d7ff; text-decoration-color: #00d7ff\">None</span>, <span style=\"color: #00af00; text-decoration-color: #00af00\">10</span>)                  │           <span style=\"color: #00af00; text-decoration-color: #00af00\">5,130</span> │\n",
              "└──────────────────────────────────────┴─────────────────────────────┴─────────────────┘\n",
              "</pre>\n"
            ]
          },
          "metadata": {}
        },
        {
          "output_type": "display_data",
          "data": {
            "text/plain": [
              "\u001b[1m Total params: \u001b[0m\u001b[38;5;34m5,034,432\u001b[0m (19.20 MB)\n"
            ],
            "text/html": [
              "<pre style=\"white-space:pre;overflow-x:auto;line-height:normal;font-family:Menlo,'DejaVu Sans Mono',consolas,'Courier New',monospace\"><span style=\"font-weight: bold\"> Total params: </span><span style=\"color: #00af00; text-decoration-color: #00af00\">5,034,432</span> (19.20 MB)\n",
              "</pre>\n"
            ]
          },
          "metadata": {}
        },
        {
          "output_type": "display_data",
          "data": {
            "text/plain": [
              "\u001b[1m Trainable params: \u001b[0m\u001b[38;5;34m1,677,674\u001b[0m (6.40 MB)\n"
            ],
            "text/html": [
              "<pre style=\"white-space:pre;overflow-x:auto;line-height:normal;font-family:Menlo,'DejaVu Sans Mono',consolas,'Courier New',monospace\"><span style=\"font-weight: bold\"> Trainable params: </span><span style=\"color: #00af00; text-decoration-color: #00af00\">1,677,674</span> (6.40 MB)\n",
              "</pre>\n"
            ]
          },
          "metadata": {}
        },
        {
          "output_type": "display_data",
          "data": {
            "text/plain": [
              "\u001b[1m Non-trainable params: \u001b[0m\u001b[38;5;34m1,408\u001b[0m (5.50 KB)\n"
            ],
            "text/html": [
              "<pre style=\"white-space:pre;overflow-x:auto;line-height:normal;font-family:Menlo,'DejaVu Sans Mono',consolas,'Courier New',monospace\"><span style=\"font-weight: bold\"> Non-trainable params: </span><span style=\"color: #00af00; text-decoration-color: #00af00\">1,408</span> (5.50 KB)\n",
              "</pre>\n"
            ]
          },
          "metadata": {}
        },
        {
          "output_type": "display_data",
          "data": {
            "text/plain": [
              "\u001b[1m Optimizer params: \u001b[0m\u001b[38;5;34m3,355,350\u001b[0m (12.80 MB)\n"
            ],
            "text/html": [
              "<pre style=\"white-space:pre;overflow-x:auto;line-height:normal;font-family:Menlo,'DejaVu Sans Mono',consolas,'Courier New',monospace\"><span style=\"font-weight: bold\"> Optimizer params: </span><span style=\"color: #00af00; text-decoration-color: #00af00\">3,355,350</span> (12.80 MB)\n",
              "</pre>\n"
            ]
          },
          "metadata": {}
        }
      ],
      "source": [
        "# Создаем директорию для сохранения модели\n",
        "model_path = \"best_classification_model.h5\"\n",
        "\n",
        "# Сохраняем модель в формате h5\n",
        "best_model.save(model_path)\n",
        "\n",
        "# Сохраняем краткое описание модели\n",
        "best_model.summary()"
      ]
    },
    {
      "cell_type": "markdown",
      "metadata": {
        "id": "WorzjwM1AoJ1"
      },
      "source": [
        "## **8. Загрузка и использование сохраненной модели**"
      ]
    },
    {
      "cell_type": "code",
      "execution_count": null,
      "metadata": {
        "colab": {
          "base_uri": "https://localhost:8080/",
          "height": 427
        },
        "id": "ywGjNvsDzQ4R",
        "outputId": "0bb73964-9d31-476e-d5b4-53e2e11c053b"
      },
      "outputs": [
        {
          "output_type": "stream",
          "name": "stdout",
          "text": [
            "\u001b[1m1/1\u001b[0m \u001b[32m━━━━━━━━━━━━━━━━━━━━\u001b[0m\u001b[37m\u001b[0m \u001b[1m1s\u001b[0m 732ms/step\n",
            "Пример использования загруженной модели:\n",
            "Изображение 1: Предсказанный класс = 7, Фактический класс = 7\n",
            "Изображение 2: Предсказанный класс = 2, Фактический класс = 2\n",
            "Изображение 3: Предсказанный класс = 1, Фактический класс = 1\n",
            "Изображение 4: Предсказанный класс = 0, Фактический класс = 0\n",
            "Изображение 5: Предсказанный класс = 4, Фактический класс = 4\n"
          ]
        },
        {
          "output_type": "display_data",
          "data": {
            "text/plain": [
              "<Figure size 1200x400 with 5 Axes>"
            ],
            "image/png": "[encoded data removed]"
          },
          "metadata": {}
        }
      ],
      "source": [
        "# Загрузка модели\n",
        "loaded_model = keras.models.load_model(model_path, compile=False)\n",
        "\n",
        "# Пример использования модели на тестовых данных\n",
        "test_sample = test_images[0:5]  # Взять первые 5 изображений из тестового набора\n",
        "\n",
        "# Получение предсказаний\n",
        "predictions = loaded_model.predict(test_sample)\n",
        "predicted_classes = np.argmax(predictions, axis=1)\n",
        "actual_classes = np.argmax(test_labels_cat[0:5], axis=1)\n",
        "\n",
        "print(\"Пример использования загруженной модели:\")\n",
        "for i in range(len(test_sample)):\n",
        "    print(f\"Изображение {i+1}: Предсказанный класс = {predicted_classes[i]}, Фактический класс = {actual_classes[i]}\")\n",
        "\n",
        "# Визуализация примеров и предсказаний\n",
        "plt.figure(figsize=(12, 4))\n",
        "for i in range(5):\n",
        "    plt.subplot(1, 5, i+1)\n",
        "    plt.imshow(test_sample[i].reshape(28, 28), cmap='gray')\n",
        "    plt.title(f\"Пред: {predicted_classes[i]}\\nФакт: {actual_classes[i]}\")\n",
        "    plt.axis('off')\n",
        "plt.tight_layout()\n",
        "plt.show()"
      ]
    },
    {
      "cell_type": "markdown",
      "metadata": {
        "id": "uiqkVTPvAoJ1"
      },
      "source": [
        "## **9. Реализация веб-приложения с использованием Gradio для работы с моделью**"
      ]
    },
    {
      "cell_type": "code",
      "execution_count": 1,
      "metadata": {
        "id": "I-L287cVEHoB"
      },
      "outputs": [],
      "source": [
        "%%capture\n",
        "!pip install gradio"
      ]
    },
    {
      "cell_type": "code",
      "execution_count": 19,
      "metadata": {
        "colab": {
          "base_uri": "https://localhost:8080/",
          "height": 648
        },
        "id": "aUO3dOifCkSW",
        "outputId": "a638b543-1646-4160-ee7d-eff737cc98e9"
      },
      "outputs": [
        {
          "output_type": "stream",
          "name": "stdout",
          "text": [
            "Running Gradio in a Colab notebook requires sharing enabled. Automatically setting `share=True` (you can turn this off by setting `share=False` in `launch()` explicitly).\n",
            "\n",
            "Colab notebook detected. To show errors in colab notebook, set debug=True in launch()\n",
            "* Running on public URL: https://48ed9e4f4daad4b1a8.gradio.live\n",
            "\n",
            "This share link expires in 72 hours. For free permanent hosting and GPU upgrades, run `gradio deploy` from the terminal in the working directory to deploy to Hugging Face Spaces (https://huggingface.co/spaces)\n"
          ]
        },
        {
          "output_type": "display_data",
          "data": {
            "text/plain": [
              "<IPython.core.display.HTML object>"
            ],
            "text/html": [
              "<div><iframe src=\"https://48ed9e4f4daad4b1a8.gradio.live\" width=\"100%\" height=\"500\" allow=\"autoplay; camera; microphone; clipboard-read; clipboard-write;\" frameborder=\"0\" allowfullscreen></iframe></div>"
            ]
          },
          "metadata": {}
        },
        {
          "output_type": "execute_result",
          "data": {
            "text/plain": []
          },
          "metadata": {},
          "execution_count": 19
        }
      ],
      "source": [
        "import gradio as gr\n",
        "import tensorflow as tf\n",
        "import numpy as np\n",
        "import matplotlib.pyplot as plt\n",
        "\n",
        "# Загрузка модели\n",
        "model_path = \"best_classification_model.h5\"\n",
        "loaded_model = tf.keras.models.load_model(model_path, compile=False)\n",
        "\n",
        "# Функция для предобработки изображения\n",
        "def preprocess_image(image):\n",
        "    # Проверка на пустое изображение\n",
        "    if image is None:\n",
        "        return None\n",
        "\n",
        "    # Преобразование в оттенки серого, если изображение цветное\n",
        "    if len(image.shape) == 3 and image.shape[2] == 3:\n",
        "        image = np.mean(image, axis=2)\n",
        "\n",
        "    # Сохраним копию для отображения\n",
        "    display_image = image.copy()\n",
        "\n",
        "    # Инвертирование изображения, если оно имеет белые цифры на черном фоне\n",
        "    # MNIST обучен на черных цифрах на белом фоне\n",
        "    mean_value = np.mean(image)\n",
        "    if mean_value > 0.5:  # Больше белых пикселей чем черных\n",
        "        image = 1.0 - image\n",
        "\n",
        "    # Изменение размера до 28x28\n",
        "    image = tf.image.resize(tf.expand_dims(image, -1), [28, 28])\n",
        "\n",
        "    # Нормализация значений пикселей до диапазона [0, 1]\n",
        "    image = image / 255.0\n",
        "\n",
        "    # Добавление размерности батча\n",
        "    image = tf.expand_dims(image, 0)\n",
        "\n",
        "    return image, display_image\n",
        "\n",
        "# Функция для визуализации вероятностей\n",
        "def create_probability_plot(probabilities):\n",
        "    fig, ax = plt.subplots(figsize=(8, 5))\n",
        "    digits = list(range(10))\n",
        "    probs = [probabilities[str(i)] for i in digits]\n",
        "\n",
        "    # Горизонтальные полосы для вероятностей\n",
        "    bars = ax.barh(digits, probs, color='skyblue')\n",
        "\n",
        "    # Добавление значений вероятностей\n",
        "    for bar in bars:\n",
        "        width = bar.get_width()\n",
        "        ax.text(width + 0.01, bar.get_y() + bar.get_height()/2, f'{width:.1%}',\n",
        "                ha='left', va='center')\n",
        "\n",
        "    # Настройка графика\n",
        "    ax.set_xlabel('Вероятность')\n",
        "    ax.set_ylabel('Цифра')\n",
        "    ax.set_title('Распределение вероятностей')\n",
        "    ax.set_xlim(0, 1.1)\n",
        "    ax.set_yticks(digits)\n",
        "    ax.grid(axis='x', linestyle='--', alpha=0.7)\n",
        "\n",
        "    plt.tight_layout()\n",
        "    return fig\n",
        "\n",
        "# Функция для классификации\n",
        "def classify_image(image):\n",
        "    if image is None:\n",
        "        return None, None\n",
        "\n",
        "    # Предобработка изображения\n",
        "    processed_image, display_image = preprocess_image(image)\n",
        "\n",
        "    # Получение предсказаний\n",
        "    predictions = loaded_model.predict(processed_image)\n",
        "    predicted_class = np.argmax(predictions[0])\n",
        "\n",
        "    # Получение вероятностей для всех классов\n",
        "    probabilities = {str(i): float(predictions[0][i]) for i in range(10)}\n",
        "\n",
        "    # Создание графика вероятностей\n",
        "    prob_chart = create_probability_plot(probabilities)\n",
        "\n",
        "    # Формирование текста предсказания с уверенностью\n",
        "    confidence = float(predictions[0][predicted_class])\n",
        "    prediction_text = f\"**Предсказанная цифра: {predicted_class}** (уверенность: {confidence:.2%})\"\n",
        "\n",
        "    return prediction_text, prob_chart\n",
        "\n",
        "# Создание интерфейса Gradio\n",
        "with gr.Blocks(title=\"Распознавание рукописных цифр MNIST\") as demo:\n",
        "    gr.Markdown(\"# Распознавание рукописных цифр MNIST\")\n",
        "    gr.Markdown(\"Загрузите изображение с цифрой от 0 до 9.\")\n",
        "\n",
        "    with gr.Row():\n",
        "        # Левая колонка для ввода изображения\n",
        "        with gr.Column(scale=1):\n",
        "            # Холст для рисования с черным фоном и белой кистью\n",
        "            image_input = gr.Image(\n",
        "                image_mode=\"L\",\n",
        "                type=\"numpy\"\n",
        "            )\n",
        "            clear_button = gr.Button(\"Очистить\")\n",
        "\n",
        "        # Правая колонка для вывода результатов\n",
        "        with gr.Column(scale=1):\n",
        "            prediction_output = gr.Markdown(label=\"Предсказание\")\n",
        "            probability_plot = gr.Plot(label=\"Вероятности для всех классов\")\n",
        "\n",
        "    # Обработчики событий\n",
        "    image_input.change(\n",
        "        classify_image,\n",
        "        inputs=[image_input],\n",
        "        outputs=[prediction_output, probability_plot]\n",
        "    )\n",
        "\n",
        "    clear_button.click(\n",
        "        lambda: (None, None, None),\n",
        "        inputs=None,\n",
        "        outputs=[image_input, prediction_output, probability_plot]\n",
        "    )\n",
        "\n",
        "\n",
        "# Запуск интерфейса\n",
        "demo.launch()"
      ]
    },
    {
      "cell_type": "markdown",
      "source": [
        "## **10. Развертывание модели Keras на сервере с использованием FastAPI**"
      ],
      "metadata": {
        "id": "llCNmjk54rCz"
      }
    },
    {
      "cell_type": "markdown",
      "source": [
        "**(Происходит по аналогии с предыдущим разделом, ниже приведен пример кода основных элементов кода, для того чтобы показать как работать конкретно с изображениями)**"
      ],
      "metadata": {
        "id": "brQ1qZeH4rC0"
      }
    },
    {
      "cell_type": "markdown",
      "source": [
        "**Разработка веб-приложения для классификации изображений с использованием обученной модели**\n",
        "\n",
        "Процесс разработки веб-приложения, которое будет являться интерфейсом для обученной модели классификации изображений, включает в себя несколько этапов:\n",
        "\n",
        "1. **Разработка и развёртывание API на платформе Render.com**\n",
        "2. **Создание графического интерфейса с использованием Streamlit**\n",
        "3. **Развёртывание приложения Streamlit на платформе Streamlit**\n",
        "\n",
        "Рассмотрим каждый из этих этапов, а также прокомментируем предоставленный код модулей `app.py` и `main.py`."
      ],
      "metadata": {
        "id": "j3WDnBB17nKW"
      }
    },
    {
      "cell_type": "markdown",
      "source": [
        "Все этапы проводятся в десткопной среде Pycharm/VS Code, затем готовый проект пушится на GitHub"
      ],
      "metadata": {
        "id": "dhENXD7N8UB4"
      }
    },
    {
      "cell_type": "markdown",
      "source": [
        "### **1. Разработка и развёртывание API на платформе Render.com**\n"
      ],
      "metadata": {
        "id": "AyesYnyF7yBC"
      }
    },
    {
      "cell_type": "markdown",
      "source": [
        "#### **Файл `main.py`**\n",
        "\n",
        "```python\n",
        "from fastapi import FastAPI, UploadFile, File\n",
        "from fastapi.responses import JSONResponse\n",
        "import tensorflow as tf\n",
        "import numpy as np\n",
        "from PIL import Image\n",
        "import io\n",
        "\n",
        "app = FastAPI()\n",
        "\n",
        "# Загрузка модели\n",
        "model_path = \"best_keras_classification_model\"\n",
        "model = tf.keras.models.load_model(model_path)\n",
        "```\n",
        "\n",
        "- **Импорт необходимых модулей:**\n",
        "  - `FastAPI` для создания веб-приложения API.\n",
        "  - `UploadFile`, `File` из `fastapi` для работы с загрузкой файлов.\n",
        "  - `JSONResponse` для формирования структурированных JSON-ответов.\n",
        "  - `tensorflow` для работы с нейронной сетью.\n",
        "  - `numpy` для операций с массивами данных.\n",
        "  - `PIL.Image` для обработки изображений.\n",
        "  - `io` для работы с байтовыми потоками.\n",
        "\n",
        "- **Создание экземпляра приложения:**\n",
        "  - `app = FastAPI()` инициализирует экземпляр приложения FastAPI.\n",
        "\n",
        "- **Загрузка модели:**\n",
        "  - Указываем путь к директории `best_keras_classification_model`, содержащей сохранённую модель TensorFlow.\n",
        "  - Используем `tf.keras.models.load_model` для загрузки предварительно обученной модели нейронной сети.\n",
        "\n",
        "```python\n",
        "def preprocess_image(image):\n",
        "    # Преобразование в оттенки серого, если цветное изображение\n",
        "    if len(image.shape) == 3 and image.shape[2] == 3:\n",
        "        image = np.mean(image, axis=2)\n",
        "    \n",
        "    # Изменение размера до 28x28\n",
        "    image = tf.image.resize(tf.expand_dims(image, -1), [28, 28])\n",
        "    \n",
        "    # Нормализация значений пикселей [0, 1]\n",
        "    image = image / 255.0\n",
        "    \n",
        "    # Добавление размерности батча\n",
        "    image = tf.expand_dims(image, 0)\n",
        "    \n",
        "    return image\n",
        "```\n",
        "\n",
        "- **Функция `preprocess_image`:**\n",
        "  - **Цель:** Подготовить изображение для подачи в нейронную сеть.\n",
        "  \n",
        "  - **Преобразование в оттенки серого:**\n",
        "    - Проверяем формат изображения и преобразуем цветное изображение в оттенки серого, усредняя значения по каналам.\n",
        "  \n",
        "  - **Изменение размера:**\n",
        "    - Используем `tf.image.resize` для изменения размера изображения до 28x28 пикселей (стандартный размер для MNIST).\n",
        "    - Предварительно добавляем канальную размерность с помощью `tf.expand_dims`.\n",
        "  \n",
        "  - **Нормализация:**\n",
        "    - Делим все значения пикселей на 255.0 для приведения к диапазону [0, 1].\n",
        "  \n",
        "  - **Подготовка входа для модели:**\n",
        "    - Добавляем размерность батча, чтобы модель могла обработать одно изображение как мини-батч.\n",
        "  \n",
        "  - **Возвращаемые значения:**\n",
        "    - Функция возвращает предобработанное тензорное представление изображения, готовое для подачи в нейронную сеть.\n",
        "\n",
        "```python\n",
        "@app.post(\"/predict/\")\n",
        "async def predict(file: UploadFile = File(...)):\n",
        "    # Чтение содержимого файла\n",
        "    contents = await file.read()\n",
        "    \n",
        "    # Открытие изображения\n",
        "    image = Image.open(io.BytesIO(contents))\n",
        "    image_array = np.array(image)\n",
        "    \n",
        "    # Предобработка изображения\n",
        "    processed_image = preprocess_image(image_array)\n",
        "    \n",
        "    # Получение предсказаний\n",
        "    predictions = model.predict(processed_image)\n",
        "    predicted_class = int(np.argmax(predictions[0]))\n",
        "    \n",
        "    # Вычисление вероятностей для каждого класса\n",
        "    probabilities = [float(p) for p in predictions[0]]\n",
        "    \n",
        "    return JSONResponse(content={\n",
        "        \"predicted_class\": predicted_class,\n",
        "        \"probabilities\": probabilities\n",
        "    })\n",
        "```\n",
        "\n",
        "- **Создание эндпоинта `/predict/`:**\n",
        "  - Декоратор `@app.post(\"/predict/\")` указывает на обработку POST-запросов по указанному адресу.\n",
        "  - Функция `predict` принимает файл изображения через параметр `file`.\n",
        "\n",
        "- **Обработка загруженного файла:**\n",
        "  - Асинхронно читаем содержимое загруженного файла с помощью `await file.read()`.\n",
        "  - Открываем изображение, используя `Image.open(io.BytesIO(contents))`, где `BytesIO` позволяет работать с байтовыми данными как с файловым объектом.\n",
        "  - Преобразуем изображение в массив NumPy для дальнейшей обработки.\n",
        "\n",
        "- **Предобработка и классификация:**\n",
        "  - Вызываем функцию `preprocess_image` для подготовки изображения.\n",
        "  - Подаём обработанное изображение в модель с помощью `model.predict`.\n",
        "  - Определяем класс с наибольшей вероятностью, используя `np.argmax`.\n",
        "  - Формируем список вероятностей для всех классов, преобразуя их в тип `float` для корректной JSON-сериализации.\n",
        "\n",
        "- **Возвращение результата:**\n",
        "  - Возвращаем JSON-ответ, содержащий:\n",
        "    - `predicted_class` - предсказанный класс изображения (целое число).\n",
        "    - `probabilities` - массив вероятностей принадлежности к каждому классу."
      ],
      "metadata": {
        "id": "SKB1B53c7vFk"
      }
    },
    {
      "cell_type": "markdown",
      "source": [
        "Создайте файл `requirements.txt`:\n",
        "\n",
        "```\n",
        "fastapi==0.103.0\n",
        "numpy\n",
        "tensorflow==2.18.0\n",
        "uvicorn==0.23.2\n",
        "scikit-learn==1.6.1\n",
        "streamlit\n",
        "opencv-python\n",
        "matplotlib\n",
        "streamlit_drawable_canvas\n",
        "```\n",
        "\n",
        "Для запуска API локально выполните:\n",
        "\n",
        "```\n",
        "uvicorn main:app --reload\n",
        "```"
      ],
      "metadata": {
        "id": "21qFP0NUMs6J"
      }
    },
    {
      "cell_type": "markdown",
      "source": [
        "\n",
        "**Развёртывание на Render.com:**\n",
        "\n",
        "- **Шаги:**\n",
        "  1. **Репозиторий проекта:**\n",
        "     - Создайте репозиторий на GitHub, содержащий файлы `main.py`, `requirements.txt`, `best_classification_model` и `scaler.pkl` (при наличии).\n",
        "\n",
        "  2. **Регистрация на Render.com:**\n",
        "     - Зарегистрируйтесь на [Render.com](https://render.com/).\n",
        "\n",
        "  3. **Создание нового веб-сервиса:**\n",
        "     - В панели управления Render.com создайте новый веб-сервис, связав его с вашим репозиторием.\n",
        "\n",
        "  4. **Настройка сервисного настроения:**\n",
        "     - Укажите команду запуска приложения: `uvicorn main:app --host 0.0.0.0 --port 8000`.\n",
        "     - Убедитесь, что в `requirements.txt` перечислены все необходимые зависимости.\n",
        "\n",
        "  5. **Развёртывание:**\n",
        "     - Запустите процесс развёртывания и дождитесь его завершения.\n",
        "     - После успешного развёртывания ваш API будет доступен по выделенному адресу."
      ],
      "metadata": {
        "id": "pOquTXkA727H"
      }
    },
    {
      "cell_type": "markdown",
      "source": [
        "### **2. Создание графического интерфейса с использованием Streamlit**\n"
      ],
      "metadata": {
        "id": "gn_nywxR75IP"
      }
    },
    {
      "cell_type": "markdown",
      "source": [
        "#### **Описание файла `app.py` для классификации изображений**\n",
        "\n",
        "```python\n",
        "# Импорт необходимых библиотек\n",
        "import streamlit as st\n",
        "import requests\n",
        "from PIL import Image\n",
        "import io\n",
        "import numpy as np\n",
        "from streamlit_drawable_canvas import st_canvas\n",
        "```\n",
        "\n",
        "- **Импорт необходимых библиотек:**\n",
        "  - `streamlit` для создания интерактивного веб-интерфейса.\n",
        "  - `requests` для выполнения HTTP-запросов к API.\n",
        "  - `PIL.Image` для обработки изображений.\n",
        "  - `io` для операций с байтовыми потоками.\n",
        "  - `numpy` для работы с массивами данных.\n",
        "  - `streamlit_drawable_canvas` для создания интерактивного холста для рисования.\n",
        "\n",
        "```python\n",
        "# Заголовок приложения\n",
        "st.title(\"Классификация изображений\")\n",
        "\n",
        "# Опция для выбора режима ввода изображения\n",
        "mode = st.radio(\"Выберите способ ввода изображения:\", (\"Нарисовать изображение\", \"Загрузить изображение\"))\n",
        "```\n",
        "\n",
        "- **Настройка интерфейса:**\n",
        "  - Создаём заголовок приложения с помощью `st.title`.\n",
        "  - Добавляем переключатель режимов с помощью `st.radio`, который позволяет пользователю выбрать между рисованием и загрузкой изображения.\n",
        "\n",
        "```python\n",
        "# Функция для отправки изображения на сервер и получения предсказания\n",
        "def get_prediction(image_data):\n",
        "    \"\"\"\n",
        "    Отправляет изображение на сервер FastAPI и возвращает предсказание.\n",
        "    \"\"\"\n",
        "    try:\n",
        "        # Отправка POST-запроса с изображением\n",
        "        response = requests.post(\n",
        "            \"https://dpo-classification.onrender.com/predict/\",\n",
        "            files={\"file\": (\"image.png\", image_data, \"image/png\")}\n",
        "        )\n",
        "        response.raise_for_status()\n",
        "        data = response.json()\n",
        "        # Получаем predicted_class вместо prediction\n",
        "        return data[\"predicted_class\"]\n",
        "    except requests.exceptions.RequestException as e:\n",
        "        st.error(f\"Ошибка при отправке запроса: {e}\")\n",
        "    except ValueError as e:\n",
        "        st.error(f\"Ошибка при обработке ответа: {e}\")\n",
        "    return None\n",
        "```\n",
        "\n",
        "- **Функция для взаимодействия с API:**\n",
        "  - Определяем функцию `get_prediction`, которая отправляет изображение на сервер и получает результат классификации.\n",
        "  - Используем блок `try-except` для обработки возможных ошибок при отправке запроса или обработке ответа.\n",
        "  - Отправляем POST-запрос к API с изображением в формате multipart/form-data.\n",
        "  - Проверяем статус ответа с помощью `raise_for_status()`.\n",
        "  - Преобразуем ответ в JSON-формат и извлекаем предсказанный класс.\n",
        "\n",
        "```python\n",
        "# Функция предобработки изображения перед отправкой на сервер\n",
        "def preprocess_image_client(image):\n",
        "    \"\"\"\n",
        "    Преобразует изображение в нужный формат перед отправкой\n",
        "    \"\"\"\n",
        "    # Преобразуем в оттенки серого, если это цветное изображение\n",
        "    if image.mode == 'RGBA':\n",
        "        image = image.convert('L')\n",
        "    elif image.mode == 'RGB':\n",
        "        image = image.convert('L')\n",
        "    \n",
        "    # Изменяем размер до 28x28\n",
        "    image = image.resize((28, 28), Image.LANCZOS)\n",
        "    \n",
        "    return image\n",
        "```\n",
        "\n",
        "- **Функция предобработки изображения:**\n",
        "  - Определяем функцию `preprocess_image_client` для подготовки изображения перед отправкой на сервер.\n",
        "  - Преобразуем изображение в оттенки серого, проверяя его текущий цветовой режим (RGBA или RGB).\n",
        "  - Изменяем размер изображения до 28x28 пикселей с использованием алгоритма LANCZOS для качественного масштабирования.\n",
        "\n",
        "```python\n",
        "# Обработка режима \"Загрузить изображение\"\n",
        "if mode == \"Загрузить изображение\":\n",
        "    uploaded_file = st.file_uploader(\"Загрузите изображение\", type=[\"jpg\", \"jpeg\", \"png\"])\n",
        "\n",
        "    if uploaded_file is not None:\n",
        "        col1, col2 = st.columns(2)\n",
        "\n",
        "        with col1:\n",
        "            # Показываем оригинальное изображение\n",
        "            original_image = Image.open(uploaded_file)\n",
        "            st.image(original_image, caption=\"Загруженное изображение\", use_container_width=True)\n",
        "```\n",
        "\n",
        "- **Режим загрузки изображения:**\n",
        "  - Проверяем, выбран ли режим \"Загрузить изображение\".\n",
        "  - Добавляем элемент `st.file_uploader` для загрузки изображений в форматах JPG, JPEG или PNG.\n",
        "  - При успешной загрузке создаём двухколоночный макет с помощью `st.columns(2)`.\n",
        "  - В первой колонке отображаем оригинальное загруженное изображение.\n",
        "\n",
        "```python\n",
        "        # Предобрабатываем изображение перед отправкой\n",
        "        processed_image = preprocess_image_client(original_image)\n",
        "        \n",
        "        # Для отладки можно показать обработанное изображение\n",
        "        # st.image(processed_image, caption=\"Обработанное изображение (28x28)\", width=56)\n",
        "        \n",
        "        # Преобразование в байты для отправки\n",
        "        img_byte_arr = io.BytesIO()\n",
        "        processed_image.save(img_byte_arr, format='PNG')\n",
        "        img_byte_arr = img_byte_arr.getvalue()\n",
        "\n",
        "        # Получение предсказания\n",
        "        prediction = get_prediction(img_byte_arr)\n",
        "```\n",
        "\n",
        "- **Обработка и отправка загруженного изображения:**\n",
        "  - Вызываем функцию предобработки изображения перед отправкой.\n",
        "  - Преобразуем обработанное изображение в байтовый формат для отправки:\n",
        "    - Создаём байтовый буфер с помощью `io.BytesIO()`.\n",
        "    - Сохраняем изображение в буфер в формате PNG.\n",
        "    - Получаем байтовое представление с помощью `getvalue()`.\n",
        "  - Отправляем изображение на сервер и получаем предсказание с помощью функции `get_prediction()`.\n",
        "\n",
        "```python\n",
        "        if prediction is not None:\n",
        "            with col2:\n",
        "                st.markdown(\n",
        "                    f\"<div style='display: flex; align-items: center; justify-content: center; height: 100%;'>\"\n",
        "                    f\"<h1 style='font-size: 48px;'>{prediction}</h1>\"\n",
        "                    f\"</div>\",\n",
        "                    unsafe_allow_html=True\n",
        "                )\n",
        "```\n",
        "\n",
        "- **Отображение результата классификации:**\n",
        "  - Проверяем, успешно ли получено предсказание.\n",
        "  - Во второй колонке отображаем результат классификации в виде крупного текста.\n",
        "  - Используем HTML-разметку через `st.markdown` с параметром `unsafe_allow_html=True` для центрирования и стилизации результата.\n",
        "\n",
        "```python\n",
        "# Обработка режима \"Нарисовать изображение\"\n",
        "elif mode == \"Нарисовать изображение\":\n",
        "    stroke_width = st.slider(\"Толщина линии:\", 1, 25, 9)\n",
        "    \n",
        "    col_color1, col_color2 = st.columns(2)\n",
        "    with col_color1:\n",
        "        stroke_color = st.color_picker(\"Цвет линии:\", \"#FFFFFF\")\n",
        "    with col_color2:\n",
        "        bg_color = st.color_picker(\"Цвет фона:\", \"#000000\")\n",
        "\n",
        "    realtime_update = st.checkbox(\"Обновлять в реальном времени\", True)\n",
        "```\n",
        "\n",
        "- **Настройка холста для рисования:**\n",
        "  - Проверяем, выбран ли режим \"Нарисовать изображение\".\n",
        "  - Добавляем ползунок для выбора толщины линии с помощью `st.slider`.\n",
        "  - Создаём двухколоночный макет для элементов выбора цвета.\n",
        "  - Добавляем выбор цвета линии и фона с помощью `st.color_picker`.\n",
        "  - Добавляем флажок для включения/отключения обновления в реальном времени.\n",
        "\n",
        "```python\n",
        "    col1, col2 = st.columns(2)\n",
        "\n",
        "    with col1:\n",
        "        canvas_result = st_canvas(\n",
        "            fill_color=\"rgba(0, 0, 0, 0)\",\n",
        "            stroke_width=stroke_width,\n",
        "            stroke_color=stroke_color,\n",
        "            background_color=bg_color,\n",
        "            update_streamlit=realtime_update,\n",
        "            height=280,\n",
        "            width=280,\n",
        "            drawing_mode=\"freedraw\",\n",
        "            key=\"canvas\",\n",
        "        )\n",
        "```\n",
        "\n",
        "- **Создание интерактивного холста:**\n",
        "  - Создаём двухколоночный макет для холста и результата.\n",
        "  - В первой колонке размещаем холст для рисования с помощью `st_canvas`.\n",
        "  - Настраиваем параметры холста:\n",
        "    - Цвет заливки (прозрачный).\n",
        "    - Толщина и цвет линии на основе выбора пользователя.\n",
        "    - Цвет фона на основе выбора пользователя.\n",
        "    - Размеры холста (280x280 пикселей).\n",
        "    - Режим рисования \"freedraw\" для свободного рисования от руки.\n",
        "\n",
        "```python\n",
        "    if canvas_result.image_data is not None:\n",
        "        # Преобразование данных холста в изображение\n",
        "        original_image = Image.fromarray(canvas_result.image_data.astype('uint8'), 'RGBA')\n",
        "        \n",
        "        # Предобрабатываем изображение перед отправкой\n",
        "        processed_image = preprocess_image_client(original_image)\n",
        "        \n",
        "        # Преобразование в байты для отправки\n",
        "        img_byte_arr = io.BytesIO()\n",
        "        processed_image.save(img_byte_arr, format='PNG')\n",
        "        img_byte_arr = img_byte_arr.getvalue()\n",
        "\n",
        "        # Получение предсказания\n",
        "        prediction = get_prediction(img_byte_arr)\n",
        "```\n",
        "\n",
        "- **Обработка и отправка нарисованного изображения:**\n",
        "  - Проверяем, содержит ли холст данные изображения.\n",
        "  - Преобразуем данные холста в объект изображения с помощью `Image.fromarray()`.\n",
        "  - Вызываем функцию предобработки изображения.\n",
        "  - Преобразуем обработанное изображение в байтовый формат для отправки.\n",
        "  - Отправляем изображение на сервер и получаем предсказание.\n",
        "\n",
        "```python\n",
        "        if prediction is not None:\n",
        "            with col2:\n",
        "                st.markdown(\n",
        "                    f\"<div style='display: flex; align-items: center; justify-content: center; height: 280px;'>\"\n",
        "                    f\"<h1 style='font-size: 48px;'>{prediction}</h1>\"\n",
        "                    f\"</div>\",\n",
        "                    unsafe_allow_html=True\n",
        "                )\n",
        "```\n",
        "\n",
        "- **Отображение результата классификации для нарисованного изображения:**\n",
        "  - Проверяем, успешно ли получено предсказание.\n",
        "  - Во второй колонке отображаем результат классификации в виде крупного текста.\n",
        "  - Используем HTML-разметку для центрирования и стилизации результата, соответствующего размеру холста (высота 280px)."
      ],
      "metadata": {
        "id": "WV73pcxI4695"
      }
    },
    {
      "cell_type": "markdown",
      "source": [
        "Для запуска Streamlit приложения локально выполните:\n",
        "\n",
        "```\n",
        "streamlit run app.py\n",
        "```"
      ],
      "metadata": {
        "id": "4HsGFFLzNxQ-"
      }
    },
    {
      "cell_type": "markdown",
      "source": [
        "### **Структура репозитория с проектом**\n"
      ],
      "metadata": {
        "id": "Wvq_GMiJ79RM"
      }
    },
    {
      "cell_type": "markdown",
      "source": [
        "\n",
        "```\n",
        "app.py\n",
        "main.py\n",
        "requirements.txt\n",
        "best_classification_model.h5\n",
        "```\n",
        "\n",
        "- **`app.py`** — код клиентского приложения Streamlit.\n",
        "- **`main.py`** — код серверного приложения FastAPI.\n",
        "- **`requirements.txt`** — файл зависимостей для API.\n",
        "- **`best_classification_model`** — файл с сохранённой моделью классификации.\n"
      ],
      "metadata": {
        "id": "1Getvi_T7R_-"
      }
    }
  ],
  "metadata": {
    "colab": {
      "provenance": [],
      "gpuType": "T4",
      "authorship_tag": "ABX9TyPPQYtDrv2OEYIwlQCH3qLp",
      "include_colab_link": true
    },
    "kernelspec": {
      "display_name": "Python 3",
      "name": "python3"
    },
    "language_info": {
      "name": "python"
    },
    "accelerator": "GPU"
  },
  "nbformat": 4,
  "nbformat_minor": 0
}