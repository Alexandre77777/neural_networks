{
  "nbformat": 4,
  "nbformat_minor": 0,
  "metadata": {
    "colab": {
      "provenance": [],
      "authorship_tag": "ABX9TyM0g98zKEpLO8torvdCyizF",
      "include_colab_link": true
    },
    "kernelspec": {
      "name": "python3",
      "display_name": "Python 3"
    },
    "language_info": {
      "name": "python"
    }
  },
  "cells": [
    {
      "cell_type": "markdown",
      "metadata": {
        "id": "view-in-github",
        "colab_type": "text"
      },
      "source": [
        "<a href=\"https://colab.research.google.com/github/Alexandre77777/neural_networks/blob/main/10.%20%D0%98%D1%81%D0%BF%D0%BE%D0%BB%D1%8C%D0%B7%D0%BE%D0%B2%D0%B0%D0%BD%D0%B8%D0%B5%20%D0%BC%D0%BE%D0%B4%D0%B5%D0%BB%D0%B8%20YOLOv9%20%D0%B4%D0%BB%D1%8F%20%D1%80%D0%B5%D1%88%D0%B5%D0%BD%D0%B8%D0%B5%20%D0%B7%D0%B0%D0%B4%D0%B0%D1%87%20%D0%B4%D0%B5%D1%82%D0%B5%D0%BA%D1%86%D0%B8%D0%B8%20%D0%B8%20%D0%BA%D0%BB%D0%B0%D1%81%D1%81%D0%B8%D1%84%D0%B8%D0%BA%D0%B0%D1%86%D0%B8%D0%B8/%D0%9F%D1%80%D0%B0%D0%BA%D1%82%D0%B8%D1%87%D0%B5%D1%81%D0%BA%D0%B0%D1%8F_%D1%80%D0%B0%D0%B1%D0%BE%D1%82%D0%B0_%E2%84%9610_%D0%98%D1%81%D0%BF%D0%BE%D0%BB%D1%8C%D0%B7%D0%BE%D0%B2%D0%B0%D0%BD%D0%B8%D0%B5_%D0%BC%D0%BE%D0%B4%D0%B5%D0%BB%D0%B8_YOLOv12_%D0%B4%D0%BB%D1%8F_%D1%80%D0%B5%D1%88%D0%B5%D0%BD%D0%B8%D0%B5_%D0%B7%D0%B0%D0%B4%D0%B0%D1%87_%D0%B4%D0%B5%D1%82%D0%B5%D0%BA%D1%86%D0%B8%D0%B8_%D0%B8_%D0%BA%D0%BB%D0%B0%D1%81%D1%81%D0%B8%D1%84%D0%B8%D0%BA%D0%B0%D1%86%D0%B8%D0%B8.ipynb\" target=\"_parent\"><img src=\"https://colab.research.google.com/assets/colab-badge.svg\" alt=\"Open In Colab\"/></a>"
      ]
    },
    {
      "cell_type": "markdown",
      "source": [
        "# **Практическая работа №10. Использование модели YOLOv12 для решение задач детекции и классификации**"
      ],
      "metadata": {
        "id": "-qys_MgOokQG"
      }
    },
    {
      "cell_type": "markdown",
      "source": [
        "## **Задание 1. Знакомство с новейшей версией модели YOLO**\n",
        "\n",
        "- Ознакомьтесь с технической документацией по новейшей версии модели YOLOv12: https://docs.ultralytics.com/ru/models/yolo12/\n",
        "\n",
        "- Рассмотрите пример обучения этой модели c использованием датасетов, созданных в Roboflow: https://blog.roboflow.com/train-yolov12-model/"
      ],
      "metadata": {
        "id": "N3mnymBfKHDe"
      }
    },
    {
      "cell_type": "markdown",
      "source": [
        "### **Ответьте на вопрос: Какие принципиальные отличия появились в модели YOLOv12 относительно предыдущих версий?**"
      ],
      "metadata": {
        "id": "qJkRDOSXLbhm"
      }
    },
    {
      "cell_type": "markdown",
      "source": [
        "**ВАШ ОТВЕТ**"
      ],
      "metadata": {
        "id": "tBU-qcXMLqij"
      }
    },
    {
      "cell_type": "markdown",
      "source": [
        "*Примечание:* для каждого последующего задания, в конечном итоге, необходимо сформировать обученную модель и задеплоить её на сервисе **RoboFlow**\n",
        "\n"
      ],
      "metadata": {
        "id": "7ntMA7Arvayd"
      }
    },
    {
      "cell_type": "markdown",
      "source": [
        "## **Задание 2. Найдите готовый датасет для детекции объектов и обучите на нем модель YOLOv12:**\n",
        "\n",
        "- Для удобства работы с датасетом и деплоя модели используйте сервис [RoboFlow](https://roboflow.com/)"
      ],
      "metadata": {
        "id": "zE0YLN7ZolE9"
      }
    },
    {
      "cell_type": "code",
      "source": [
        "# Ваш код"
      ],
      "metadata": {
        "id": "VYk_RVF4qixp"
      },
      "execution_count": null,
      "outputs": []
    },
    {
      "cell_type": "markdown",
      "source": [
        "## **Задание 3. Сформируйте свой датасет для детекции объектов и обучите на нем модель YOLOv12**\n",
        "\n",
        "\n",
        "\n",
        "Требования к датасету:\n",
        "\n",
        "- Количество изображений в датасете: минимум 90\n",
        "- Количество классов: более 2х\n",
        "- Обязательно должны присутствовать изображения, содержащие несколько классов одновременно\n",
        "\n",
        "\n",
        "*Примечание: Формирование датасета включает в себя поиск изображений и ручное аннотирование объектов на изображениях.*"
      ],
      "metadata": {
        "id": "ZO6F4QhiolHD"
      }
    },
    {
      "cell_type": "code",
      "execution_count": null,
      "metadata": {
        "id": "TgFSxWBooj24"
      },
      "outputs": [],
      "source": [
        "# Ваш код"
      ]
    },
    {
      "cell_type": "markdown",
      "source": [
        "## **Задание 4 (для магистрантов). Обучите модель YOLOv12 на датасете [RSD-GOD](https://github.com/Dr-Zhuang/geospatial-object-detection). Затем самостоятельно сформируйте тестовые данные (не менее 50 изображений с аннотациями) и оцените качество обученной модели:**\n",
        "\n"
      ],
      "metadata": {
        "id": "g0jAMasnuU2z"
      }
    },
    {
      "cell_type": "markdown",
      "source": [
        "**Прямая ссылка на загрузку датасета: [загрузить](https://drive.google.com/open?id=1ttvSta0BRxW7tTV_st89vSb_obHVre34)**"
      ],
      "metadata": {
        "id": "GU42bbXIuVNW"
      }
    },
    {
      "cell_type": "markdown",
      "source": [
        " *Примечание: для поиска данных удобно использовать сервис Google Earth/Google Earth Engine*"
      ],
      "metadata": {
        "id": "gTO9zAvV5kp8"
      }
    },
    {
      "cell_type": "code",
      "source": [
        "# Ваш код"
      ],
      "metadata": {
        "id": "XLA3tWUkvSFq"
      },
      "execution_count": null,
      "outputs": []
    }
  ]
}