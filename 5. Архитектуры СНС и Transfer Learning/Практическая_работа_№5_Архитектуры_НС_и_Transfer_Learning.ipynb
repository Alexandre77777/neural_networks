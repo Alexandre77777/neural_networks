{
  "nbformat": 4,
  "nbformat_minor": 0,
  "metadata": {
    "colab": {
      "provenance": [],
      "collapsed_sections": [
        "5BrXVv2VxhmO"
      ],
      "authorship_tag": "ABX9TyOLAQFKkl0YPIiB4Svunw01",
      "include_colab_link": true
    },
    "kernelspec": {
      "name": "python3",
      "display_name": "Python 3"
    },
    "language_info": {
      "name": "python"
    }
  },
  "cells": [
    {
      "cell_type": "markdown",
      "metadata": {
        "id": "view-in-github",
        "colab_type": "text"
      },
      "source": [
        "<a href=\"https://colab.research.google.com/github/Alexandre77777/neural_networks/blob/main/5.%20%D0%90%D1%80%D1%85%D0%B8%D1%82%D0%B5%D0%BA%D1%82%D1%83%D1%80%D1%8B%20%D0%A1%D0%9D%D0%A1%20%D0%B8%20Transfer%20Learning/%D0%9F%D1%80%D0%B0%D0%BA%D1%82%D0%B8%D1%87%D0%B5%D1%81%D0%BA%D0%B0%D1%8F_%D1%80%D0%B0%D0%B1%D0%BE%D1%82%D0%B0_%E2%84%965_%D0%90%D1%80%D1%85%D0%B8%D1%82%D0%B5%D0%BA%D1%82%D1%83%D1%80%D1%8B_%D0%9D%D0%A1_%D0%B8_Transfer_Learning.ipynb\" target=\"_parent\"><img src=\"https://colab.research.google.com/assets/colab-badge.svg\" alt=\"Open In Colab\"/></a>"
      ]
    },
    {
      "cell_type": "markdown",
      "source": [
        "# Задание 1. Использование предобученной модели"
      ],
      "metadata": {
        "id": "5BrXVv2VxhmO"
      }
    },
    {
      "cell_type": "markdown",
      "source": [
        "### 1.1. Выберите и импортируйте предобученную модель СНС для решения задач классификации из имеющихся в Keras: https://keras.io/api/applications/"
      ],
      "metadata": {
        "id": "sLqK_i6vyUYC"
      }
    },
    {
      "cell_type": "code",
      "execution_count": null,
      "metadata": {
        "id": "8DQf2nQXxapJ"
      },
      "outputs": [],
      "source": [
        "# Ваш код"
      ]
    },
    {
      "cell_type": "markdown",
      "source": [
        "### 1.2. Загрузите из сети Интернет 5 изображений с разными классами, из тех, что приведены в [списке](https://gist.github.com/yrevar/942d3a0ac09ec9e5eb3a), и сохраните их представление в список images"
      ],
      "metadata": {
        "id": "ApjYOesMy4eY"
      }
    },
    {
      "cell_type": "code",
      "execution_count": null,
      "metadata": {
        "id": "p1JMUwq3zZnJ"
      },
      "outputs": [],
      "source": [
        "# Ваш код"
      ]
    },
    {
      "cell_type": "markdown",
      "source": [
        "### 1.3. Напишите функцию, принимающую на вход список с исходными изображениями и возвращающую список с преобразованными изображениями под формат входных данных выбранной Вами модели СНС (нормализация)."
      ],
      "metadata": {
        "id": "f1j5fAr2y4s9"
      }
    },
    {
      "cell_type": "markdown",
      "source": [
        "(Не забудьте создать независимую копию исходного списка в теле функции, для обработки именно независимой копии, а не оригинального списка)"
      ],
      "metadata": {
        "id": "BqXyvEzH1q4F"
      }
    },
    {
      "cell_type": "code",
      "execution_count": null,
      "metadata": {
        "id": "fSJPTsIazZ7Z"
      },
      "outputs": [],
      "source": [
        "# Ваш код"
      ]
    },
    {
      "cell_type": "markdown",
      "source": [
        "### 1.5. Выведите изображения и соответствующие им классы (как в примере из теории)"
      ],
      "metadata": {
        "id": "rdwMPqNh0z6j"
      }
    },
    {
      "cell_type": "code",
      "execution_count": null,
      "metadata": {
        "id": "VG_Ded0x0z6j"
      },
      "outputs": [],
      "source": [
        "# Ваш код"
      ]
    },
    {
      "cell_type": "markdown",
      "source": [
        "# Задание 2. Использование обученной модели для работы со своим датасетом"
      ],
      "metadata": {
        "id": "dvOnWAY2Gplw"
      }
    },
    {
      "cell_type": "markdown",
      "source": [
        "### 2.1. Выберите и импортируйте предобученную модель СНС для решения задач классификации из имеющихся в Keras: https://keras.io/api/applications/"
      ],
      "metadata": {
        "id": "68mMU7AaGpl4"
      }
    },
    {
      "cell_type": "code",
      "execution_count": null,
      "metadata": {
        "id": "gRn8SOiLGpl4"
      },
      "outputs": [],
      "source": [
        "# Ваш код"
      ]
    },
    {
      "cell_type": "markdown",
      "metadata": {
        "id": "Ir0q0GyfgmSI"
      },
      "source": [
        "### 2.2. Подготовка тренировочных данных. Разделение на обучающую и тестовую выборку"
      ]
    },
    {
      "cell_type": "code",
      "execution_count": null,
      "metadata": {
        "id": "aaoN-NebJSDB"
      },
      "outputs": [],
      "source": [
        "# Ваш код"
      ]
    },
    {
      "cell_type": "markdown",
      "metadata": {
        "id": "jK5tHnEpggbu"
      },
      "source": [
        "### 2.3. Обучение своей модели на основе предобученной модели \"*название модели, выбранной в п.2.1.*\""
      ]
    },
    {
      "cell_type": "code",
      "execution_count": null,
      "metadata": {
        "id": "6hB-FMlZJSdZ"
      },
      "outputs": [],
      "source": [
        "# Ваш код"
      ]
    },
    {
      "cell_type": "markdown",
      "metadata": {
        "id": "ggs5y5NcgcAH"
      },
      "source": [
        "### 2.4. Визуализация процесса обучения модели"
      ]
    },
    {
      "cell_type": "code",
      "execution_count": null,
      "metadata": {
        "id": "McEVBEDNJTBX"
      },
      "outputs": [],
      "source": [
        "# Ваш код"
      ]
    },
    {
      "cell_type": "markdown",
      "metadata": {
        "id": "dE5MsVdegXVj"
      },
      "source": [
        "### 2.5. Подготовьте набор проверочных данных (examples)"
      ]
    },
    {
      "cell_type": "code",
      "execution_count": null,
      "metadata": {
        "id": "3dIj9cRAJTmd"
      },
      "outputs": [],
      "source": [
        "# Ваш код"
      ]
    },
    {
      "cell_type": "markdown",
      "metadata": {
        "id": "uze5snC5KU1g"
      },
      "source": [
        "### 2.6. Реализуйте графический интерфейс для взаимодействия с обученной моделью, используя [Gradio](https://www.gradio.app/guides/image-classification-in-tensorflow). В качестве примеров (параметр examples в Gradio), используйте изображения из списка images (п.1.2.)"
      ]
    },
    {
      "cell_type": "code",
      "execution_count": null,
      "metadata": {
        "id": "c9T3tqh5KU1g"
      },
      "outputs": [],
      "source": [
        "# Ваш код"
      ]
    },
    {
      "cell_type": "markdown",
      "source": [
        "# Задание 3. Классификация набора пространственных данных EuroSat (для магистров)"
      ],
      "metadata": {
        "id": "qXvOfM3LsO8t"
      }
    },
    {
      "cell_type": "markdown",
      "source": [
        "- Ссылка на датасет: https://github.com/phelber/eurosat"
      ],
      "metadata": {
        "id": "AMD2EaACtGul"
      }
    },
    {
      "cell_type": "markdown",
      "source": [
        "- Описание на kaggle: https://www.kaggle.com/datasets/apollo2506/eurosat-dataset"
      ],
      "metadata": {
        "id": "bso0UfzEtUMP"
      }
    },
    {
      "cell_type": "markdown",
      "source": [
        "В этом задании Вам будет предоставлен набор данных EuroSat, который содержит снимки земной поверхности, снятые спутником Sentinel-2. Вам нужно будет обучить модель для классификации этих изображений на 10 классов, представляющих различные типы земного покрова."
      ],
      "metadata": {
        "id": "IsbNo_c7tl-Q"
      }
    },
    {
      "cell_type": "markdown",
      "source": [
        "### **3.1. Загрузка данных:**\n",
        "  * [Скачайте](https://madm.dfki.de/files/sentinel/EuroSAT.zip) набор данных EuroSat\n",
        "  * Разделите данные на обучающую, валидационную и тестовую выборки.\n",
        "\n"
      ],
      "metadata": {
        "id": "ABZXaTrTuNK3"
      }
    },
    {
      "cell_type": "code",
      "source": [
        "# Ваш код"
      ],
      "metadata": {
        "id": "ss5NC9XUvndt"
      },
      "execution_count": null,
      "outputs": []
    },
    {
      "cell_type": "markdown",
      "source": [
        "### **3.2. Выбор архитектуры нейронной сети:**\n",
        "  * Выберите архитектуру нейронной сети, основанную на трансферном обучении, например, ResNet50, VGG16 или InceptionV3 ([полный список](https://keras.io/api/applications/)).\n",
        "  * Загрузите предобученную модель выбранной архитектуры.\n"
      ],
      "metadata": {
        "id": "DYRnjsn-ur4S"
      }
    },
    {
      "cell_type": "code",
      "source": [
        "# Ваш код"
      ],
      "metadata": {
        "id": "Szsddhy6vqqo"
      },
      "execution_count": null,
      "outputs": []
    },
    {
      "cell_type": "markdown",
      "source": [
        "### **3.3. Дообучение модели:**\n",
        "  * Добавьте к предобученной модели несколько слоев для классификации изображений EuroSat.\n",
        "  * Обучите модель на обучающей выборке."
      ],
      "metadata": {
        "id": "E65auJMhutfW"
      }
    },
    {
      "cell_type": "code",
      "source": [
        "# Ваш код"
      ],
      "metadata": {
        "id": "MVt7cwIuvrGS"
      },
      "execution_count": null,
      "outputs": []
    },
    {
      "cell_type": "markdown",
      "source": [
        "\n",
        "\n",
        "### **3.4. Оценка модели:**\n",
        "  * Оцените производительность модели на валидационной и тестовой выборках.\n",
        "  * Сравните результаты с другими архитектурами нейронных сетей.\n",
        "\n"
      ],
      "metadata": {
        "id": "fx9cMww9ut7d"
      }
    },
    {
      "cell_type": "code",
      "source": [
        "# Ваш код"
      ],
      "metadata": {
        "id": "ICsYHX-5vrkl"
      },
      "execution_count": null,
      "outputs": []
    },
    {
      "cell_type": "markdown",
      "source": [
        "### **3.5. Анализ результатов:**\n",
        "  * Проанализируйте влияние различных параметров на производительность модели, таких как:\n",
        "      * Количество эпох обучения\n",
        "      * Размер пакета\n",
        "      * Функция активации\n",
        "      * Оптимизатор\n",
        "      * Регуляризация"
      ],
      "metadata": {
        "id": "SiNt9de-uynO"
      }
    },
    {
      "cell_type": "markdown",
      "source": [
        "-----------------------------------------\n",
        "**Ваш вывод**\n",
        "-----------------------------------------\n"
      ],
      "metadata": {
        "id": "Gk-J_JDjvtEV"
      }
    }
  ]
}